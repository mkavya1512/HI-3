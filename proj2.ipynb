{
 "cells": [
  {
   "cell_type": "code",
   "execution_count": 1,
   "metadata": {
    "deletable": false,
    "editable": false
   },
   "outputs": [],
   "source": [
    "# Initialize Otter\n",
    "import otter\n",
    "grader = otter.Notebook()"
   ]
  },
  {
   "cell_type": "markdown",
   "metadata": {},
   "source": [
    "# Project 2: Spam/Ham Classification\n",
    "## Feature Engineering, Logistic Regression, Cross Validation\n",
    "## Due Date: Monday 11/30, 11:59 PM PST\n",
    "\n",
    "**Collaboration Policy**\n",
    "\n",
    "Data science is a collaborative activity. While you may talk with others about\n",
    "the project, we ask that you **write your solutions individually**. If you do\n",
    "discuss the assignments with others please **include their names** at the top\n",
    "of your notebook."
   ]
  },
  {
   "cell_type": "markdown",
   "metadata": {},
   "source": [
    "**Collaborators**: *list collaborators here*"
   ]
  },
  {
   "cell_type": "markdown",
   "metadata": {
    "nbgrader": {
     "grade": false,
     "grade_id": "proj2",
     "locked": true,
     "schema_version": 2,
     "solution": false
    }
   },
   "source": [
    "## This Assignment\n",
    "In this project, you will use what you've learned in class to create a classifier that can distinguish spam (junk or commercial or bulk) emails from ham (non-spam) emails. In addition to providing some skeleton code to fill in, we will evaluate your work based on your model's accuracy and your written responses in this notebook.\n",
    "\n",
    "After this project, you should feel comfortable with the following:\n",
    "\n",
    "- Feature engineering with text data\n",
    "- Using `sklearn` libraries to process data and fit models\n",
    "- Validating the performance of your model and minimizing overfitting\n",
    "- Generating and analyzing precision-recall curves\n",
    "\n",
    "## Warning\n",
    "This is a **real world** dataset– the emails you are trying to classify are actual spam and legitimate emails. As a result, some of the spam emails may be in poor taste or be considered inappropriate. We think the benefit of working with realistic data outweighs these innapropriate emails, and wanted to give a warning at the beginning of the project so that you are made aware."
   ]
  },
  {
   "cell_type": "markdown",
   "metadata": {},
   "source": [
    "## Disclaimer about `sns.distplot()`\n",
    "\n",
    "This project was designed for a slightly older version of seaborn, which does not support the new `displot` method taught in Lecture 9. Instead, in this project will occasionally call `distplot` (with a `t`). As you may have noticed in several of the previous assignments, use of the `distplot` function triggers a deprecation warning to notify the user that they should replace all deprecated functions with the updated version. Generally, warnings should not be suppressed but we will do so in this assignment to avoid cluttering.\n",
    "\n",
    "See the seaborn documentation on [distributions](https://seaborn.pydata.org/tutorial/distributions.html) and [functions](https://seaborn.pydata.org/tutorial/function_overview.html) for more details."
   ]
  },
  {
   "cell_type": "code",
   "execution_count": 2,
   "metadata": {},
   "outputs": [],
   "source": [
    "# Run this cell to suppress all FutureWarnings\n",
    "import warnings\n",
    "warnings.filterwarnings(\"ignore\", category=FutureWarning)"
   ]
  },
  {
   "cell_type": "markdown",
   "metadata": {},
   "source": [
    "## Score Breakdown\n",
    "Question | Points\n",
    "--- | ---\n",
    "1a | 1\n",
    "1b | 1\n",
    "1c | 2\n",
    "2 | 3\n",
    "3a | 2\n",
    "3b | 2\n",
    "4 | 2\n",
    "5 | 2\n",
    "6a | 1\n",
    "6b | 1\n",
    "6c | 2\n",
    "6d | 2\n",
    "6e | 1\n",
    "6f | 3\n",
    "7 | 6\n",
    "8 | 6\n",
    "9 | 3\n",
    "10 | 15\n",
    "Total | 55"
   ]
  },
  {
   "cell_type": "markdown",
   "metadata": {
    "nbgrader": {
     "grade": false,
     "grade_id": "p1",
     "locked": true,
     "schema_version": 2,
     "solution": false
    }
   },
   "source": [
    "# Part I - Initial Analysis"
   ]
  },
  {
   "cell_type": "code",
   "execution_count": 3,
   "metadata": {
    "ExecuteTime": {
     "end_time": "2019-04-03T20:17:41.341673Z",
     "start_time": "2019-04-03T20:17:41.330307Z"
    },
    "nbgrader": {
     "grade": false,
     "grade_id": "imports",
     "locked": true,
     "schema_version": 2,
     "solution": false
    }
   },
   "outputs": [],
   "source": [
    "import numpy as np\n",
    "import pandas as pd\n",
    "\n",
    "import matplotlib.pyplot as plt\n",
    "%matplotlib inline\n",
    "\n",
    "import seaborn as sns\n",
    "sns.set(style = \"whitegrid\", \n",
    "        color_codes = True,\n",
    "        font_scale = 1.5)"
   ]
  },
  {
   "cell_type": "markdown",
   "metadata": {
    "nbgrader": {
     "grade": false,
     "grade_id": "loading",
     "locked": true,
     "schema_version": 2,
     "solution": false
    }
   },
   "source": [
    "### Loading in the Data\n",
    "\n",
    "In email classification, our goal is to classify emails as spam or not spam (referred to as \"ham\") using features generated from the text in the email. \n",
    "\n",
    "The dataset consists of email messages and their labels (0 for ham, 1 for spam). Your labeled training dataset contains 8348 labeled examples, and the unlabeled test set contains 1000 unlabeled examples.\n",
    "\n",
    "Run the following cells to load in the data into DataFrames.\n",
    "\n",
    "The `train` DataFrame contains labeled data that you will use to train your model. It contains four columns:\n",
    "\n",
    "1. `id`: An identifier for the training example\n",
    "1. `subject`: The subject of the email\n",
    "1. `email`: The text of the email\n",
    "1. `spam`: 1 if the email is spam, 0 if the email is ham (not spam)\n",
    "\n",
    "The `test` DataFrame contains 1000 unlabeled emails. You will predict labels for these emails and submit your predictions to the autograder for evaluation."
   ]
  },
  {
   "cell_type": "code",
   "execution_count": 4,
   "metadata": {
    "ExecuteTime": {
     "end_time": "2019-04-03T20:17:42.181245Z",
     "start_time": "2019-04-03T20:17:41.343927Z"
    },
    "nbgrader": {
     "grade": false,
     "grade_id": "fetch-data",
     "locked": true,
     "schema_version": 2,
     "solution": false
    },
    "scrolled": true
   },
   "outputs": [
    {
     "name": "stdout",
     "output_type": "stream",
     "text": [
      "Using version already downloaded: Sun Nov 15 00:25:06 2020\n",
      "MD5 hash of file: 0380c4cf72746622947b9ca5db9b8be8\n",
      "Using version already downloaded: Sun Nov 15 00:25:07 2020\n",
      "MD5 hash of file: a2e7abd8c7d9abf6e6fafc1d1f9ee6bf\n"
     ]
    },
    {
     "data": {
      "text/html": [
       "<div>\n",
       "<style scoped>\n",
       "    .dataframe tbody tr th:only-of-type {\n",
       "        vertical-align: middle;\n",
       "    }\n",
       "\n",
       "    .dataframe tbody tr th {\n",
       "        vertical-align: top;\n",
       "    }\n",
       "\n",
       "    .dataframe thead th {\n",
       "        text-align: right;\n",
       "    }\n",
       "</style>\n",
       "<table border=\"1\" class=\"dataframe\">\n",
       "  <thead>\n",
       "    <tr style=\"text-align: right;\">\n",
       "      <th></th>\n",
       "      <th>id</th>\n",
       "      <th>subject</th>\n",
       "      <th>email</th>\n",
       "      <th>spam</th>\n",
       "    </tr>\n",
       "  </thead>\n",
       "  <tbody>\n",
       "    <tr>\n",
       "      <th>0</th>\n",
       "      <td>0</td>\n",
       "      <td>Subject: A&amp;L Daily to be auctioned in bankrupt...</td>\n",
       "      <td>url: http://boingboing.net/#85534171\\n date: n...</td>\n",
       "      <td>0</td>\n",
       "    </tr>\n",
       "    <tr>\n",
       "      <th>1</th>\n",
       "      <td>1</td>\n",
       "      <td>Subject: Wired: \"Stronger ties between ISPs an...</td>\n",
       "      <td>url: http://scriptingnews.userland.com/backiss...</td>\n",
       "      <td>0</td>\n",
       "    </tr>\n",
       "    <tr>\n",
       "      <th>2</th>\n",
       "      <td>2</td>\n",
       "      <td>Subject: It's just too small                  ...</td>\n",
       "      <td>&lt;html&gt;\\n &lt;head&gt;\\n &lt;/head&gt;\\n &lt;body&gt;\\n &lt;font siz...</td>\n",
       "      <td>1</td>\n",
       "    </tr>\n",
       "    <tr>\n",
       "      <th>3</th>\n",
       "      <td>3</td>\n",
       "      <td>Subject: liberal defnitions\\n</td>\n",
       "      <td>depends on how much over spending vs. how much...</td>\n",
       "      <td>0</td>\n",
       "    </tr>\n",
       "    <tr>\n",
       "      <th>4</th>\n",
       "      <td>4</td>\n",
       "      <td>Subject: RE: [ILUG] Newbie seeks advice - Suse...</td>\n",
       "      <td>hehe sorry but if you hit caps lock twice the ...</td>\n",
       "      <td>0</td>\n",
       "    </tr>\n",
       "  </tbody>\n",
       "</table>\n",
       "</div>"
      ],
      "text/plain": [
       "   id                                            subject  \\\n",
       "0   0  Subject: A&L Daily to be auctioned in bankrupt...   \n",
       "1   1  Subject: Wired: \"Stronger ties between ISPs an...   \n",
       "2   2  Subject: It's just too small                  ...   \n",
       "3   3                      Subject: liberal defnitions\\n   \n",
       "4   4  Subject: RE: [ILUG] Newbie seeks advice - Suse...   \n",
       "\n",
       "                                               email  spam  \n",
       "0  url: http://boingboing.net/#85534171\\n date: n...     0  \n",
       "1  url: http://scriptingnews.userland.com/backiss...     0  \n",
       "2  <html>\\n <head>\\n </head>\\n <body>\\n <font siz...     1  \n",
       "3  depends on how much over spending vs. how much...     0  \n",
       "4  hehe sorry but if you hit caps lock twice the ...     0  "
      ]
     },
     "execution_count": 4,
     "metadata": {},
     "output_type": "execute_result"
    }
   ],
   "source": [
    "from utils import fetch_and_cache_gdrive\n",
    "fetch_and_cache_gdrive('1SCASpLZFKCp2zek-toR3xeKX3DZnBSyp', 'train.csv')\n",
    "fetch_and_cache_gdrive('1ZDFo9OTF96B5GP2Nzn8P8-AL7CTQXmC0', 'test.csv')\n",
    "\n",
    "original_training_data = pd.read_csv('data/train.csv')\n",
    "test = pd.read_csv('data/test.csv')\n",
    "\n",
    "# Convert the emails to lower case as a first step to processing the text\n",
    "original_training_data['email'] = original_training_data['email'].str.lower()\n",
    "test['email'] = test['email'].str.lower()\n",
    "\n",
    "original_training_data.head()"
   ]
  },
  {
   "cell_type": "markdown",
   "metadata": {
    "deletable": false,
    "editable": false,
    "nbgrader": {
     "grade": false,
     "grade_id": "cell-34476156ed73b800",
     "locked": true,
     "schema_version": 2,
     "solution": false
    }
   },
   "source": [
    "### Question 1a\n",
    "First, let's check if our data contains any missing values. Fill in the cell below to print the number of NaN values in each column. If there are NaN values, replace them with appropriate filler values (i.e., NaN values in the `subject` or `email` columns should be replaced with empty strings). Print the number of NaN values in each column after this modification to verify that there are no NaN values left.\n",
    "\n",
    "Note that while there are no NaN values in the `spam` column, we should be careful when replacing NaN labels. Doing so without consideration may introduce significant bias into our model when fitting.\n",
    "\n",
    "*The provided test checks that there are no missing values in your dataset.*\n",
    "\n",
    "<!--\n",
    "BEGIN QUESTION\n",
    "name: q1a\n",
    "points: 1\n",
    "-->"
   ]
  },
  {
   "cell_type": "code",
   "execution_count": 5,
   "metadata": {
    "ExecuteTime": {
     "end_time": "2019-04-03T20:17:42.203231Z",
     "start_time": "2019-04-03T20:17:42.185104Z"
    },
    "nbgrader": {
     "grade": false,
     "grade_id": "cell-b1fb39d9b651ca1b",
     "locked": false,
     "schema_version": 2,
     "solution": true
    }
   },
   "outputs": [
    {
     "name": "stdout",
     "output_type": "stream",
     "text": [
      "6\n",
      "0\n",
      "0\n",
      "0\n"
     ]
    }
   ],
   "source": [
    "print(original_training_data[\"subject\"].isnull().sum())\n",
    "print(original_training_data[\"email\"].isnull().sum())\n",
    "print(original_training_data[\"id\"].isnull().sum())\n",
    "print(original_training_data[\"spam\"].isnull().sum())\n",
    "values = {'id': '', 'subject': '', 'email': '', 'spam': ''} \n",
    "#original_training_data.replace(np.nan,'', regex = True,inplace = True)\n",
    "original_training_data = original_training_data.fillna(value = values)"
   ]
  },
  {
   "cell_type": "code",
   "execution_count": 6,
   "metadata": {
    "deletable": false,
    "editable": false,
    "scrolled": false
   },
   "outputs": [
    {
     "data": {
      "text/html": [
       "\n",
       "    \n",
       "    \n",
       "        <p>All tests passed!</p>\n",
       "    \n",
       "    "
      ],
      "text/plain": [
       "\n",
       "    All tests passed!\n",
       "    "
      ]
     },
     "execution_count": 6,
     "metadata": {},
     "output_type": "execute_result"
    }
   ],
   "source": [
    "grader.check(\"q1a\")"
   ]
  },
  {
   "cell_type": "markdown",
   "metadata": {
    "deletable": false,
    "editable": false,
    "nbgrader": {
     "grade": false,
     "grade_id": "q1",
     "locked": true,
     "schema_version": 2,
     "solution": false
    }
   },
   "source": [
    "### Question 1b\n",
    "\n",
    "In the cell below, print the text of the `email` field for the first ham and the first spam email in the original training set.\n",
    "\n",
    "*The provided tests just ensure that you have assigned `first_ham` and `first_spam` to rows in the data, but only the hidden tests check that you selected the correct observations.*\n",
    "\n",
    "<!--\n",
    "BEGIN QUESTION\n",
    "name: q1b\n",
    "points: 1\n",
    "-->"
   ]
  },
  {
   "cell_type": "code",
   "execution_count": 7,
   "metadata": {
    "ExecuteTime": {
     "end_time": "2019-04-03T20:17:42.247245Z",
     "start_time": "2019-04-03T20:17:42.228451Z"
    },
    "nbgrader": {
     "grade": false,
     "grade_id": "q1-answer",
     "locked": false,
     "schema_version": 2,
     "solution": true
    }
   },
   "outputs": [
    {
     "name": "stdout",
     "output_type": "stream",
     "text": [
      "url: http://boingboing.net/#85534171\n",
      " date: not supplied\n",
      " \n",
      " arts and letters daily, a wonderful and dense blog, has folded up its tent due \n",
      " to the bankruptcy of its parent company. a&l daily will be auctioned off by the \n",
      " receivers. link[1] discuss[2] (_thanks, misha!_)\n",
      " \n",
      " [1] http://www.aldaily.com/\n",
      " [2] http://www.quicktopic.com/boing/h/zlfterjnd6jf\n",
      " \n",
      " \n",
      "\n",
      "<html>\n",
      " <head>\n",
      " </head>\n",
      " <body>\n",
      " <font size=3d\"4\"><b> a man endowed with a 7-8\" hammer is simply<br>\n",
      "  better equipped than a man with a 5-6\"hammer. <br>\n",
      " <br>would you rather have<br>more than enough to get the job done or fall =\n",
      " short. it's totally up<br>to you. our methods are guaranteed to increase y=\n",
      " our size by 1-3\"<br> <a href=3d\"http://209.163.187.47/cgi-bin/index.php?10=\n",
      " 004\">come in here and see how</a>\n",
      " </body>\n",
      " </html>\n",
      " \n",
      " \n",
      " \n",
      "\n"
     ]
    }
   ],
   "source": [
    "first_ham = original_training_data.groupby([\"spam\"]).agg(\"first\").iloc[0]['email']\n",
    "first_spam = original_training_data.groupby([\"spam\"]).agg(\"first\").iloc[1]['email']\n",
    "print(first_ham)\n",
    "print(first_spam)"
   ]
  },
  {
   "cell_type": "code",
   "execution_count": 8,
   "metadata": {
    "deletable": false,
    "editable": false
   },
   "outputs": [
    {
     "data": {
      "text/html": [
       "\n",
       "    \n",
       "    \n",
       "        <p>All tests passed!</p>\n",
       "    \n",
       "    "
      ],
      "text/plain": [
       "\n",
       "    All tests passed!\n",
       "    "
      ]
     },
     "execution_count": 8,
     "metadata": {},
     "output_type": "execute_result"
    }
   ],
   "source": [
    "grader.check(\"q1b\")"
   ]
  },
  {
   "cell_type": "markdown",
   "metadata": {
    "deletable": false,
    "editable": false
   },
   "source": [
    "<!-- BEGIN QUESTION -->\n",
    "\n",
    "### Question 1c\n",
    "\n",
    "Discuss one thing you notice that is different between the two emails that might relate to the identification of spam.\n",
    "\n",
    "<!--\n",
    "BEGIN QUESTION\n",
    "name: q1c\n",
    "manual: True\n",
    "points: 2\n",
    "-->"
   ]
  },
  {
   "cell_type": "markdown",
   "metadata": {},
   "source": [
    "The ham email uses regular text, while the spam uses html body text for the email."
   ]
  },
  {
   "cell_type": "markdown",
   "metadata": {
    "nbgrader": {
     "grade": false,
     "grade_id": "cell-78513403ef52a957",
     "locked": true,
     "schema_version": 2,
     "solution": false
    }
   },
   "source": [
    "<!-- END QUESTION -->\n",
    "\n",
    "\n",
    "\n",
    "## Training Validation Split\n",
    "The training data we downloaded is all the data we have available for both training models and **validating** the models that we train.  We therefore need to split the training data into separate training and validation datsets.  You will need this **validation data** to assess the performance of your classifier once you are finished training. Note that we set the seed (random_state) to 42. This will produce a pseudo-random sequence of random numbers that is the same for every student. **Do not modify this in the following questions, as our tests depend on this random seed.**"
   ]
  },
  {
   "cell_type": "code",
   "execution_count": 9,
   "metadata": {
    "ExecuteTime": {
     "end_time": "2019-04-03T20:17:42.317970Z",
     "start_time": "2019-04-03T20:17:42.294532Z"
    },
    "nbgrader": {
     "grade": false,
     "grade_id": "cell-873194ed3e686dfb",
     "locked": true,
     "schema_version": 2,
     "solution": false
    }
   },
   "outputs": [],
   "source": [
    "# This creates a 90/10 train-validation split on our labeled data\n",
    "\n",
    "from sklearn.model_selection import train_test_split\n",
    "\n",
    "train, val = train_test_split(original_training_data, test_size=0.1, random_state=42)"
   ]
  },
  {
   "cell_type": "markdown",
   "metadata": {
    "nbgrader": {
     "grade": false,
     "grade_id": "feat-eng",
     "locked": true,
     "schema_version": 2,
     "solution": false
    }
   },
   "source": [
    "# Basic Feature Engineering\n",
    "\n",
    "We would like to take the text of an email and predict whether the email is ham or spam. This is a *classification* problem, so we can use logistic regression to train a classifier. Recall that to train an logistic regression model we need a numeric feature matrix $X$ and a vector of corresponding binary labels $y$.  Unfortunately, our data are text, not numbers. To address this, we can create numeric features derived from the email text and use those features for logistic regression.\n",
    "\n",
    "Each row of $X$ is an email. Each column of $X$ contains one feature for all the emails. We'll guide you through creating a simple feature, and you'll create more interesting ones as you try to increase the accuracy of your model."
   ]
  },
  {
   "cell_type": "markdown",
   "metadata": {
    "deletable": false,
    "editable": false,
    "nbgrader": {
     "grade": false,
     "grade_id": "q2",
     "locked": true,
     "schema_version": 2,
     "solution": false
    }
   },
   "source": [
    "### Question 2\n",
    "\n",
    "Create a function called `words_in_texts` that takes in a list of `words` and a pandas Series of email `texts`. It should output a 2-dimensional NumPy array containing one row for each email text. The row should contain either a 0 or a 1 for each word in the list: 0 if the word doesn't appear in the text and 1 if the word does. For example:\n",
    "\n",
    "```\n",
    ">>> words_in_texts(['hello', 'bye', 'world'], \n",
    "                   pd.Series(['hello', 'hello worldhello']))\n",
    "\n",
    "array([[1, 0, 0],\n",
    "       [1, 0, 1]])\n",
    "```\n",
    "\n",
    "*The provided tests make sure that your function works correctly, so that you can use it for future questions.*\n",
    "\n",
    "<!--\n",
    "BEGIN QUESTION\n",
    "name: q2\n",
    "points: 3\n",
    "-->"
   ]
  },
  {
   "cell_type": "code",
   "execution_count": 10,
   "metadata": {
    "ExecuteTime": {
     "end_time": "2019-04-03T20:17:42.337281Z",
     "start_time": "2019-04-03T20:17:42.320567Z"
    },
    "nbgrader": {
     "grade": false,
     "grade_id": "q2-answer",
     "locked": false,
     "schema_version": 2,
     "solution": true
    },
    "tags": [
     "student"
    ]
   },
   "outputs": [],
   "source": [
    "def words_in_texts(words, texts):\n",
    "    '''\n",
    "    Args:\n",
    "        words (list): words to find\n",
    "        texts (Series): strings to search in\n",
    "    \n",
    "    Returns:\n",
    "        NumPy array of 0s and 1s with shape (n, p) where n is the\n",
    "        number of texts and p is the number of words.\n",
    "    '''\n",
    "    indicator_array = [texts.str.contains(i) for i in words]\n",
    "    #[1 if texts.str.contains(i) == True else 0 for i in words]\n",
    "    indicator_array = np.transpose(np.array(indicator_array))*1\n",
    "    return indicator_array"
   ]
  },
  {
   "cell_type": "code",
   "execution_count": 11,
   "metadata": {
    "deletable": false,
    "editable": false
   },
   "outputs": [
    {
     "data": {
      "text/html": [
       "\n",
       "    \n",
       "    \n",
       "        <p>All tests passed!</p>\n",
       "    \n",
       "    "
      ],
      "text/plain": [
       "\n",
       "    All tests passed!\n",
       "    "
      ]
     },
     "execution_count": 11,
     "metadata": {},
     "output_type": "execute_result"
    }
   ],
   "source": [
    "grader.check(\"q2\")"
   ]
  },
  {
   "cell_type": "markdown",
   "metadata": {
    "nbgrader": {
     "grade": false,
     "grade_id": "eda",
     "locked": true,
     "schema_version": 2,
     "solution": false
    }
   },
   "source": [
    "# Basic EDA\n",
    "\n",
    "We need to identify some features that allow us to distinguish spam emails from ham emails. One idea is to compare the distribution of a single feature in spam emails to the distribution of the same feature in ham emails. If the feature is itself a binary indicator, such as whether a certain word occurs in the text, this amounts to comparing the proportion of spam emails with the word to the proportion of ham emails with the word.\n"
   ]
  },
  {
   "cell_type": "markdown",
   "metadata": {
    "nbgrader": {
     "grade": false,
     "grade_id": "q3a",
     "locked": true,
     "schema_version": 2,
     "solution": false
    }
   },
   "source": [
    "The following plot (which was created using `sns.barplot`) compares the proportion of emails in each class containing a particular set of words. \n",
    "\n",
    "![training conditional proportions](images/training_conditional_proportions.png)\n",
    "\n",
    "You can use DataFrame's `.melt` method to \"unpivot\" a DataFrame. See the following code cell for an example."
   ]
  },
  {
   "cell_type": "code",
   "execution_count": 12,
   "metadata": {
    "ExecuteTime": {
     "end_time": "2019-04-03T20:17:42.428419Z",
     "start_time": "2019-04-03T20:17:42.386697Z"
    }
   },
   "outputs": [
    {
     "data": {
      "text/markdown": [
       "> Our Original DataFrame has a `type` column and some columns corresponding to words. You can think of each row as a sentence, and the value of 1 or 0 indicates the number of occurences of the word in this sentence."
      ],
      "text/plain": [
       "<IPython.core.display.Markdown object>"
      ]
     },
     "metadata": {},
     "output_type": "display_data"
    },
    {
     "data": {
      "text/html": [
       "<div>\n",
       "<style scoped>\n",
       "    .dataframe tbody tr th:only-of-type {\n",
       "        vertical-align: middle;\n",
       "    }\n",
       "\n",
       "    .dataframe tbody tr th {\n",
       "        vertical-align: top;\n",
       "    }\n",
       "\n",
       "    .dataframe thead th {\n",
       "        text-align: right;\n",
       "    }\n",
       "</style>\n",
       "<table border=\"1\" class=\"dataframe\">\n",
       "  <thead>\n",
       "    <tr style=\"text-align: right;\">\n",
       "      <th></th>\n",
       "      <th>word_1</th>\n",
       "      <th>word_2</th>\n",
       "      <th>type</th>\n",
       "    </tr>\n",
       "  </thead>\n",
       "  <tbody>\n",
       "    <tr>\n",
       "      <th>0</th>\n",
       "      <td>1</td>\n",
       "      <td>0</td>\n",
       "      <td>spam</td>\n",
       "    </tr>\n",
       "    <tr>\n",
       "      <th>1</th>\n",
       "      <td>0</td>\n",
       "      <td>1</td>\n",
       "      <td>ham</td>\n",
       "    </tr>\n",
       "    <tr>\n",
       "      <th>2</th>\n",
       "      <td>1</td>\n",
       "      <td>0</td>\n",
       "      <td>ham</td>\n",
       "    </tr>\n",
       "    <tr>\n",
       "      <th>3</th>\n",
       "      <td>0</td>\n",
       "      <td>1</td>\n",
       "      <td>ham</td>\n",
       "    </tr>\n",
       "  </tbody>\n",
       "</table>\n",
       "</div>"
      ],
      "text/plain": [
       "   word_1  word_2  type\n",
       "0       1       0  spam\n",
       "1       0       1   ham\n",
       "2       1       0   ham\n",
       "3       0       1   ham"
      ]
     },
     "metadata": {},
     "output_type": "display_data"
    },
    {
     "data": {
      "text/markdown": [
       "> `melt` will turn columns into entries in a variable column. Notice how `word_1` and `word_2` become entries in `variable`; their values are stored in the value column."
      ],
      "text/plain": [
       "<IPython.core.display.Markdown object>"
      ]
     },
     "metadata": {},
     "output_type": "display_data"
    },
    {
     "data": {
      "text/html": [
       "<div>\n",
       "<style scoped>\n",
       "    .dataframe tbody tr th:only-of-type {\n",
       "        vertical-align: middle;\n",
       "    }\n",
       "\n",
       "    .dataframe tbody tr th {\n",
       "        vertical-align: top;\n",
       "    }\n",
       "\n",
       "    .dataframe thead th {\n",
       "        text-align: right;\n",
       "    }\n",
       "</style>\n",
       "<table border=\"1\" class=\"dataframe\">\n",
       "  <thead>\n",
       "    <tr style=\"text-align: right;\">\n",
       "      <th></th>\n",
       "      <th>type</th>\n",
       "      <th>variable</th>\n",
       "      <th>value</th>\n",
       "    </tr>\n",
       "  </thead>\n",
       "  <tbody>\n",
       "    <tr>\n",
       "      <th>0</th>\n",
       "      <td>spam</td>\n",
       "      <td>word_1</td>\n",
       "      <td>1</td>\n",
       "    </tr>\n",
       "    <tr>\n",
       "      <th>1</th>\n",
       "      <td>ham</td>\n",
       "      <td>word_1</td>\n",
       "      <td>0</td>\n",
       "    </tr>\n",
       "    <tr>\n",
       "      <th>2</th>\n",
       "      <td>ham</td>\n",
       "      <td>word_1</td>\n",
       "      <td>1</td>\n",
       "    </tr>\n",
       "    <tr>\n",
       "      <th>3</th>\n",
       "      <td>ham</td>\n",
       "      <td>word_1</td>\n",
       "      <td>0</td>\n",
       "    </tr>\n",
       "    <tr>\n",
       "      <th>4</th>\n",
       "      <td>spam</td>\n",
       "      <td>word_2</td>\n",
       "      <td>0</td>\n",
       "    </tr>\n",
       "    <tr>\n",
       "      <th>5</th>\n",
       "      <td>ham</td>\n",
       "      <td>word_2</td>\n",
       "      <td>1</td>\n",
       "    </tr>\n",
       "    <tr>\n",
       "      <th>6</th>\n",
       "      <td>ham</td>\n",
       "      <td>word_2</td>\n",
       "      <td>0</td>\n",
       "    </tr>\n",
       "    <tr>\n",
       "      <th>7</th>\n",
       "      <td>ham</td>\n",
       "      <td>word_2</td>\n",
       "      <td>1</td>\n",
       "    </tr>\n",
       "  </tbody>\n",
       "</table>\n",
       "</div>"
      ],
      "text/plain": [
       "   type variable  value\n",
       "0  spam   word_1      1\n",
       "1   ham   word_1      0\n",
       "2   ham   word_1      1\n",
       "3   ham   word_1      0\n",
       "4  spam   word_2      0\n",
       "5   ham   word_2      1\n",
       "6   ham   word_2      0\n",
       "7   ham   word_2      1"
      ]
     },
     "metadata": {},
     "output_type": "display_data"
    }
   ],
   "source": [
    "from IPython.display import display, Markdown\n",
    "df = pd.DataFrame({\n",
    "    'word_1': [1, 0, 1, 0],\n",
    "    'word_2': [0, 1, 0, 1],\n",
    "    'type': ['spam', 'ham', 'ham', 'ham']\n",
    "})\n",
    "display(Markdown(\"> Our Original DataFrame has a `type` column and some columns corresponding to words. You can think of each row as a sentence, and the value of 1 or 0 indicates the number of occurences of the word in this sentence.\"))\n",
    "display(df);\n",
    "display(Markdown(\"> `melt` will turn columns into entries in a variable column. Notice how `word_1` and `word_2` become entries in `variable`; their values are stored in the value column.\"))\n",
    "display(df.melt(\"type\"))"
   ]
  },
  {
   "cell_type": "markdown",
   "metadata": {
    "deletable": false,
    "editable": false
   },
   "source": [
    "<!-- BEGIN QUESTION -->\n",
    "\n",
    "### Question 3a\n",
    "\n",
    "Create a bar chart like the one above comparing the proportion of spam and ham emails containing certain words. Choose a set of words that are different from the ones above, but also have different proportions for the two classes. Make sure to only consider emails from `train`.\n",
    "\n",
    "<!--\n",
    "BEGIN QUESTION\n",
    "name: q3a\n",
    "manual: True\n",
    "format: image\n",
    "points: 2\n",
    "-->"
   ]
  },
  {
   "cell_type": "code",
   "execution_count": 44,
   "metadata": {
    "ExecuteTime": {
     "end_time": "2019-04-03T20:17:43.145246Z",
     "start_time": "2019-04-03T20:17:42.430406Z"
    },
    "nbgrader": {
     "grade": true,
     "grade_id": "q3a-answer",
     "locked": false,
     "points": 2,
     "schema_version": 2,
     "solution": true
    },
    "scrolled": true
   },
   "outputs": [
    {
     "data": {
      "text/plain": [
       "Text(0.5, 1.0, 'Frequency of Words in Spam/Ham Emails')"
      ]
     },
     "execution_count": 44,
     "metadata": {},
     "output_type": "execute_result"
    },
    {
     "data": {
      "image/png": "[encoded data removed]",
      "text/plain": [
       "<Figure size 1080x720 with 1 Axes>"
      ]
     },
     "metadata": {},
     "output_type": "display_data"
    }
   ],
   "source": [
    "train=train.reset_index(drop=True) # We must do this in order to preserve the ordering of emails to labels for words_in_texts\n",
    "words = ['problem', 'sale', 'thanks', 'please', 'lose',\"content\"]\n",
    "indicators_w = pd.DataFrame(words_in_texts(words, train['email']),columns= words)\n",
    "indicators_w['spam'] = train['spam']\n",
    "indicators_w= indicators_w.melt('spam')\n",
    "indicators_w = indicators_w.groupby(['spam','variable']).agg(np.mean).reset_index()\n",
    "plt.figure(figsize = (15,10))\n",
    "sns.barplot(data= indicators_w,x = 'variable', y='value',hue = 'spam')\n",
    "plt.title(\"Frequency of Words in Spam/Ham Emails\")"
   ]
  },
  {
   "cell_type": "markdown",
   "metadata": {
    "nbgrader": {
     "grade": false,
     "grade_id": "q3b",
     "locked": true,
     "schema_version": 2,
     "solution": false
    }
   },
   "source": [
    "<!-- END QUESTION -->\n",
    "\n",
    "\n",
    "\n",
    "When the feature is binary, it makes sense to compare its proportions across classes (as in the previous question). Otherwise, if the feature can take on numeric values, we can compare the distributions of these values for different classes. "
   ]
  },
  {
   "cell_type": "markdown",
   "metadata": {
    "deletable": false,
    "editable": false
   },
   "source": [
    "<!-- BEGIN QUESTION -->\n",
    "\n",
    "### Question 3b\n",
    "\n",
    "![training conditional densities](images/training_conditional_densities.png)\n",
    "\n",
    "Create a *class conditional density plot* like the one above (using `sns.distplot`), comparing the distribution of the length of spam emails to the distribution of the length of ham emails in the training set. Set the x-axis limit from 0 to 50000.\n",
    "\n",
    "<!--\n",
    "BEGIN QUESTION\n",
    "name: q3b\n",
    "manual: True\n",
    "format: image\n",
    "points: 2\n",
    "-->"
   ]
  },
  {
   "cell_type": "code",
   "execution_count": 14,
   "metadata": {
    "ExecuteTime": {
     "end_time": "2019-04-03T20:17:43.492661Z",
     "start_time": "2019-04-03T20:17:43.149431Z"
    },
    "nbgrader": {
     "grade": true,
     "grade_id": "q3b-answer",
     "locked": false,
     "points": 2,
     "schema_version": 2,
     "solution": true
    }
   },
   "outputs": [
    {
     "data": {
      "image/png": "[encoded data removed]",
      "text/plain": [
       "<Figure size 720x432 with 1 Axes>"
      ]
     },
     "metadata": {},
     "output_type": "display_data"
    }
   ],
   "source": [
    "plt.figure(figsize = (10,6))\n",
    "sns.distplot(train[train[\"spam\"]==0]['email'].str.len(),hist = False, label = 'Ham')\n",
    "sns.distplot(train[train[\"spam\"]==1]['email'].str.len(),hist = False, label = 'Spam')\n",
    "plt.xlabel('Length of email body')\n",
    "plt.xlim(0,50000)\n",
    "plt.title(\"Distribution of Email Body Length\")\n",
    "plt.legend()\n",
    "plt.savefig('training_conditional_densities.png')"
   ]
  },
  {
   "cell_type": "markdown",
   "metadata": {
    "nbgrader": {
     "grade": false,
     "grade_id": "classification",
     "locked": true,
     "schema_version": 2,
     "solution": false
    }
   },
   "source": [
    "<!-- END QUESTION -->\n",
    "\n",
    "\n",
    "\n",
    "# Basic Classification\n",
    "\n",
    "Notice that the output of `words_in_texts(words, train['email'])` is a numeric matrix containing features for each email. This means we can use it directly to train a classifier!"
   ]
  },
  {
   "cell_type": "markdown",
   "metadata": {
    "deletable": false,
    "editable": false,
    "nbgrader": {
     "grade": false,
     "grade_id": "q4",
     "locked": true,
     "schema_version": 2,
     "solution": false
    }
   },
   "source": [
    "### Question 4\n",
    "\n",
    "We've given you 5 words that might be useful as features to distinguish spam/ham emails. Use these words as well as the `train` DataFrame to create two NumPy arrays: `X_train` and `Y_train`.\n",
    "\n",
    "`X_train` should be a matrix of 0s and 1s created by using your `words_in_texts` function on all the emails in the training set.\n",
    "\n",
    "`Y_train` should be a vector of the correct labels for each email in the training set.\n",
    "\n",
    "*The provided tests check that the dimensions of your feature matrix (X) are correct, and that your features and labels are binary (i.e. consists of only 0's and 1's). It does not check that your function is correct; that was verified in a previous question.*\n",
    "<!--\n",
    "BEGIN QUESTION\n",
    "name: q4\n",
    "points: 2\n",
    "-->"
   ]
  },
  {
   "cell_type": "code",
   "execution_count": 15,
   "metadata": {
    "ExecuteTime": {
     "end_time": "2019-04-03T20:17:43.726012Z",
     "start_time": "2019-04-03T20:17:43.498088Z"
    },
    "nbgrader": {
     "grade": false,
     "grade_id": "q4-answer",
     "locked": false,
     "schema_version": 2,
     "solution": true
    },
    "tags": [
     "student"
    ]
   },
   "outputs": [
    {
     "data": {
      "text/plain": [
       "(array([[0, 0, 0, 0, 0],\n",
       "        [0, 0, 0, 0, 0],\n",
       "        [0, 0, 0, 0, 0],\n",
       "        [0, 0, 0, 0, 0],\n",
       "        [0, 0, 0, 1, 0]]),\n",
       " array([0, 0, 0, 0, 0]))"
      ]
     },
     "execution_count": 15,
     "metadata": {},
     "output_type": "execute_result"
    }
   ],
   "source": [
    "some_words = ['drug', 'bank', 'prescription', 'memo', 'private']\n",
    "\n",
    "X_train = words_in_texts(some_words, train[\"email\"])\n",
    "Y_train = np.array(train[\"spam\"])\n",
    "\n",
    "X_train[:5], Y_train[:5]"
   ]
  },
  {
   "cell_type": "code",
   "execution_count": 16,
   "metadata": {
    "deletable": false,
    "editable": false
   },
   "outputs": [
    {
     "data": {
      "text/html": [
       "\n",
       "    \n",
       "    \n",
       "        <p>All tests passed!</p>\n",
       "    \n",
       "    "
      ],
      "text/plain": [
       "\n",
       "    All tests passed!\n",
       "    "
      ]
     },
     "execution_count": 16,
     "metadata": {},
     "output_type": "execute_result"
    }
   ],
   "source": [
    "grader.check(\"q4\")"
   ]
  },
  {
   "cell_type": "markdown",
   "metadata": {
    "deletable": false,
    "editable": false,
    "nbgrader": {
     "grade": false,
     "grade_id": "q5",
     "locked": true,
     "schema_version": 2,
     "solution": false
    }
   },
   "source": [
    "### Question 5\n",
    "\n",
    "Now that we have matrices, we can build a model with `scikit-learn`! Using the [`LogisticRegression`](http://scikit-learn.org/stable/modules/generated/sklearn.linear_model.LogisticRegression.html) classifier, train a logistic regression model using `X_train` and `Y_train`. Then, output the model's training accuracy below. You should get an accuracy of around $0.75$\n",
    "\n",
    "*The provided test checks that you initialized your logistic regression model correctly.*\n",
    "\n",
    "<!--\n",
    "BEGIN QUESTION\n",
    "name: q5\n",
    "points: 2\n",
    "-->"
   ]
  },
  {
   "cell_type": "code",
   "execution_count": 17,
   "metadata": {
    "ExecuteTime": {
     "end_time": "2019-04-03T20:17:44.593918Z",
     "start_time": "2019-04-03T20:17:43.783872Z"
    },
    "nbgrader": {
     "grade": false,
     "grade_id": "q5-answer",
     "locked": false,
     "schema_version": 2,
     "solution": true
    },
    "tags": [
     "student"
    ]
   },
   "outputs": [
    {
     "name": "stdout",
     "output_type": "stream",
     "text": [
      "Training Accuracy:  0.7576201251164648\n"
     ]
    }
   ],
   "source": [
    "from sklearn.linear_model import LogisticRegression\n",
    "\n",
    "model = LogisticRegression()\n",
    "model.fit(X_train, Y_train)\n",
    "Y_pred = model.predict(X_train)\n",
    "\n",
    "training_accuracy = np.count_nonzero(Y_pred == Y_train)/len(Y_train)\n",
    "print(\"Training Accuracy: \", training_accuracy)"
   ]
  },
  {
   "cell_type": "code",
   "execution_count": 18,
   "metadata": {
    "deletable": false,
    "editable": false
   },
   "outputs": [
    {
     "data": {
      "text/html": [
       "\n",
       "    \n",
       "    \n",
       "        <p>All tests passed!</p>\n",
       "    \n",
       "    "
      ],
      "text/plain": [
       "\n",
       "    All tests passed!\n",
       "    "
      ]
     },
     "execution_count": 18,
     "metadata": {},
     "output_type": "execute_result"
    }
   ],
   "source": [
    "grader.check(\"q5\")"
   ]
  },
  {
   "cell_type": "markdown",
   "metadata": {},
   "source": [
    "## Evaluating Classifiers"
   ]
  },
  {
   "cell_type": "markdown",
   "metadata": {},
   "source": [
    "That doesn't seem too shabby! But the classifier you made above isn't as good as the accuracy would make you believe. First, we are evaluating accuracy on the training set, which may provide a misleading accuracy measure. Accuracy on the training set doesn't always translate to accuracy in the real world (on the test set). In future parts of this analysis, we will hold out some of our data for model validation and comparison.\n",
    "\n",
    "Presumably, our classifier will be used for **filtering**, i.e. preventing messages labeled `spam` from reaching someone's inbox. There are two kinds of errors we can make:\n",
    "- False positive (FP): a ham email gets flagged as spam and filtered out of the inbox.\n",
    "- False negative (FN): a spam email gets mislabeled as ham and ends up in the inbox.\n",
    "\n",
    "To be clear, we label spam emails as 1 and ham emails as 0. These definitions depend both on the true labels and the predicted labels. False positives and false negatives may be of differing importance, leading us to consider more ways of evaluating a classifier, in addition to overall accuracy:\n",
    "\n",
    "**Precision** measures the proportion $\\frac{\\text{TP}}{\\text{TP} + \\text{FP}}$ of emails flagged as spam that are actually spam.\n",
    "\n",
    "**Recall** measures the proportion $\\frac{\\text{TP}}{\\text{TP} + \\text{FN}}$ of spam emails that were correctly flagged as spam. \n",
    "\n",
    "**False-alarm rate** measures the proportion $\\frac{\\text{FP}}{\\text{FP} + \\text{TN}}$ of ham emails that were incorrectly flagged as spam. \n",
    "\n",
    "The two graphics below may help you understand precision and recall visually:\n",
    "\n",
    "<img src=\"https://upload.wikimedia.org/wikipedia/commons/thumb/2/26/Precisionrecall.svg/700px-Precisionrecall.svg.png\" width=\"500px\">\n",
    "\n",
    "Note that a true positive (TP) is a spam email that is classified as spam, and a true negative (TN) is a ham email that is classified as ham."
   ]
  },
  {
   "cell_type": "markdown",
   "metadata": {
    "deletable": false,
    "editable": false,
    "nbgrader": {
     "grade": false,
     "grade_id": "q6",
     "locked": true,
     "schema_version": 2,
     "solution": false
    }
   },
   "source": [
    "### Question 6a\n",
    "\n",
    "Suppose we have a classifier `zero_predictor` that always predicts 0 (never predicts positive). How many false positives and false negatives would this classifier have if it were evaluated on the training set and its results were compared to `Y_train`? Fill in the variables below (feel free to hard code your answers for this part):\n",
    "\n",
    "*Tests in Question 6 only check that you have assigned appropriate types of values to each response variable, but do not check that your answers are correct.*\n",
    "\n",
    "<!--\n",
    "BEGIN QUESTION\n",
    "name: q6a\n",
    "points: 1\n",
    "-->"
   ]
  },
  {
   "cell_type": "code",
   "execution_count": 19,
   "metadata": {
    "ExecuteTime": {
     "end_time": "2019-04-03T20:20:13.853633Z",
     "start_time": "2019-04-03T20:20:13.825724Z"
    },
    "nbgrader": {
     "grade": false,
     "grade_id": "q6a-answer",
     "locked": false,
     "schema_version": 2,
     "solution": true
    }
   },
   "outputs": [
    {
     "data": {
      "text/plain": [
       "(0, 1918)"
      ]
     },
     "execution_count": 19,
     "metadata": {},
     "output_type": "execute_result"
    }
   ],
   "source": [
    "zero_predictor_fp = 0\n",
    "zero_predictor_fn = sum(Y_train == 1)\n",
    "zero_predictor_fp, zero_predictor_fn"
   ]
  },
  {
   "cell_type": "code",
   "execution_count": 20,
   "metadata": {
    "deletable": false,
    "editable": false
   },
   "outputs": [
    {
     "data": {
      "text/html": [
       "\n",
       "    \n",
       "    \n",
       "        <p>All tests passed!</p>\n",
       "    \n",
       "    "
      ],
      "text/plain": [
       "\n",
       "    All tests passed!\n",
       "    "
      ]
     },
     "execution_count": 20,
     "metadata": {},
     "output_type": "execute_result"
    }
   ],
   "source": [
    "grader.check(\"q6a\")"
   ]
  },
  {
   "cell_type": "markdown",
   "metadata": {
    "deletable": false,
    "editable": false
   },
   "source": [
    "### Question 6b\n",
    "\n",
    "What is the accuracy and recall of `zero_predictor` (classifies every email as ham) on the training set? Do **NOT** use any `sklearn` functions.\n",
    "\n",
    "<!--\n",
    "BEGIN QUESTION\n",
    "name: q6b\n",
    "points: 1\n",
    "-->"
   ]
  },
  {
   "cell_type": "code",
   "execution_count": 21,
   "metadata": {
    "ExecuteTime": {
     "end_time": "2019-04-03T20:23:21.553134Z",
     "start_time": "2019-04-03T20:23:21.548219Z"
    },
    "scrolled": true
   },
   "outputs": [
    {
     "data": {
      "text/plain": [
       "(0.7447091707706642, 0)"
      ]
     },
     "execution_count": 21,
     "metadata": {},
     "output_type": "execute_result"
    }
   ],
   "source": [
    "zero_predictor_acc = sum(Y_train == 0)/len(Y_train)\n",
    "zero_predictor_recall = 0\n",
    "zero_predictor_acc, zero_predictor_recall"
   ]
  },
  {
   "cell_type": "code",
   "execution_count": 22,
   "metadata": {
    "deletable": false,
    "editable": false
   },
   "outputs": [
    {
     "data": {
      "text/html": [
       "\n",
       "    \n",
       "    \n",
       "        <p>All tests passed!</p>\n",
       "    \n",
       "    "
      ],
      "text/plain": [
       "\n",
       "    All tests passed!\n",
       "    "
      ]
     },
     "execution_count": 22,
     "metadata": {},
     "output_type": "execute_result"
    }
   ],
   "source": [
    "grader.check(\"q6b\")"
   ]
  },
  {
   "cell_type": "markdown",
   "metadata": {
    "deletable": false,
    "editable": false
   },
   "source": [
    "<!-- BEGIN QUESTION -->\n",
    "\n",
    "### Question 6c\n",
    "\n",
    "Provide brief explanations of the results from 6a and 6b. Why do we observe each of these values (FP, FN, accuracy, recall)?\n",
    "\n",
    "<!--\n",
    "BEGIN QUESTION\n",
    "name: q6c\n",
    "manual: True\n",
    "points: 2\n",
    "-->"
   ]
  },
  {
   "cell_type": "markdown",
   "metadata": {},
   "source": [
    "1. We have 0 false postives because false postives are values that are predicted positive, but actually negative. Since our model never predicts values as positive, there are no false postives. \n",
    "2. We have 1918 false negatives because a false negative is any value that is postive, but is predicted as negative. Since the models predicts only negative values, so all the positive values will be false negatives. Since there are 1918 postive values, there are 1918 false negatives.\n",
    "3. The accuracy is about 0.745 or 74.5%. This is the number ham emails that are actually predicted as ham emails. There are 5595 ham emails that are predicted as ham and a total of 7513 emails in the training set. 5595/7513 esitimated to 0.745\n",
    "4. True positive values are values that are spam or positive and actually predicted as positive. Since no values are predicted as positive, there are no true postives, so recall is 0."
   ]
  },
  {
   "cell_type": "markdown",
   "metadata": {
    "deletable": false,
    "editable": false
   },
   "source": [
    "<!-- END QUESTION -->\n",
    "\n",
    "### Question 6d\n",
    "\n",
    "Compute the precision, recall, and false-alarm rate of the `LogisticRegression` classifier created and trained in Question 5. Do **NOT** use any `sklearn` functions.\n",
    "\n",
    "<!--\n",
    "BEGIN QUESTION\n",
    "name: q6d\n",
    "points: 2\n",
    "-->"
   ]
  },
  {
   "cell_type": "code",
   "execution_count": 23,
   "metadata": {
    "ExecuteTime": {
     "end_time": "2019-04-03T20:37:54.875265Z",
     "start_time": "2019-04-03T20:37:54.720667Z"
    }
   },
   "outputs": [
    {
     "data": {
      "text/plain": [
       "(0.6422287390029325, 0.11418143899895725, 0.021805183199285077)"
      ]
     },
     "execution_count": 23,
     "metadata": {},
     "output_type": "execute_result"
    }
   ],
   "source": [
    "logistic_predictor_precision = sum((Y_train == 1) & (Y_pred == 1))/sum(Y_pred == 1)\n",
    "logistic_predictor_recall =  sum((Y_train == 1) & (Y_pred == 1))/sum(Y_train == 1)\n",
    "logistic_predictor_far = sum((Y_train == 0) & (Y_pred == 1))/ sum(Y_train == 0)\n",
    "logistic_predictor_precision, logistic_predictor_recall, logistic_predictor_far"
   ]
  },
  {
   "cell_type": "code",
   "execution_count": 24,
   "metadata": {
    "deletable": false,
    "editable": false
   },
   "outputs": [
    {
     "data": {
      "text/html": [
       "\n",
       "    \n",
       "    \n",
       "        <p>All tests passed!</p>\n",
       "    \n",
       "    "
      ],
      "text/plain": [
       "\n",
       "    All tests passed!\n",
       "    "
      ]
     },
     "execution_count": 24,
     "metadata": {},
     "output_type": "execute_result"
    }
   ],
   "source": [
    "grader.check(\"q6d\")"
   ]
  },
  {
   "cell_type": "markdown",
   "metadata": {
    "deletable": false,
    "editable": false
   },
   "source": [
    "<!-- BEGIN QUESTION -->\n",
    "\n",
    "### Question 6e\n",
    "\n",
    "Are there more false positives or false negatives when using the logistic regression classifier from Question 5?\n",
    "\n",
    "<!--\n",
    "BEGIN QUESTION\n",
    "name: q6e\n",
    "manual: True\n",
    "points: 1\n",
    "-->"
   ]
  },
  {
   "cell_type": "markdown",
   "metadata": {},
   "source": [
    "There are 122 false positives and 1699 false negatives. There are more false negatives than false postives."
   ]
  },
  {
   "cell_type": "markdown",
   "metadata": {
    "deletable": false,
    "editable": false
   },
   "source": [
    "<!-- END QUESTION -->\n",
    "\n",
    "<!-- BEGIN QUESTION -->\n",
    "\n",
    "### Question 6f\n",
    "\n",
    "1. Our logistic regression classifier got 75.76% prediction accuracy (number of correct predictions / total). How does this compare with predicting 0 for every email?\n",
    "1. Given the word features we gave you above, name one reason this classifier is performing poorly. Hint: Think about how prevalent these words are in the email set.\n",
    "1. Which of these two classifiers would you prefer for a spam filter and why? Describe your reasoning and relate it to at least one of the evaluation metrics you have computed so far.\n",
    "\n",
    "<!--\n",
    "BEGIN QUESTION\n",
    "name: q6f\n",
    "manual: True\n",
    "points: 3\n",
    "-->"
   ]
  },
  {
   "cell_type": "markdown",
   "metadata": {},
   "source": [
    "1. The logistic model is a better classifier than predicting 0, but the logistic model is still a pretty bad model. It's accuracy of 75.76% is pretty close to the zero predicter accuracy of 74.5 %.\n",
    "2. This classifier is poor because some of the words like 'drug' , 'memo' and 'presciption' don't show up in a lot emails, since they aren't that commomnly used words.\n",
    "3. I prefer the logistic model because it has a better accuracy of 75.76% and a better recall of 11.4%. This means the proportion of emails that are spam that are classified of spa"
   ]
  },
  {
   "cell_type": "markdown",
   "metadata": {
    "nbgrader": {
     "grade": false,
     "grade_id": "p2",
     "locked": true,
     "schema_version": 2,
     "solution": false
    }
   },
   "source": [
    "<!-- END QUESTION -->\n",
    "\n",
    "\n",
    "\n",
    "# Part II - Moving Forward\n",
    "\n",
    "With this in mind, it is now your task to make the spam filter more accurate. In order to get full credit on the accuracy part of this assignment, you must get at least **88%** accuracy on the test set. To see your accuracy on the test set, you will use your classifier to predict every email in the `test` DataFrame and upload your predictions to Gradescope.\n",
    "\n",
    "**Gradescope limits you to four submissions per day**. This means you should start early so you have time if needed to refine your model. You will be able to see your accuracy on 70% of the test set when submitting to Gradescope, but we will be evaluating your model on the entire test set so try to score slightly above 88% on gradescope if you can.\n",
    "\n",
    "Here are some ideas for improving your model:\n",
    "\n",
    "1. Finding better features based on the email text. Some example features are:\n",
    "    1. Number of characters in the subject / body\n",
    "    1. Number of words in the subject / body\n",
    "    1. Use of punctuation (e.g., how many '!'s were there?)\n",
    "    1. Number / percentage of capital letters \n",
    "    1. Whether the email is a reply to an earlier email or a forwarded email\n",
    "1. Finding better (and/or more) words to use as features. Which words are the best at distinguishing emails? This requires digging into the email text itself. \n",
    "1. Better data processing. For example, many emails contain HTML as well as text. You can consider extracting out the text from the HTML to help you find better words. Or, you can match HTML tags themselves, or even some combination of the two.\n",
    "1. Model selection. You can adjust parameters of your model (e.g. the regularization parameter) to achieve higher accuracy. Recall that you should use cross-validation to do feature and model selection properly! Otherwise, you will likely overfit to your training data.\n",
    "\n",
    "You may use whatever method you prefer in order to create features, but **you are not allowed to import any external feature extraction libraries**. In addition, **you are only allowed to train logistic regression models**. No random forests, k-nearest-neighbors, neural nets, etc.\n",
    "\n",
    "We have not provided any code to do this, so feel free to create as many cells as you need in order to tackle this task. However, answering questions 7, 8, and 9 should help guide you.\n",
    "\n",
    "---\n",
    "\n",
    "**Note:** *You may want to use your **validation data** to evaluate your model and get a better sense of how it will perform on the test set.* Note, however, that you may overfit to your validation set if you try to optimize your validation accuracy too much.\n",
    "\n",
    "---"
   ]
  },
  {
   "cell_type": "code",
   "execution_count": 25,
   "metadata": {
    "scrolled": true
   },
   "outputs": [],
   "source": [
    "#combining subject with email\n",
    "train_copy = train.copy()\n",
    "train_copy[\"combined_email_subject\"] = train_copy[\"subject\"].astype(str) + \": \" + train_copy['email'].astype(str)\n",
    "#cleaning the html format of the emails and splitting it\n",
    "train_copy[\"split_email\"] = train_copy['combined_email_subject'].str.lower().str.replace(r'[^0-9a-zA-Z]',' ').str.split()\n",
    "#seperating spam emails\n",
    "spam = train_copy[train_copy[\"spam\"] == 1]"
   ]
  },
  {
   "cell_type": "code",
   "execution_count": 26,
   "metadata": {},
   "outputs": [
    {
     "data": {
      "text/plain": [
       "5       None\n",
       "13      None\n",
       "15      None\n",
       "18      None\n",
       "19      None\n",
       "        ... \n",
       "7502    None\n",
       "7503    None\n",
       "7505    None\n",
       "7507    None\n",
       "7509    None\n",
       "Name: split_email, Length: 1918, dtype: object"
      ]
     },
     "execution_count": 26,
     "metadata": {},
     "output_type": "execute_result"
    }
   ],
   "source": [
    "#counts how many time each word occurs in each type of emails\n",
    "s_dic = {}\n",
    "def count_words(col,s_dic) :\n",
    "    for x in col:\n",
    "        if x not in s_dic.keys():\n",
    "            s_dic[x] = 1\n",
    "        else:\n",
    "            s_dic[x]+=1\n",
    "spam['split_email'].apply(count_words, args = [s_dic])"
   ]
  },
  {
   "cell_type": "code",
   "execution_count": 28,
   "metadata": {},
   "outputs": [
    {
     "data": {
      "text/plain": [
       "['3d',\n",
       " 'font',\n",
       " 'td',\n",
       " 'the',\n",
       " 'a',\n",
       " 'to',\n",
       " 'br',\n",
       " 'size',\n",
       " 'b',\n",
       " 'and',\n",
       " 'you',\n",
       " 'tr',\n",
       " 'of',\n",
       " 'width',\n",
       " 'face',\n",
       " 'p',\n",
       " 'color',\n",
       " 'http',\n",
       " 'nbsp',\n",
       " 'your',\n",
       " 'for',\n",
       " 'com',\n",
       " 'align',\n",
       " 'in',\n",
       " '0',\n",
       " '1',\n",
       " '2',\n",
       " '20',\n",
       " 'i',\n",
       " 'this',\n",
       " 'arial',\n",
       " 'is',\n",
       " 'center',\n",
       " 'www',\n",
       " 'height',\n",
       " 'table',\n",
       " 'border',\n",
       " 'href',\n",
       " 'that',\n",
       " 'it',\n",
       " 'or',\n",
       " 'with',\n",
       " 'on',\n",
       " 'be',\n",
       " 'verdana',\n",
       " 'html',\n",
       " 'helvetica',\n",
       " 'name',\n",
       " 'are',\n",
       " 'style',\n",
       " '22',\n",
       " 'we',\n",
       " 'serif',\n",
       " 'sans',\n",
       " 's',\n",
       " 'img',\n",
       " 'div',\n",
       " 'src',\n",
       " 'from',\n",
       " 'will',\n",
       " 'bgcolor',\n",
       " 'our',\n",
       " 'email',\n",
       " 'have',\n",
       " '3',\n",
       " 'not',\n",
       " '3e',\n",
       " '5',\n",
       " 'free',\n",
       " 'ffffff',\n",
       " 'type',\n",
       " 'text',\n",
       " '4',\n",
       " 'as',\n",
       " 'if',\n",
       " 'e',\n",
       " '000',\n",
       " 'content',\n",
       " 'subject',\n",
       " 'span',\n",
       " 'by',\n",
       " 'us',\n",
       " 'value',\n",
       " 'all',\n",
       " 'gif',\n",
       " '100',\n",
       " 'can',\n",
       " 'net',\n",
       " '000000',\n",
       " 'no',\n",
       " 'option',\n",
       " 't',\n",
       " 'body',\n",
       " 'images',\n",
       " 'mail',\n",
       " 'here',\n",
       " 'at',\n",
       " 'click',\n",
       " 'cellspacing',\n",
       " 'more',\n",
       " 'cellpadding',\n",
       " 'li',\n",
       " 'do',\n",
       " 'top',\n",
       " 'blockquote',\n",
       " 'please',\n",
       " 'input',\n",
       " 'business',\n",
       " 'new',\n",
       " 'out',\n",
       " 'right',\n",
       " 'my',\n",
       " 'get',\n",
       " 'money',\n",
       " 'list',\n",
       " 'an',\n",
       " '50',\n",
       " 'strong',\n",
       " '10',\n",
       " 'one',\n",
       " 'u',\n",
       " '3c',\n",
       " 'valign',\n",
       " 'family',\n",
       " 'left',\n",
       " 'only',\n",
       " '30',\n",
       " 'information',\n",
       " '00',\n",
       " 'now',\n",
       " 'colspan',\n",
       " 'head',\n",
       " 'time',\n",
       " '6',\n",
       " 'margin',\n",
       " 'any',\n",
       " 'address',\n",
       " 'ff0000',\n",
       " 'people',\n",
       " 'receive',\n",
       " 'title',\n",
       " 'just',\n",
       " 'o',\n",
       " 'up',\n",
       " 'form',\n",
       " 'was',\n",
       " 'how',\n",
       " 'make',\n",
       " 'send',\n",
       " 'order',\n",
       " 'class',\n",
       " 'tbody',\n",
       " 'so',\n",
       " 'report',\n",
       " 'has',\n",
       " 'home',\n",
       " 'remove',\n",
       " 'alt',\n",
       " '3d2',\n",
       " 'me',\n",
       " 'internet',\n",
       " 'over',\n",
       " '2e',\n",
       " 'about',\n",
       " 'what',\n",
       " 'message',\n",
       " 'charset',\n",
       " 'want',\n",
       " '3d0',\n",
       " '15',\n",
       " 'who',\n",
       " 'de',\n",
       " '31',\n",
       " 'meta',\n",
       " 'tahoma',\n",
       " 'life',\n",
       " 'jpg',\n",
       " '7',\n",
       " 'they',\n",
       " 'a3',\n",
       " 'mso',\n",
       " 'ad',\n",
       " 'phone',\n",
       " 'don',\n",
       " 'iiq',\n",
       " 'but',\n",
       " 'background',\n",
       " 'c',\n",
       " 'below',\n",
       " 'mailing',\n",
       " 'been',\n",
       " 'like',\n",
       " 'company',\n",
       " 'mailto',\n",
       " 'removed',\n",
       " 'there',\n",
       " 'program',\n",
       " 'htm',\n",
       " 'their',\n",
       " 'bottom',\n",
       " 'may',\n",
       " 'marketing',\n",
       " 'state',\n",
       " 'times',\n",
       " 'bordercolor',\n",
       " 'also',\n",
       " 'best',\n",
       " 'these',\n",
       " 'b5',\n",
       " 'r',\n",
       " 'credit',\n",
       " 'nextpart',\n",
       " 'use',\n",
       " 'software',\n",
       " 'web',\n",
       " 'offer',\n",
       " '0pt',\n",
       " 'site',\n",
       " 'government',\n",
       " 'today',\n",
       " '8',\n",
       " '3dcenter',\n",
       " 'work',\n",
       " 'million',\n",
       " 'cd',\n",
       " 'would',\n",
       " 'need',\n",
       " 'than',\n",
       " 'other',\n",
       " '3cfont',\n",
       " '2ffont',\n",
       " 'asp',\n",
       " 'transfer',\n",
       " 'them',\n",
       " 'link',\n",
       " 'each',\n",
       " 'go',\n",
       " 'help',\n",
       " 'which',\n",
       " 'insurance',\n",
       " 'day',\n",
       " 'back',\n",
       " 'bb',\n",
       " 'call',\n",
       " 'n',\n",
       " 'lists',\n",
       " 'first',\n",
       " '0000ff',\n",
       " '25',\n",
       " 'black',\n",
       " 'year',\n",
       " '3darial',\n",
       " 'legal',\n",
       " 'm',\n",
       " '9',\n",
       " 'd',\n",
       " 'id',\n",
       " 'service',\n",
       " 'when',\n",
       " 'online',\n",
       " 'wish',\n",
       " 'am',\n",
       " '3d4',\n",
       " '000066',\n",
       " '81',\n",
       " 'en',\n",
       " 'ca',\n",
       " 'special',\n",
       " 'index',\n",
       " '3b',\n",
       " 'because',\n",
       " 'grants',\n",
       " 'a1',\n",
       " 'per',\n",
       " 'hidden',\n",
       " '12',\n",
       " 'reply',\n",
       " 'most',\n",
       " '500',\n",
       " 'within',\n",
       " 'does',\n",
       " 'then',\n",
       " 'find',\n",
       " 'every',\n",
       " 'number',\n",
       " 'equiv',\n",
       " 'see',\n",
       " 'line',\n",
       " '0px',\n",
       " 'f',\n",
       " 'contact',\n",
       " '8859',\n",
       " 'ba',\n",
       " 'encoding',\n",
       " 'price',\n",
       " 'addresses',\n",
       " 'sent',\n",
       " 'save',\n",
       " 're',\n",
       " 'own',\n",
       " '61',\n",
       " 'take',\n",
       " 'available',\n",
       " 'into',\n",
       " 'many',\n",
       " 'unsubscribe',\n",
       " '550',\n",
       " 'spamassassin',\n",
       " 'cash',\n",
       " '95',\n",
       " 'em',\n",
       " 'much',\n",
       " 'know',\n",
       " '21',\n",
       " 'received',\n",
       " 'month',\n",
       " '09',\n",
       " 'bc',\n",
       " 'product',\n",
       " '2002',\n",
       " 'co',\n",
       " 'made',\n",
       " 'easy',\n",
       " 'quot',\n",
       " 'ul',\n",
       " 'very',\n",
       " 'even',\n",
       " '99',\n",
       " 'response',\n",
       " 'years',\n",
       " '3d3',\n",
       " '000080',\n",
       " 'way',\n",
       " 'days',\n",
       " 'through',\n",
       " 'fax',\n",
       " 'after',\n",
       " 'orders',\n",
       " '65',\n",
       " 'cgi',\n",
       " 'financial',\n",
       " 'roman',\n",
       " 'his',\n",
       " 'start',\n",
       " 'services',\n",
       " 'future',\n",
       " 'sightings',\n",
       " 'system',\n",
       " '149',\n",
       " 'rates',\n",
       " 'low',\n",
       " 'y',\n",
       " 'computer',\n",
       " 'd0',\n",
       " 'weight',\n",
       " '3d1',\n",
       " 'ptsize',\n",
       " 'market',\n",
       " 'those',\n",
       " 'dollars',\n",
       " 'll',\n",
       " 'some',\n",
       " 'c4',\n",
       " 'lang',\n",
       " 'amp',\n",
       " 'middle',\n",
       " 'ce',\n",
       " 'info',\n",
       " 'g',\n",
       " 'b9',\n",
       " 'city',\n",
       " 'card',\n",
       " 'none',\n",
       " 'x',\n",
       " 'offers',\n",
       " 'h',\n",
       " 'l',\n",
       " 'iso',\n",
       " 'geneva',\n",
       " 'big',\n",
       " 'bd',\n",
       " '24',\n",
       " 'products',\n",
       " 've',\n",
       " 'cost',\n",
       " '63',\n",
       " 'ie',\n",
       " 'mortgage',\n",
       " 'sites',\n",
       " 'had',\n",
       " 'submit',\n",
       " 'v',\n",
       " 'check',\n",
       " 'fill',\n",
       " 'world',\n",
       " 'following',\n",
       " 'programs',\n",
       " 'its',\n",
       " 'decoration',\n",
       " 'mails',\n",
       " 'should',\n",
       " 'without',\n",
       " 'website',\n",
       " 'd2',\n",
       " '19',\n",
       " 'complete',\n",
       " 'investment',\n",
       " 'opportunity',\n",
       " 'visit',\n",
       " 'linux',\n",
       " 'before',\n",
       " 'bf',\n",
       " 'target',\n",
       " 'income',\n",
       " 'w',\n",
       " 'pay',\n",
       " 'account',\n",
       " '11',\n",
       " 'part',\n",
       " 'method',\n",
       " 'search',\n",
       " 'access',\n",
       " 'never',\n",
       " 'guaranteed',\n",
       " 'companies',\n",
       " 'high',\n",
       " 'php',\n",
       " 'simple',\n",
       " 'interest',\n",
       " 'copy',\n",
       " 'real',\n",
       " 'could',\n",
       " 'next',\n",
       " 'red',\n",
       " 'buy',\n",
       " 'small',\n",
       " 'ac',\n",
       " 'mailings',\n",
       " 'padding',\n",
       " 'a2',\n",
       " 'anyone',\n",
       " 'simply',\n",
       " 'hours',\n",
       " 'total',\n",
       " 'guide',\n",
       " 'd3',\n",
       " 'd1',\n",
       " 'dvd',\n",
       " '29',\n",
       " 'd6',\n",
       " 'a7',\n",
       " 'where',\n",
       " '77',\n",
       " 'personal',\n",
       " 'professional',\n",
       " 'again',\n",
       " 'he',\n",
       " 'sourceforge',\n",
       " 'well',\n",
       " 'long',\n",
       " 'page',\n",
       " 'news',\n",
       " 'plus',\n",
       " 'good',\n",
       " '18',\n",
       " 'c3',\n",
       " 'give',\n",
       " 'b8',\n",
       " 'being',\n",
       " 'q',\n",
       " 'down',\n",
       " 'collapse',\n",
       " 'insuranceiq',\n",
       " 'sales',\n",
       " 'listinfo',\n",
       " 'fa',\n",
       " '14',\n",
       " 'rate',\n",
       " 'plain',\n",
       " 'risk',\n",
       " '40',\n",
       " '66',\n",
       " 'let',\n",
       " 'ever',\n",
       " 'while',\n",
       " 'states',\n",
       " 'purchase',\n",
       " 'using',\n",
       " 'looking',\n",
       " 'jm',\n",
       " 'b7',\n",
       " 'step',\n",
       " 'few',\n",
       " '0in',\n",
       " 'emails',\n",
       " 'great',\n",
       " 'must',\n",
       " '13',\n",
       " 'return',\n",
       " 'keep',\n",
       " 'c1',\n",
       " 'blank',\n",
       " 'hr',\n",
       " 'action',\n",
       " 'ffff00',\n",
       " '70',\n",
       " 'based',\n",
       " 'reports',\n",
       " 'spacer',\n",
       " 'read',\n",
       " 'country',\n",
       " 'opt',\n",
       " 'months',\n",
       " 'ms',\n",
       " 'sansserif',\n",
       " 'multi',\n",
       " 'sending',\n",
       " '0cm',\n",
       " 'weeks',\n",
       " 'white',\n",
       " 'receiving',\n",
       " 'thank',\n",
       " 'transaction',\n",
       " '72',\n",
       " 'why',\n",
       " 'further',\n",
       " '64',\n",
       " 'letter',\n",
       " 'full',\n",
       " 'change',\n",
       " 'cc',\n",
       " 'tm',\n",
       " 'yourself',\n",
       " '74',\n",
       " '300',\n",
       " 'b4',\n",
       " 'c6',\n",
       " 'instructions',\n",
       " 'z',\n",
       " 'a9',\n",
       " '75',\n",
       " 'united',\n",
       " '80',\n",
       " 'yes',\n",
       " 'grant',\n",
       " 'd4',\n",
       " 'lose',\n",
       " 'once',\n",
       " 'bidi',\n",
       " 'milf',\n",
       " 'format',\n",
       " 'provide',\n",
       " 'sure',\n",
       " 'off',\n",
       " 'come',\n",
       " 'less',\n",
       " 'two',\n",
       " 'shipping',\n",
       " 'sf',\n",
       " 'policy',\n",
       " 'thousands',\n",
       " 'bin',\n",
       " 'windows',\n",
       " 'post',\n",
       " 'a4',\n",
       " 'week',\n",
       " 'removal',\n",
       " 'old',\n",
       " 'c8',\n",
       " 'cf',\n",
       " '3dright',\n",
       " 'j',\n",
       " 'org',\n",
       " 'such',\n",
       " 'security',\n",
       " '200',\n",
       " '60',\n",
       " 'printable',\n",
       " 'select',\n",
       " 'server',\n",
       " 'quoted',\n",
       " 'e1',\n",
       " '800',\n",
       " 'includes',\n",
       " 'used',\n",
       " 'rowspan',\n",
       " 'bonus',\n",
       " 'public',\n",
       " 'include',\n",
       " 'k',\n",
       " 'notice',\n",
       " 'required',\n",
       " '16',\n",
       " 'bank',\n",
       " 'b2',\n",
       " 'above',\n",
       " 'c9',\n",
       " 'communication',\n",
       " 'learn',\n",
       " 'instead',\n",
       " 'c7',\n",
       " 'under',\n",
       " 'membership',\n",
       " 'look',\n",
       " 'china',\n",
       " 'heaven',\n",
       " 'b6',\n",
       " 'last',\n",
       " 'age',\n",
       " 'making',\n",
       " 'better',\n",
       " 'enenkio',\n",
       " 'h3',\n",
       " 'guarantee',\n",
       " 'end',\n",
       " 'try',\n",
       " 'c5',\n",
       " 'dear',\n",
       " 'request',\n",
       " 'increase',\n",
       " '211',\n",
       " 'advertising',\n",
       " 'absolutely',\n",
       " 'little',\n",
       " 'a8',\n",
       " 'same',\n",
       " 'non',\n",
       " 'sell',\n",
       " 'code',\n",
       " 'aa',\n",
       " 'show',\n",
       " 'https',\n",
       " 'a0',\n",
       " 'true',\n",
       " 'justify',\n",
       " 'questions',\n",
       " '3a',\n",
       " 'follow',\n",
       " '1252',\n",
       " 'least',\n",
       " 'put',\n",
       " 'quote',\n",
       " 'both',\n",
       " 'c0',\n",
       " 'remember',\n",
       " 'b3',\n",
       " 'domain',\n",
       " 'results',\n",
       " '250',\n",
       " 'interested',\n",
       " 'names',\n",
       " 'la',\n",
       " 'were',\n",
       " 'note',\n",
       " 'ab',\n",
       " 'support',\n",
       " 'ads',\n",
       " 'bulk',\n",
       " 'package',\n",
       " 'professionals',\n",
       " 'works',\n",
       " 'mime',\n",
       " '90',\n",
       " 'ffff99',\n",
       " 'ilug',\n",
       " 'person',\n",
       " 'f3',\n",
       " 'success',\n",
       " 'thinkgeek',\n",
       " 'da',\n",
       " 'quality',\n",
       " 'current',\n",
       " 'optout',\n",
       " 'customer',\n",
       " 'document',\n",
       " '23',\n",
       " 'working',\n",
       " 'travel',\n",
       " 'hundreds',\n",
       " 'plan',\n",
       " 'easily',\n",
       " 'b1',\n",
       " 'cb',\n",
       " 'too',\n",
       " 'temple',\n",
       " 'live',\n",
       " 'act',\n",
       " 'fast',\n",
       " 'et',\n",
       " 'jeweldive',\n",
       " 'say',\n",
       " 'image',\n",
       " 'yahoo',\n",
       " 'key',\n",
       " '220',\n",
       " 'prices',\n",
       " '3cp',\n",
       " 'application',\n",
       " 'did',\n",
       " 'since',\n",
       " 'cc0000',\n",
       " 'deal',\n",
       " 'natural',\n",
       " 'apply',\n",
       " 'netnoteinc',\n",
       " 'loan',\n",
       " 'case',\n",
       " 'paid',\n",
       " 'download',\n",
       " 'private',\n",
       " 'assistance',\n",
       " 'federal',\n",
       " '600',\n",
       " '68',\n",
       " '17',\n",
       " '2c',\n",
       " 'un',\n",
       " 'solid',\n",
       " 'f6',\n",
       " 'earn',\n",
       " 'islands',\n",
       " 'limited',\n",
       " 'debt',\n",
       " 'word',\n",
       " 'members',\n",
       " 'office',\n",
       " 'place',\n",
       " 'think',\n",
       " 'feel',\n",
       " '87',\n",
       " 'aaaaaaaaaaaaaaaaaaaaaaaaaaaaaaaaaaaaaaaaaaaaaaaaaaaaaaaaaaaaaaaaaaaaaaaaaaaa',\n",
       " '6e',\n",
       " 'book',\n",
       " 'cn',\n",
       " 'trading',\n",
       " 'term',\n",
       " 'ext',\n",
       " 'kingdom',\n",
       " 'contains',\n",
       " '008000',\n",
       " 'direct',\n",
       " 'users',\n",
       " 'frontpage',\n",
       " 'oz',\n",
       " 'able',\n",
       " 'via',\n",
       " 'including',\n",
       " 'msonormal',\n",
       " 'important',\n",
       " 'another',\n",
       " 'etc',\n",
       " '73',\n",
       " 'client',\n",
       " 'improvement',\n",
       " 'still',\n",
       " 'uk',\n",
       " 'allow',\n",
       " 'international',\n",
       " 'become',\n",
       " '02',\n",
       " 'b0',\n",
       " 'bold',\n",
       " 'nasty',\n",
       " 'data',\n",
       " 'ffffcc',\n",
       " 'details',\n",
       " 'minutes',\n",
       " 'customers',\n",
       " '22arial',\n",
       " 'started',\n",
       " 'error',\n",
       " 'level',\n",
       " '01',\n",
       " 'database',\n",
       " 'yours',\n",
       " 'spam',\n",
       " '3d5',\n",
       " 'fromyou2',\n",
       " 'lowest',\n",
       " 'american',\n",
       " 'foreign',\n",
       " 'nothing',\n",
       " 'track',\n",
       " 'build',\n",
       " 'protect',\n",
       " '3cb',\n",
       " '2fb',\n",
       " 'always',\n",
       " 'broadcast',\n",
       " 'everything',\n",
       " 'cccccc',\n",
       " 'cfm',\n",
       " 'member',\n",
       " '35',\n",
       " '3dhttp',\n",
       " 'box',\n",
       " '150',\n",
       " 'language',\n",
       " 'regular',\n",
       " 'matter',\n",
       " 'health',\n",
       " 'subscription',\n",
       " 'commission',\n",
       " 'botanical',\n",
       " 'stop',\n",
       " 'write',\n",
       " 'immediately',\n",
       " '43',\n",
       " 'believe',\n",
       " '42',\n",
       " 'her',\n",
       " 'url',\n",
       " 'area',\n",
       " 'different',\n",
       " 'successful',\n",
       " 'af',\n",
       " '36',\n",
       " 'microsoft',\n",
       " 'c2',\n",
       " 'zzzz',\n",
       " 'sponsored',\n",
       " 'tell',\n",
       " 'generator',\n",
       " 'set',\n",
       " 'f7',\n",
       " 'valuable',\n",
       " '88',\n",
       " 'really',\n",
       " 'ed',\n",
       " 'd7',\n",
       " '400',\n",
       " 'five',\n",
       " '62',\n",
       " 'amount',\n",
       " 'going',\n",
       " 'forward',\n",
       " 'control',\n",
       " '222',\n",
       " 'e9',\n",
       " 'd5',\n",
       " 'possible',\n",
       " 'three',\n",
       " 'until',\n",
       " 'trade',\n",
       " 'fund',\n",
       " '49',\n",
       " '22verdana',\n",
       " 'away',\n",
       " 'currently',\n",
       " 'answer',\n",
       " 'auto',\n",
       " 'group',\n",
       " 'usa',\n",
       " 'bindex',\n",
       " 'loss',\n",
       " 'payment',\n",
       " 'during',\n",
       " 'mailman',\n",
       " 'rights',\n",
       " 'insurancemail',\n",
       " 'move',\n",
       " 'nsi',\n",
       " 'general',\n",
       " 'seen',\n",
       " '1000',\n",
       " 'date',\n",
       " 'needs',\n",
       " 'already',\n",
       " 'example',\n",
       " '3dtop',\n",
       " '71',\n",
       " 'experience',\n",
       " 'agent',\n",
       " 'industry',\n",
       " 'job',\n",
       " 'later',\n",
       " '98',\n",
       " 'dd',\n",
       " 'included',\n",
       " 'share',\n",
       " 'welcome',\n",
       " 'secret',\n",
       " 'add',\n",
       " 'le',\n",
       " 'fact',\n",
       " 'however',\n",
       " 'courier',\n",
       " 'quick',\n",
       " 'past',\n",
       " 'pc',\n",
       " 'technology',\n",
       " '2ecom',\n",
       " '27',\n",
       " 'leads',\n",
       " 'millions',\n",
       " 'claim',\n",
       " 'a5',\n",
       " 'obligation',\n",
       " 'course',\n",
       " 'national',\n",
       " 'blue',\n",
       " 'ea',\n",
       " '3d6',\n",
       " 'dagga',\n",
       " 'position',\n",
       " 'mr',\n",
       " 'numbers',\n",
       " 'independent',\n",
       " '006600',\n",
       " 'ordering',\n",
       " 'toner',\n",
       " '22center',\n",
       " 'dc',\n",
       " '666666',\n",
       " 'engines',\n",
       " 'tablets',\n",
       " '2fp',\n",
       " 'des',\n",
       " 'loans',\n",
       " 'charge',\n",
       " 'enter',\n",
       " 'links',\n",
       " 'cards',\n",
       " 'btamail',\n",
       " '129',\n",
       " 'smoking',\n",
       " 'huge',\n",
       " 'open',\n",
       " 'usd',\n",
       " 'register',\n",
       " 'ragga',\n",
       " 'potential',\n",
       " 'f4',\n",
       " '48',\n",
       " 'ae',\n",
       " 'lot',\n",
       " 'problems',\n",
       " 'retail',\n",
       " '159',\n",
       " 'underline',\n",
       " '111111',\n",
       " 'friends',\n",
       " 'ready',\n",
       " 'drive',\n",
       " 'president',\n",
       " 'f2',\n",
       " '39',\n",
       " 'power',\n",
       " 'getting',\n",
       " 'sale',\n",
       " 'secure',\n",
       " 'second',\n",
       " 'anything',\n",
       " 'found',\n",
       " 'win',\n",
       " '3diso',\n",
       " 'something',\n",
       " 'growing',\n",
       " 'several',\n",
       " 'reach',\n",
       " '151',\n",
       " 'cannot',\n",
       " 'e8',\n",
       " 'aeopublishing',\n",
       " 'h2',\n",
       " 'tax',\n",
       " 'network',\n",
       " 'se',\n",
       " '45',\n",
       " 'es',\n",
       " 'due',\n",
       " '133',\n",
       " '10pt',\n",
       " 'estate',\n",
       " 'original',\n",
       " 'e4',\n",
       " '85',\n",
       " 'warranty',\n",
       " '103',\n",
       " 'someone',\n",
       " 'friend',\n",
       " '3cbr',\n",
       " 'car',\n",
       " 'a6',\n",
       " 'fb',\n",
       " 'sum',\n",
       " 'vlink',\n",
       " 'zip',\n",
       " '3dmiddle',\n",
       " 'major',\n",
       " 'join',\n",
       " 'others',\n",
       " 'deathtospamdeathtospamdeathtospam',\n",
       " 'got',\n",
       " 'seventh',\n",
       " 'around',\n",
       " 'process',\n",
       " 'needed',\n",
       " 'large',\n",
       " 'stock',\n",
       " ...]"
      ]
     },
     "execution_count": 28,
     "metadata": {},
     "output_type": "execute_result"
    }
   ],
   "source": [
    "#sorts them by value then turn into list\n",
    "sorted_s_dict = dict(sorted(s_dic.items(), key=lambda item: item[1],reverse = True))\n",
    "s_lst = list(sorted_s_dict.keys())\n",
    "s_lst"
   ]
  },
  {
   "cell_type": "code",
   "execution_count": 29,
   "metadata": {},
   "outputs": [
    {
     "data": {
      "text/plain": [
       "[0.8886227544910179,\n",
       " 0.9365269461077844,\n",
       " 0.9473053892215567,\n",
       " 0.9592814371257485,\n",
       " 0.9616766467065869,\n",
       " 0.9592814371257485,\n",
       " 0.9592814371257485,\n",
       " 0.9592814371257485,\n",
       " 0.9664670658682635,\n",
       " 0.9676646706586827,\n",
       " 0.9676646706586827,\n",
       " 0.9688622754491018,\n",
       " 0.9676646706586827,\n",
       " 0.9676646706586827,\n",
       " 0.9676646706586827]"
      ]
     },
     "execution_count": 29,
     "metadata": {},
     "output_type": "execute_result"
    }
   ],
   "source": [
    "#cross validating to see number of features\n",
    "#commenting so it doesn't take to long to run\n",
    "from sklearn.model_selection import cross_val_score\n",
    "from sklearn.linear_model import LogisticRegression\n",
    "arr = []\n",
    "for i in np.arange(100,1600,100):\n",
    "    cut_lst = s_lst[0:i]\n",
    "    x_train_cv1=words_in_texts(cut_lst, train_copy['email'])\n",
    "    y_train_cv1= train['spam']\n",
    "    model_cv1=LogisticRegression(max_iter = 500).fit(x_train_cv1,y_train_cv1)\n",
    "    acc = cross_val_score(model_cv1, words_in_texts(cut_lst, val['email']), val['spam'], cv=5)\n",
    "    m = np.mean(acc)\n",
    "    arr.append(m)\n",
    "arr"
   ]
  },
  {
   "cell_type": "code",
   "execution_count": 38,
   "metadata": {},
   "outputs": [
    {
     "data": {
      "text/plain": [
       "[0.9676646706586827,\n",
       " 0.9688622754491018,\n",
       " 0.9664670658682635,\n",
       " 0.9664670658682635,\n",
       " 0.9676646706586827,\n",
       " 0.9676646706586827,\n",
       " 0.9688622754491018,\n",
       " 0.9676646706586827,\n",
       " 0.9688622754491018,\n",
       " 0.9676646706586827,\n",
       " 0.9688622754491018,\n",
       " 0.9664670658682635,\n",
       " 0.9676646706586827,\n",
       " 0.9664670658682635,\n",
       " 0.9664670658682635,\n",
       " 0.9676646706586827,\n",
       " 0.9676646706586827,\n",
       " 0.9676646706586827,\n",
       " 0.9676646706586827,\n",
       " 0.9676646706586827,\n",
       " 0.9676646706586827]"
      ]
     },
     "execution_count": 38,
     "metadata": {},
     "output_type": "execute_result"
    }
   ],
   "source": [
    "#being more specific for number of features\n",
    "#commenting so it doesn't take to long to run\n",
    "#from sklearn.model_selection import cross_val_score\n",
    "#from sklearn.linear_model import LogisticRegression\n",
    "#arr2 = []\n",
    "#for i in np.arange(1100,1310,10):\n",
    "    #cut_lst = s_lst[0:i]\n",
    "    #x_train_cv2=words_in_texts(cut_lst, train_copy['email'])\n",
    "    #y_train_cv2= train['spam']\n",
    "    #model_cv2=LogisticRegression(max_iter = 500).fit(x_train_cv2,y_train_cv2)\n",
    "    #acc = cross_val_score(model_cv2, words_in_texts(cut_lst, val['email']), val['spam'], cv=5)\n",
    "    #m = np.mean(acc)\n",
    "    #arr2.append(m)\n",
    "#arr2"
   ]
  },
  {
   "cell_type": "code",
   "execution_count": 55,
   "metadata": {},
   "outputs": [],
   "source": [
    "### naive approach\n",
    "#lst = ['strong','address','align','net','input','please','recieve','money','cash','earn','freedom','paid', 'income','loose','weight','fees','no','elminate','instantly','right','act','action', 'apply', 'now', 'buy', 'online', 'call','click', 'here', 'delete', 'today', 'clearnace', 'reduced', 'drastically', 'exclusive', 'expire', 'get', 'important','instant','limited', 'time', 'offer', 'order', 'urgent','free','incredible','deal','satisfaction','seen','boss','bankruptcy','cheap','compare','rates','certify','table','easy', 'debt', 'millions', 'obligations', 'projects', 'stories','economics', 'load', 'purcahse', 'winner', 'necessary', 'subscribe', 'selected', 'save','big', 'sign', 'vacation']\n",
    "# training model\n",
    "x_train=words_in_texts(s_lst[0:1160], train_copy['email'])\n",
    "y_train= train_copy['spam']\n",
    "from sklearn.linear_model import LogisticRegression\n",
    "model_real=LogisticRegression(max_iter = 500).fit(x_train,y_train)\n",
    "y_pred = model_real.predict(x_train)"
   ]
  },
  {
   "cell_type": "code",
   "execution_count": 49,
   "metadata": {},
   "outputs": [
    {
     "data": {
      "text/plain": [
       "1.0"
      ]
     },
     "execution_count": 49,
     "metadata": {},
     "output_type": "execute_result"
    }
   ],
   "source": [
    "#checking accuracy\n",
    "training_acc = sum(y_pred==y_train)/len(y_train)\n",
    "training_acc"
   ]
  },
  {
   "cell_type": "markdown",
   "metadata": {
    "deletable": false,
    "editable": false,
    "nbgrader": {
     "grade": false,
     "grade_id": "q7",
     "locked": true,
     "schema_version": 2,
     "solution": false
    }
   },
   "source": [
    "<!-- BEGIN QUESTION -->\n",
    "\n",
    "### Question 7: Feature/Model Selection Process\n",
    "\n",
    "In this following cell, describe the process of improving your model. You should use at least 2-3 sentences each to address the follow questions:\n",
    "\n",
    "1. How did you find better features for your model?\n",
    "2. What did you try that worked or didn't work?\n",
    "3. What was surprising in your search for good features?\n",
    "\n",
    "<!--\n",
    "BEGIN QUESTION\n",
    "name: q7\n",
    "manual: True\n",
    "points: 6\n",
    "-->"
   ]
  },
  {
   "cell_type": "markdown",
   "metadata": {},
   "source": [
    "1. How did you find better features for your model?\n",
    "\n",
    "I first combined the subject with the email, so I can also use the words in the subject aand the words in the email as possible features. Then I got the spam emails from the training dataframe and then counted how many times each word shows up in all of the emails. I created a spam dictionary where I mapped the word to the number of times in showed up in the email category. Then I sorted these dictionaries by count, so I had the words with highest counts in the beginning. This way I could use the words that were the most frequent as my features. Then I cross validated using five folds the set with a different number of features each time to find the best number of features to use. I looked at a range of 100-1500 in intervals of a 100. I found out I was getting the best accuracy between 1100 and 1300 features. I ran the cross validating process again to narrow the interval of the number of features I needed. Since I used intervals of 100, previously I wanted to see if I could capture better accuracy somewhere in between the 100 jump. I ran cross validation on a smaller interval with more frequent jumps. I used the interval of 1100-1300 in intervals of 10. I plotted this and I found out that using the top 1160 most used words in our spam emails as features for my model was the best number of features to use.\n",
    "\n",
    "2. What did you try that worked or didn't work?\n",
    "\n",
    "I intially just googled the nost used words in spam emails and started adding these words as my features. I kept on adding more words until I reached the 88% accuracy. This worked, however it was rather tedious becuase I would some words and then check my accuracy over and ove again. This also wasn't giving me that high accuracy as I only reached about 89%. After that, it was hard to increase the accuracy.I tried adding about 15 more words and my accuracy was still at 89%, so I decided to try another way to make my model.\n",
    "\n",
    "3. What was surprising in your search for good features?\n",
    "\n",
    "A lot of the features are actually not real words like 'ffffff' or \"aaaaaaaaaaaaaaaa\". A lot of the good features were also part of the html style like \"font\" or \"border\". I expected more real words, rather than made up words or html language. I intially took out words that occured in both ham and spam emails. I thought this would increase my accuracy, beacuse removing words that show up in both would give me distinct features that easily distinguish an email from ham and spam. However, this actually reduced my accuracy slightly."
   ]
  },
  {
   "cell_type": "markdown",
   "metadata": {
    "nbgrader": {
     "grade": false,
     "grade_id": "q8",
     "locked": true,
     "schema_version": 2,
     "solution": false
    }
   },
   "source": [
    "<!-- END QUESTION -->\n",
    "\n",
    "\n",
    "\n",
    "### Question 8: EDA\n",
    "\n",
    "In the cell below, show a visualization that you used to select features for your model. \n",
    "\n",
    "Include:\n",
    "\n",
    "1. A plot showing something meaningful about the data that helped you during feature selection, model selection, or both.\n",
    "2. Two or three sentences describing what you plotted and its implications with respect to your features.\n",
    "\n",
    "Feel free to create as many plots as you want in your process of feature selection, but select only one for the response cell below.\n",
    "\n",
    "**You should not just produce an identical visualization to question 3.** Specifically, don't show us a bar chart of proportions, or a one-dimensional class-conditional density plot. Any other plot is acceptable, **as long as it comes with thoughtful commentary.** Here are some ideas:\n",
    "\n",
    "1. Consider the correlation between multiple features (look up correlation plots and `sns.heatmap`). \n",
    "1. Try to show redundancy in a group of features (e.g. `body` and `html` might co-occur relatively frequently, or you might be able to design a feature that captures all html tags and compare it to these). \n",
    "1. Visualize which words have high or low values for some useful statistic.\n",
    "1. Visually depict whether spam emails tend to be wordier (in some sense) than ham emails."
   ]
  },
  {
   "cell_type": "markdown",
   "metadata": {
    "deletable": false,
    "editable": false
   },
   "source": [
    "<!-- BEGIN QUESTION -->\n",
    "\n",
    "Generate your visualization in the cell below and provide your description in a comment.\n",
    "\n",
    "<!--\n",
    "BEGIN QUESTION\n",
    "name: q8\n",
    "manual: True\n",
    "format: image\n",
    "points: 6\n",
    "-->"
   ]
  },
  {
   "cell_type": "code",
   "execution_count": 35,
   "metadata": {
    "ExecuteTime": {
     "end_time": "2019-04-02T00:27:36.170465Z",
     "start_time": "2019-04-02T00:27:36.167776Z"
    },
    "nbgrader": {
     "grade": true,
     "grade_id": "q8-eda",
     "locked": false,
     "points": 3,
     "schema_version": 2,
     "solution": true
    },
    "tags": [
     "student",
     "written",
     "q_eda1"
    ]
   },
   "outputs": [
    {
     "data": {
      "text/plain": [
       "([<matplotlib.axis.XTick at 0x7fdaf3eede50>,\n",
       "  <matplotlib.axis.XTick at 0x7fdaf3eede20>,\n",
       "  <matplotlib.axis.XTick at 0x7fdaf3f021f0>,\n",
       "  <matplotlib.axis.XTick at 0x7fdae5a57130>,\n",
       "  <matplotlib.axis.XTick at 0x7fdaf3ed9610>,\n",
       "  <matplotlib.axis.XTick at 0x7fdae5a57760>,\n",
       "  <matplotlib.axis.XTick at 0x7fdae5a57c70>,\n",
       "  <matplotlib.axis.XTick at 0x7fdae5a611c0>,\n",
       "  <matplotlib.axis.XTick at 0x7fdae5a616d0>,\n",
       "  <matplotlib.axis.XTick at 0x7fdaf3eed850>,\n",
       "  <matplotlib.axis.XTick at 0x7fdae5a73a60>,\n",
       "  <matplotlib.axis.XTick at 0x7fdae5a73f70>,\n",
       "  <matplotlib.axis.XTick at 0x7fdae5a7d4c0>,\n",
       "  <matplotlib.axis.XTick at 0x7fdae5a6d850>,\n",
       "  <matplotlib.axis.XTick at 0x7fdae5a612e0>],\n",
       " <a list of 15 Text xticklabel objects>)"
      ]
     },
     "execution_count": 35,
     "metadata": {},
     "output_type": "execute_result"
    },
    {
     "data": {
      "image/png": "[encoded data removed]",
      "text/plain": [
       "<Figure size 864x432 with 1 Axes>"
      ]
     },
     "metadata": {},
     "output_type": "display_data"
    }
   ],
   "source": [
    "# Write your description (2-3 sentences) as a comment here:\n",
    "#This plot shows us the best number of features to use from a range of 100-1500 with a jump \n",
    "#of 100 and with each number of features, a five fold cross validation is run and then the mean\n",
    "#accuracy is plotted.As the number of features increase, the accuracy rate increases in general.\n",
    "#At 600-800 features,the accuracy rate stays constant and then after that it increases sharply \n",
    "#from 800-900 and slowly increases from 900-1200, and then decreases after.At around 1200 \n",
    "#features the accuracy rate is the highest.\n",
    "\n",
    "# Write the code to generate your visualization here:\n",
    "w_count = np.arange(100,1600,100)\n",
    "acc_df = pd.DataFrame(arr,index= w_count, columns = [\"accuracy\"]) \n",
    "plt.figure(figsize=(12,6))\n",
    "sns.lineplot(data = acc_df)\n",
    "plt.xlabel('Number of Features')\n",
    "plt.ylabel('Accuracy')\n",
    "plt.title('Cross Validation Accuracy Over the Interval of 100-1500 Features')\n",
    "plt.xticks(np.arange(100,1600,100), rotation = 90)\n"
   ]
  },
  {
   "cell_type": "markdown",
   "metadata": {
    "deletable": false,
    "editable": false,
    "nbgrader": {
     "grade": false,
     "grade_id": "q9",
     "locked": true,
     "schema_version": 2,
     "solution": false
    }
   },
   "source": [
    "<!-- END QUESTION -->\n",
    "\n",
    "<!-- BEGIN QUESTION -->\n",
    "\n",
    "### Question 9: ROC Curve\n",
    "\n",
    "In most cases we won't be able to get 0 false positives and 0 false negatives, so we have to compromise. For example, in the case of cancer screenings, false negatives are comparatively worse than false positives — a false negative means that a patient might not discover that they have cancer until it's too late, whereas a patient can just receive another screening for a false positive.\n",
    "\n",
    "Recall that logistic regression calculates the probability that an example belongs to a certain class. Then, to classify an example we say that an email is spam if our classifier gives it $\\ge 0.5$ probability of being spam. However, *we can adjust that cutoff*: we can say that an email is spam only if our classifier gives it $\\ge 0.7$ probability of being spam, for example. This is how we can trade off false positives and false negatives.\n",
    "\n",
    "The ROC curve shows this trade off for each possible cutoff probability. In the cell below, plot a ROC curve for your final classifier (the one you use to make predictions for Gradescope) on the training data. Refer to Lecture 19 or [Section 17.7](https://www.textbook.ds100.org/ch/17/classification_sensitivity_specificity.html) of the course text to see how to plot an ROC curve.\n",
    "\n",
    "<!--\n",
    "BEGIN QUESTION\n",
    "name: q9\n",
    "manual: True\n",
    "points: 3\n",
    "-->"
   ]
  },
  {
   "cell_type": "code",
   "execution_count": 36,
   "metadata": {},
   "outputs": [],
   "source": [
    "from sklearn.metrics import roc_curve\n",
    "# Note that you'll want to use the .predict_proba(...) method for your classifier\n",
    "# instead of .predict(...) so you get probabilities, not classes\n",
    "fpr, tpr, threshold = roc_curve(y_train, model_real.predict_proba(x_train)[:, 1], pos_label=1)"
   ]
  },
  {
   "cell_type": "code",
   "execution_count": 37,
   "metadata": {},
   "outputs": [
    {
     "data": {
      "text/plain": [
       "Text(0.5, 1.0, 'Linear Regression ROC Curve')"
      ]
     },
     "execution_count": 37,
     "metadata": {},
     "output_type": "execute_result"
    },
    {
     "data": {
      "image/png": "[encoded data removed]",
      "text/plain": [
       "<Figure size 432x288 with 1 Axes>"
      ]
     },
     "metadata": {},
     "output_type": "display_data"
    }
   ],
   "source": [
    "plt.plot(fpr, tpr)\n",
    "plt.xlabel('False Positive Rate (1- Specificity)')\n",
    "plt.ylabel('Sensitivity')\n",
    "plt.title(\"Linear Regression ROC Curve\")"
   ]
  },
  {
   "cell_type": "markdown",
   "metadata": {
    "deletable": false,
    "editable": false,
    "nbgrader": {
     "grade": false,
     "grade_id": "q10",
     "locked": true,
     "schema_version": 2,
     "solution": false
    }
   },
   "source": [
    "<!-- END QUESTION -->\n",
    "\n",
    "# Question 10: Test Predictions\n",
    "\n",
    "The following code will write your predictions on the test dataset to a CSV file. **You will need to submit this file to the \"Project 2 Test Predictions\" assignment on Gradescope to get credit for this question.**\n",
    "\n",
    "Save your predictions in a 1-dimensional array called `test_predictions`. **Please make sure you've saved your predictions to `test_predictions` as this is how part of your score for this question will be determined.**\n",
    "\n",
    "Remember that if you've performed transformations or featurization on the training data, you must also perform the same transformations on the test data in order to make predictions. For example, if you've created features for the words \"drug\" and \"money\" on the training data, you must also extract the same features in order to use scikit-learn's `.predict(...)` method.\n",
    "\n",
    "**Note: You may submit up to 4 times a day. If you have submitted 4 times on a day, you will need to wait until the next day for more submissions.**\n",
    "\n",
    "Note that this question is graded on an absolute scale based on the accuracy your model achieves on the overall test set, and as such, your score does not depend on your ranking on Gradescope. Your public Gradescope results are based off of your classifier's accuracy on 70% of the test dataset and your score for this question will be based off of your classifier's accuracy on 100% of the test set.\n",
    "\n",
    "*The provided tests check that your predictions are in the correct format, but you must additionally submit to Gradescope to evaluate your classifier accuracy.*\n",
    "\n",
    "<!--\n",
    "BEGIN QUESTION\n",
    "name: q10\n",
    "points: 3\n",
    "-->"
   ]
  },
  {
   "cell_type": "code",
   "execution_count": 56,
   "metadata": {
    "ExecuteTime": {
     "end_time": "2019-04-02T00:27:38.650695Z",
     "start_time": "2019-04-02T00:27:38.469233Z"
    },
    "nbgrader": {
     "grade": false,
     "grade_id": "q10-answer",
     "locked": false,
     "schema_version": 2,
     "solution": true
    }
   },
   "outputs": [],
   "source": [
    "test_predictions = model_real.predict(words_in_texts(s_lst[0:1160], test['email']))"
   ]
  },
  {
   "cell_type": "code",
   "execution_count": 51,
   "metadata": {
    "deletable": false,
    "editable": false
   },
   "outputs": [
    {
     "data": {
      "text/html": [
       "\n",
       "    \n",
       "    \n",
       "        <p>All tests passed!</p>\n",
       "    \n",
       "    "
      ],
      "text/plain": [
       "\n",
       "    All tests passed!\n",
       "    "
      ]
     },
     "execution_count": 51,
     "metadata": {},
     "output_type": "execute_result"
    }
   ],
   "source": [
    "grader.check(\"q10\")"
   ]
  },
  {
   "cell_type": "markdown",
   "metadata": {
    "nbgrader": {
     "grade": false,
     "grade_id": "cell-d15e30e2a961277d",
     "locked": true,
     "schema_version": 2,
     "solution": false
    }
   },
   "source": [
    "The following cell generates a CSV file with your predictions. **You must submit this CSV file to the \"Project 2 Test Predictions\" assignment on Gradescope to get credit for this question.**"
   ]
  },
  {
   "cell_type": "code",
   "execution_count": 54,
   "metadata": {
    "ExecuteTime": {
     "end_time": "2019-04-02T00:27:39.986326Z",
     "start_time": "2019-04-02T00:27:38.385Z"
    },
    "nbgrader": {
     "grade": false,
     "grade_id": "cell-8dd1bfadcbe08b00",
     "locked": true,
     "schema_version": 2,
     "solution": false
    }
   },
   "outputs": [
    {
     "name": "stdout",
     "output_type": "stream",
     "text": [
      "Created a CSV file: submission_2020-11-30T18:44:50.csv.\n",
      "You may now upload this CSV file to Gradescope for scoring.\n"
     ]
    }
   ],
   "source": [
    "from datetime import datetime\n",
    "\n",
    "# Assuming that your predictions on the test set are stored in a 1-dimensional array called\n",
    "# test_predictions. Feel free to modify this cell as long you create a CSV in the right format.\n",
    "\n",
    "# Construct and save the submission:\n",
    "submission_df = pd.DataFrame({\n",
    "    \"Id\": test['id'], \n",
    "    \"Class\": test_predictions,\n",
    "}, columns=['Id', 'Class'])\n",
    "timestamp = datetime.isoformat(datetime.now()).split(\".\")[0]\n",
    "submission_df.to_csv(\"submission_{}.csv\".format(timestamp), index=False)\n",
    "\n",
    "print('Created a CSV file: {}.'.format(\"submission_{}.csv\".format(timestamp)))\n",
    "print('You may now upload this CSV file to Gradescope for scoring.')"
   ]
  },
  {
   "cell_type": "markdown",
   "metadata": {
    "deletable": false,
    "editable": false
   },
   "source": [
    "---\n",
    "\n",
    "To double-check your work, the cell below will rerun all of the autograder tests."
   ]
  },
  {
   "cell_type": "code",
   "execution_count": 45,
   "metadata": {
    "deletable": false,
    "editable": false
   },
   "outputs": [
    {
     "data": {
      "text/html": [
       "<p><strong>q10:</strong></p>\n",
       "\n",
       "    \n",
       "    \n",
       "        <p>All tests passed!</p>\n",
       "    \n",
       "    \n",
       "\n",
       "<p><strong>q1a:</strong></p>\n",
       "\n",
       "    \n",
       "    \n",
       "        <p>All tests passed!</p>\n",
       "    \n",
       "    \n",
       "\n",
       "<p><strong>q1b:</strong></p>\n",
       "\n",
       "    \n",
       "    \n",
       "        <p>All tests passed!</p>\n",
       "    \n",
       "    \n",
       "\n",
       "<p><strong>q2:</strong></p>\n",
       "\n",
       "    \n",
       "    \n",
       "        <p>All tests passed!</p>\n",
       "    \n",
       "    \n",
       "\n",
       "<p><strong>q4:</strong></p>\n",
       "\n",
       "    \n",
       "    \n",
       "        <p>All tests passed!</p>\n",
       "    \n",
       "    \n",
       "\n",
       "<p><strong>q5:</strong></p>\n",
       "\n",
       "    \n",
       "    \n",
       "        <p>All tests passed!</p>\n",
       "    \n",
       "    \n",
       "\n",
       "<p><strong>q6a:</strong></p>\n",
       "\n",
       "    \n",
       "    \n",
       "        <p>All tests passed!</p>\n",
       "    \n",
       "    \n",
       "\n",
       "<p><strong>q6b:</strong></p>\n",
       "\n",
       "    \n",
       "    \n",
       "        <p>All tests passed!</p>\n",
       "    \n",
       "    \n",
       "\n",
       "<p><strong>q6d:</strong></p>\n",
       "\n",
       "    \n",
       "    \n",
       "        <p>All tests passed!</p>\n",
       "    \n",
       "    \n",
       "\n"
      ],
      "text/plain": [
       "q10:\n",
       "\n",
       "    All tests passed!\n",
       "    \n",
       "\n",
       "q1a:\n",
       "\n",
       "    All tests passed!\n",
       "    \n",
       "\n",
       "q1b:\n",
       "\n",
       "    All tests passed!\n",
       "    \n",
       "\n",
       "q2:\n",
       "\n",
       "    All tests passed!\n",
       "    \n",
       "\n",
       "q4:\n",
       "\n",
       "    All tests passed!\n",
       "    \n",
       "\n",
       "q5:\n",
       "\n",
       "    All tests passed!\n",
       "    \n",
       "\n",
       "q6a:\n",
       "\n",
       "    All tests passed!\n",
       "    \n",
       "\n",
       "q6b:\n",
       "\n",
       "    All tests passed!\n",
       "    \n",
       "\n",
       "q6d:\n",
       "\n",
       "    All tests passed!\n",
       "    \n"
      ]
     },
     "execution_count": 45,
     "metadata": {},
     "output_type": "execute_result"
    }
   ],
   "source": [
    "grader.check_all()"
   ]
  },
  {
   "cell_type": "markdown",
   "metadata": {
    "deletable": false,
    "editable": false
   },
   "source": [
    "## Submission\n",
    "\n",
    "Make sure you have run all cells in your notebook in order before running the cell below, so that all images/graphs appear in the output. The cell below will generate a zip file for you to submit. **Please save before exporting!**"
   ]
  },
  {
   "cell_type": "code",
   "execution_count": 46,
   "metadata": {
    "deletable": false,
    "editable": false
   },
   "outputs": [
    {
     "data": {
      "text/html": [
       "\n",
       "                <p>Your submission has been exported. Click <a href=\"proj2.zip\" target=\"_blank\">here</a> \n",
       "                to download the zip file.</p>\n",
       "                "
      ],
      "text/plain": [
       "<IPython.core.display.HTML object>"
      ]
     },
     "metadata": {},
     "output_type": "display_data"
    }
   ],
   "source": [
    "# Save your notebook first, then run this cell to export your submission.\n",
    "grader.export(\"proj2.ipynb\")"
   ]
  },
  {
   "cell_type": "markdown",
   "metadata": {},
   "source": [
    " "
   ]
  }
 ],
 "metadata": {
  "history": [
   {
    "code": "train=train.reset_index(drop=True) # We must do this in order to preserve the ordering of emails to labels for words_in_texts\n\n# BEGIN SOLUTION\nsome_words = ['opportunity', 'bank', 'receive', 'dear', 'best', 'deal']\nPhi_train = words_in_texts(some_words, train['email'])\n\ndf = pd.DataFrame(data = Phi_train, columns = some_words)\ndf['label'] = train['spam']\n\nplt.figure(figsize=(12,8))\nsns.barplot(x = \"variable\", \n            y = \"value\", \n            hue = \"label\", \n            data = (df\n                    .replace({'label': \n                                {0 : 'Ham', \n                                 1 : 'Spam'}})\n                    .melt('label')\n                    .groupby(['label', 'variable'])\n                    .mean()\n                    .reset_index()))\n\nplt.xlabel('Words')\nplt.ylabel('Proportion of Emails')\nplt.legend(title = \"\")\nplt.title(\"Frequency of Words in Spam/Ham Emails\")\nplt.tight_layout()\nplt.show()\n# END SOLUTION",
    "id": "3da1bb8528f1420d8e4b01106abb0d1c",
    "idx": 33,
    "time": "2020-11-13T17:39:00.446Z",
    "type": "execution"
   },
   {
    "id": "3da1bb8528f1420d8e4b01106abb0d1c",
    "time": "2020-11-13T17:39:00.597Z",
    "type": "completion"
   },
   {
    "code": "# Run this cell to suppress all FutureWarnings\nimport warnings\nwarnings.filterwarnings(\"ignore\", category=FutureWarning)",
    "id": "bf4059a762a047a6a8e4179dc2c11815",
    "idx": 5,
    "time": "2020-11-13T17:39:15.247Z",
    "type": "execution"
   },
   {
    "code": "import numpy as np\nimport pandas as pd\n\nimport matplotlib.pyplot as plt\n%matplotlib inline\n\nimport seaborn as sns\nsns.set(style = \"whitegrid\", \n        color_codes = True,\n        font_scale = 1.5)",
    "id": "679de399389b410fbd1bd229389869ba",
    "idx": 8,
    "time": "2020-11-13T17:39:15.251Z",
    "type": "execution"
   },
   {
    "code": "from utils import fetch_and_cache_gdrive\nfetch_and_cache_gdrive('1SCASpLZFKCp2zek-toR3xeKX3DZnBSyp', 'train.csv')\nfetch_and_cache_gdrive('1ZDFo9OTF96B5GP2Nzn8P8-AL7CTQXmC0', 'test.csv')\n\noriginal_training_data = pd.read_csv('data/train.csv')\ntest = pd.read_csv('data/test.csv')\n\n# Convert the emails to lower case as a first step to processing the text\noriginal_training_data['email'] = original_training_data['email'].str.lower()\ntest['email'] = test['email'].str.lower()\n\noriginal_training_data.head()",
    "id": "668f75f782c041508f9e0c8f82311ad1",
    "idx": 10,
    "time": "2020-11-13T17:39:15.256Z",
    "type": "execution"
   },
   {
    "code": "# BEGIN SOLUTION\nprint('Before imputation:')\nprint(original_training_data.isnull().sum())\noriginal_training_data = original_training_data.fillna('')\nprint('------------')\nprint('After imputation:')\nprint(original_training_data.isnull().sum())\n# END SOLUTION",
    "id": "68e38b511a2c4f5480d4eda2b0082a11",
    "idx": 12,
    "time": "2020-11-13T17:39:15.259Z",
    "type": "execution"
   },
   {
    "code": "# TEST\noriginal_training_data.isnull().sum().sum() == 0",
    "id": "7f4b00c62776443e817cd5a255aa14b9",
    "idx": 13,
    "time": "2020-11-13T17:39:15.261Z",
    "type": "execution"
   },
   {
    "code": "first_ham = original_training_data.loc[original_training_data['spam'] == 0, 'email'].iloc[0] # SOLUTION\nfirst_spam = original_training_data.loc[original_training_data['spam'] == 1, 'email'].iloc[0] # SOLUTION\nprint(first_ham)\nprint(first_spam)",
    "id": "bfb55fdfdfb1456785bb78790aad426b",
    "idx": 15,
    "time": "2020-11-13T17:39:15.264Z",
    "type": "execution"
   },
   {
    "code": "# TEST\nlen(first_ham) > 0 and first_ham[:0] == ''",
    "id": "6345c5019a384a618017acbb080996d9",
    "idx": 16,
    "time": "2020-11-13T17:39:15.265Z",
    "type": "execution"
   },
   {
    "code": "# TEST\nlen(first_spam) > 0 and first_spam[:0] == ''",
    "id": "ee844f20ed0a41c4b81ff495fe482bdf",
    "idx": 17,
    "time": "2020-11-13T17:39:15.268Z",
    "type": "execution"
   },
   {
    "code": "# HIDDEN TEST\noriginal_training_data.loc[original_training_data['spam'] == 0, 'email'].iloc[0] in first_ham",
    "id": "13a350f12fac4931be17235a1daf0a93",
    "idx": 18,
    "time": "2020-11-13T17:39:15.270Z",
    "type": "execution"
   },
   {
    "code": "# HIDDEN TEST\noriginal_training_data.loc[original_training_data['spam'] == 1, 'email'].iloc[0] in first_spam",
    "id": "a90683e4a73346878a06d732d7101c87",
    "idx": 19,
    "time": "2020-11-13T17:39:15.272Z",
    "type": "execution"
   },
   {
    "code": "# This creates a 90/10 train-validation split on our labeled data\n\nfrom sklearn.model_selection import train_test_split\n\ntrain, val = train_test_split(original_training_data, test_size=0.1, random_state=42)",
    "id": "7523257e508447369ca710ce27eba7b1",
    "idx": 23,
    "time": "2020-11-13T17:39:15.276Z",
    "type": "execution"
   },
   {
    "code": "def words_in_texts(words, texts):\n    '''\n    Args:\n        words (list): words to find\n        texts (Series): strings to search in\n    \n    Returns:\n        NumPy array of 0s and 1s with shape (n, p) where n is the\n        number of texts and p is the number of words.\n    '''\n    indicator_array = 1 * np.array([texts.str.contains(word) for word in words]).T # SOLUTION\n    return indicator_array",
    "id": "81aa3a295d054268acb33351ad567192",
    "idx": 26,
    "time": "2020-11-13T17:39:15.279Z",
    "type": "execution"
   },
   {
    "code": "# TEST\nnp.allclose(words_in_texts(['hello', 'bye', 'world'], \n                           pd.Series(['hello', 'hello worldhello'])),\n            np.array([[1, 0, 0], \n                      [1, 0, 1]]))",
    "id": "690ffc0aa5e446949b45a8b4ecd76f85",
    "idx": 27,
    "time": "2020-11-13T17:39:15.282Z",
    "type": "execution"
   },
   {
    "code": "# TEST\nnp.allclose(words_in_texts(['a', 'b', 'c', 'd', 'e', 'f', 'g'], \n                           pd.Series(['a b c d ef g', 'a', 'b', 'c', 'd e f g', 'h', 'a h'])),\n            np.array([[1,1,1,1,1,1,1], \n                      [1,0,0,0,0,0,0],\n                      [0,1,0,0,0,0,0],\n                      [0,0,1,0,0,0,0],\n                      [0,0,0,1,1,1,1],\n                      [0,0,0,0,0,0,0],\n                      [1,0,0,0,0,0,0]]))",
    "id": "c3fba6032da048efaf5bf9b349cfb4f8",
    "idx": 28,
    "time": "2020-11-13T17:39:15.284Z",
    "type": "execution"
   },
   {
    "code": "from IPython.display import display, Markdown\ndf = pd.DataFrame({\n    'word_1': [1, 0, 1, 0],\n    'word_2': [0, 1, 0, 1],\n    'type': ['spam', 'ham', 'ham', 'ham']\n})\ndisplay(Markdown(\"> Our Original DataFrame has a `type` column and some columns corresponding to words. You can think of each row as a sentence, and the value of 1 or 0 indicates the number of occurences of the word in this sentence.\"))\ndisplay(df);\ndisplay(Markdown(\"> `melt` will turn columns into entries in a variable column. Notice how `word_1` and `word_2` become entries in `variable`; their values are stored in the value column.\"))\ndisplay(df.melt(\"type\"))",
    "id": "c248bceea6bd440c870eb7f942fcf77e",
    "idx": 31,
    "time": "2020-11-13T17:39:15.289Z",
    "type": "execution"
   },
   {
    "code": "train=train.reset_index(drop=True) # We must do this in order to preserve the ordering of emails to labels for words_in_texts\n\n# BEGIN SOLUTION\nsome_words = ['opportunity', 'bank', 'receive', 'dear', 'best', 'deal']\nPhi_train = words_in_texts(some_words, train['email'])\n\ndf = pd.DataFrame(data = Phi_train, columns = some_words)\ndf['label'] = train['spam']\n\nplt.figure(figsize=(12,8))\nsns.barplot(x = \"variable\", \n            y = \"value\", \n            hue = \"label\", \n            data = (df\n                    .replace({'label': \n                                {0 : 'Ham', \n                                 1 : 'Spam'}})\n                    .melt('label')\n                    .groupby(['label', 'variable'])\n                    .mean()\n                    .reset_index()))\n\nplt.xlabel('Words')\nplt.ylabel('Proportion of Emails')\nplt.legend(title = \"\")\nplt.title(\"Frequency of Words in Spam/Ham Emails\")\nplt.tight_layout()\nplt.show()\n# END SOLUTION",
    "id": "3da1bb8528f1420d8e4b01106abb0d1c",
    "idx": 33,
    "time": "2020-11-13T17:39:15.291Z",
    "type": "execution"
   },
   {
    "code": "# BEGIN SOLUTION\ntmp = train.copy()\ntmp['length'] = tmp['email'].str.len()\nplt.figure(figsize=(10, 6))\nsns.distplot(tmp.loc[tmp['spam'] == 0, 'length'],hist=False, label='Ham')\nsns.distplot(tmp.loc[tmp['spam'] == 1, 'length'],hist=False, label='Spam')\nplt.title('Distribution of Email Body Length')\nplt.xlabel('Length of email body')\nplt.ylabel('Distribution')\nplt.xlim((0,50000))\nplt.tight_layout()\nplt.legend();\n# END SOLUTION",
    "id": "ccae3bbd17a7472584923d1fd81f0c4b",
    "idx": 36,
    "time": "2020-11-13T17:39:15.295Z",
    "type": "execution"
   },
   {
    "code": "some_words = ['drug', 'bank', 'prescription', 'memo', 'private']\n\nX_train = words_in_texts(some_words, train['email']) # SOLUTION\nY_train = np.array(train['spam']) # SOLUTION\n\nX_train[:5], Y_train[:5]",
    "id": "4228df6326c449d782e8471fb2f787fe",
    "idx": 39,
    "time": "2020-11-13T17:39:15.297Z",
    "type": "execution"
   },
   {
    "code": "# TEST\nX_train.shape == (7513, 5)",
    "id": "16be536580a04248971c0fcb94bb3f0e",
    "idx": 40,
    "time": "2020-11-13T17:39:15.299Z",
    "type": "execution"
   },
   {
    "code": "# TEST\nnp.array_equal(np.unique(X_train), np.array([0, 1])) # X matrix should consist of only 0 or 1",
    "id": "dc0cb916fcc5470885a644448fa6684c",
    "idx": 41,
    "time": "2020-11-13T17:39:15.301Z",
    "type": "execution"
   },
   {
    "code": "# TEST\nnp.array_equal(np.unique(Y_train), np.array([0, 1])) # y vector should consist of only 0 or 1",
    "id": "7b8699ffc3414488a9d374ae3a762231",
    "idx": 42,
    "time": "2020-11-13T17:39:15.303Z",
    "type": "execution"
   },
   {
    "code": "from sklearn.linear_model import LogisticRegression\n\nmodel = LogisticRegression(solver = 'lbfgs') # SOLUTION\nmodel.fit(X_train, Y_train) # SOLUTION\n\ntraining_accuracy = model.score(X_train, Y_train) # SOLUTION\nprint(\"Training Accuracy: \", training_accuracy)",
    "id": "6a1a859678394a819af601759e1b4c0d",
    "idx": 44,
    "time": "2020-11-13T17:39:15.305Z",
    "type": "execution"
   },
   {
    "code": "# TEST\ntraining_accuracy > 0.72",
    "id": "45afd18c3a604fd8825017255e72891e",
    "idx": 45,
    "time": "2020-11-13T17:39:15.307Z",
    "type": "execution"
   },
   {
    "code": "zero_predictor_fp = 0 # SOLUTION\nzero_predictor_fn = sum(Y_train == 1) # SOLUTION\nzero_predictor_fp, zero_predictor_fn",
    "id": "30f5741e6f4742119d46340efe2e6a52",
    "idx": 49,
    "time": "2020-11-13T17:39:15.310Z",
    "type": "execution"
   },
   {
    "code": "# TEST\nzero_predictor_fp >= 0",
    "id": "23064baca6924c4c9f2d7f478494c007",
    "idx": 50,
    "time": "2020-11-13T17:39:15.312Z",
    "type": "execution"
   },
   {
    "code": "# TEST\nzero_predictor_fn >= 0",
    "id": "3475b02fb61a47839320a7c9edd5d518",
    "idx": 51,
    "time": "2020-11-13T17:39:15.314Z",
    "type": "execution"
   },
   {
    "code": "# HIDDEN TEST\nnp.isclose(zero_predictor_fp, 0)",
    "id": "feef0e913db14b6b8101c4489462b487",
    "idx": 52,
    "time": "2020-11-13T17:39:15.316Z",
    "type": "execution"
   },
   {
    "code": "# HIDDEN TEST\nzero_predictor_fn == 1918",
    "id": "8dde97c384214925a9c7f42f58f87aaf",
    "idx": 53,
    "time": "2020-11-13T17:39:15.318Z",
    "type": "execution"
   },
   {
    "code": "zero_predictor_acc = np.mean(Y_train == 0) # SOLUTION\nzero_predictor_recall = 0 # SOLUTION\nzero_predictor_acc, zero_predictor_recall",
    "id": "933ef39465ec409e96b3a53f6203baab",
    "idx": 55,
    "time": "2020-11-13T17:39:15.321Z",
    "type": "execution"
   },
   {
    "code": "# TEST\nzero_predictor_acc >= 0",
    "id": "2499a1d760f1441299b055adc8736e68",
    "idx": 56,
    "time": "2020-11-13T17:39:15.322Z",
    "type": "execution"
   },
   {
    "code": "# TEST\nzero_predictor_recall >= 0",
    "id": "2de51ed2ec9f4e11be1000fb204774a3",
    "idx": 57,
    "time": "2020-11-13T17:39:15.324Z",
    "type": "execution"
   },
   {
    "code": "# HIDDEN TEST\nnp.isclose(zero_predictor_acc, 0.7447091707706642)",
    "id": "ff5d5782535a42019b7eb5a8ec2753dc",
    "idx": 58,
    "time": "2020-11-13T17:39:15.325Z",
    "type": "execution"
   },
   {
    "code": "# HIDDEN TEST\nnp.isclose(zero_predictor_recall, 0)",
    "id": "f0850a5e5e024d2d9f9bcafe925e1901",
    "idx": 59,
    "time": "2020-11-13T17:39:15.327Z",
    "type": "execution"
   },
   {
    "code": "# BEGIN SOLUTION NO PROMPT\nY_train_hat = model.predict(X_train)\n\nTP = sum((Y_train_hat == Y_train) & (Y_train_hat == 1))\nTN = sum((Y_train_hat == Y_train) & (Y_train_hat == 0))\nFP = sum((Y_train_hat != Y_train) & (Y_train_hat == 1))\nFN = sum((Y_train_hat != Y_train) & (Y_train_hat == 0))\n# END SOLUTION\nlogistic_predictor_precision = TP / (TP + FP) # SOLUTION\nlogistic_predictor_recall = TP / (TP + FN) # SOLUTION\nlogistic_predictor_far = FP / (FP + TN) # SOLUTION",
    "id": "aa340a7e7443411fb115580a71b83b27",
    "idx": 63,
    "time": "2020-11-13T17:39:15.330Z",
    "type": "execution"
   },
   {
    "code": "# TEST\nlogistic_predictor_precision >= 0",
    "id": "2be7e72466a649f1822d8f8458cf3921",
    "idx": 64,
    "time": "2020-11-13T17:39:15.332Z",
    "type": "execution"
   },
   {
    "code": "# TEST\nlogistic_predictor_recall >= 0",
    "id": "70a7e749219e434092993513497dc589",
    "idx": 65,
    "time": "2020-11-13T17:39:15.335Z",
    "type": "execution"
   },
   {
    "code": "# TEST\nlogistic_predictor_far >= 0",
    "id": "c555cae2efe24a11960d966fee18793b",
    "idx": 66,
    "time": "2020-11-13T17:39:15.335Z",
    "type": "execution"
   },
   {
    "code": "# HIDDEN TEST\nnp.isclose(logistic_predictor_precision, 0.6422287390029325)",
    "id": "84339b96007044c18bb3370123e713d5",
    "idx": 67,
    "time": "2020-11-13T17:39:15.338Z",
    "type": "execution"
   },
   {
    "code": "# HIDDEN TEST\nnp.isclose(logistic_predictor_recall, 0.11418143899895725)",
    "id": "e9752dbea367428782b9be92a30dfd54",
    "idx": 68,
    "time": "2020-11-13T17:39:15.340Z",
    "type": "execution"
   },
   {
    "code": "# HIDDEN TEST\nnp.isclose(logistic_predictor_far, 0.021805183199285077)",
    "id": "b7177c97cf0a4893a65e2229d24bddde",
    "idx": 69,
    "time": "2020-11-13T17:39:15.341Z",
    "type": "execution"
   },
   {
    "code": "# Write your description (2-3 sentences) as a comment here:\n# \n#\n#\n\n# Write the code to generate your visualization here:\n# BEGIN SOLUTION\nplt.plot([1, 3, 5]) # This is a dummy plot, not a real example of a solution\n# END SOLUTION",
    "id": "8c0c0ab98ec64e0f843fdaaa8287e1b3",
    "idx": 79,
    "time": "2020-11-13T17:39:15.347Z",
    "type": "execution"
   },
   {
    "code": "from sklearn.metrics import roc_curve\n\n# Note that you'll want to use the .predict_proba(...) method for your classifier\n# instead of .predict(...) so you get probabilities, not classes\n\n# BEGIN SOLUTION\nstaff_words = ['body', 'click', 'please', 'base64', '2002', 'html', 'subscribed',\n               'wrote', 'mortgage', 'align3dcenterfont', 'dear', 'br', 'width10img',\n               'divfont', 'im', 'receive', 'list', 'tags', 'web', 'base64', 'click',\n               'body', 'please', 'money', 'offer', 'receive', 'contact', 'free',\n               'tr', 'removed', 'remove', 'html', 'font', 'form',\n               'credit', 'business', 'div']\n\nX_train_2 = words_in_texts(staff_words, train['email'])\n\nstaff_model = LogisticRegression(solver = 'lbfgs')\nstaff_model.fit(X_train_2, Y_train)\n\nprint('accuracy: ', staff_model.score(X_train_2, Y_train))\n\nY_predict = staff_model.predict_proba(X_train_2)[:, 1]\nfpr, tpr, thresholds = roc_curve(Y_train, Y_predict)\nwith sns.axes_style(\"white\"):\n    plt.plot(fpr, tpr)\nplt.xlabel(\"False Positive Rate\")\nplt.ylabel(\"True Positive Rate\")\nplt.xlim([0, 1])\nplt.ylim([0, 1])\nplt.show()\n# END SOLUTION",
    "id": "8059141c245f48d1843bcdba92a55cd9",
    "idx": 81,
    "time": "2020-11-13T17:39:15.349Z",
    "type": "execution"
   },
   {
    "code": "test_predictions = staff_model.predict(words_in_texts(staff_words, test['email'])) # SOLUTION",
    "id": "b3b715b7bbe440a29afc031436448f68",
    "idx": 83,
    "time": "2020-11-13T17:39:15.351Z",
    "type": "execution"
   },
   {
    "code": "# TEST\nisinstance(test_predictions, np.ndarray) # must be ndarray of predictions",
    "id": "4b8c3b3000f8467d8e92f63713c5a948",
    "idx": 84,
    "time": "2020-11-13T17:39:15.353Z",
    "type": "execution"
   },
   {
    "code": "# TEST\nnp.array_equal(np.unique(test_predictions), np.array([0, 1])) # must be binary labels (0 or 1) and not probabilities",
    "id": "e49cb9eca4884f10bd54709c678f11c4",
    "idx": 85,
    "time": "2020-11-13T17:39:15.355Z",
    "type": "execution"
   },
   {
    "code": "# TEST\nlen(test_predictions) == 1000 # must be the right number of predictions",
    "id": "558f42cfe8c64125afce510c3b7d9647",
    "idx": 86,
    "time": "2020-11-13T17:39:15.357Z",
    "type": "execution"
   },
   {
    "code": "from datetime import datetime\n\n# Assuming that your predictions on the test set are stored in a 1-dimensional array called\n# test_predictions. Feel free to modify this cell as long you create a CSV in the right format.\n\n# Construct and save the submission:\nsubmission_df = pd.DataFrame({\n    \"Id\": test['id'], \n    \"Class\": test_predictions,\n}, columns=['Id', 'Class'])\ntimestamp = datetime.isoformat(datetime.now()).split(\".\")[0]\nsubmission_df.to_csv(\"submission_{}.csv\".format(timestamp), index=False)\n\nprint('Created a CSV file: {}.'.format(\"submission_{}.csv\".format(timestamp)))\nprint('You may now upload this CSV file to Gradescope for scoring.')",
    "id": "951a8f66c9384b52b03fd07762ba6645",
    "idx": 88,
    "time": "2020-11-13T17:39:15.359Z",
    "type": "execution"
   },
   {
    "id": "bf4059a762a047a6a8e4179dc2c11815",
    "time": "2020-11-13T17:39:15.381Z",
    "type": "completion"
   },
   {
    "id": "679de399389b410fbd1bd229389869ba",
    "time": "2020-11-13T17:39:16.314Z",
    "type": "completion"
   },
   {
    "id": "668f75f782c041508f9e0c8f82311ad1",
    "time": "2020-11-13T17:39:17.398Z",
    "type": "completion"
   },
   {
    "id": "68e38b511a2c4f5480d4eda2b0082a11",
    "time": "2020-11-13T17:39:17.402Z",
    "type": "completion"
   },
   {
    "id": "7f4b00c62776443e817cd5a255aa14b9",
    "time": "2020-11-13T17:39:17.451Z",
    "type": "completion"
   },
   {
    "id": "bfb55fdfdfb1456785bb78790aad426b",
    "time": "2020-11-13T17:39:17.502Z",
    "type": "completion"
   },
   {
    "id": "6345c5019a384a618017acbb080996d9",
    "time": "2020-11-13T17:39:17.557Z",
    "type": "completion"
   },
   {
    "id": "ee844f20ed0a41c4b81ff495fe482bdf",
    "time": "2020-11-13T17:39:17.641Z",
    "type": "completion"
   },
   {
    "id": "13a350f12fac4931be17235a1daf0a93",
    "time": "2020-11-13T17:39:17.687Z",
    "type": "completion"
   },
   {
    "id": "a90683e4a73346878a06d732d7101c87",
    "time": "2020-11-13T17:39:17.724Z",
    "type": "completion"
   },
   {
    "id": "7523257e508447369ca710ce27eba7b1",
    "time": "2020-11-13T17:39:17.810Z",
    "type": "completion"
   },
   {
    "id": "81aa3a295d054268acb33351ad567192",
    "time": "2020-11-13T17:39:17.822Z",
    "type": "completion"
   },
   {
    "id": "690ffc0aa5e446949b45a8b4ecd76f85",
    "time": "2020-11-13T17:39:17.854Z",
    "type": "completion"
   },
   {
    "id": "c3fba6032da048efaf5bf9b349cfb4f8",
    "time": "2020-11-13T17:39:17.895Z",
    "type": "completion"
   },
   {
    "id": "c248bceea6bd440c870eb7f942fcf77e",
    "time": "2020-11-13T17:39:17.923Z",
    "type": "completion"
   },
   {
    "id": "3da1bb8528f1420d8e4b01106abb0d1c",
    "time": "2020-11-13T17:39:18.623Z",
    "type": "completion"
   },
   {
    "id": "ccae3bbd17a7472584923d1fd81f0c4b",
    "time": "2020-11-13T17:39:19.061Z",
    "type": "completion"
   },
   {
    "id": "4228df6326c449d782e8471fb2f787fe",
    "time": "2020-11-13T17:39:19.120Z",
    "type": "completion"
   },
   {
    "id": "16be536580a04248971c0fcb94bb3f0e",
    "time": "2020-11-13T17:39:19.127Z",
    "type": "completion"
   },
   {
    "id": "dc0cb916fcc5470885a644448fa6684c",
    "time": "2020-11-13T17:39:19.185Z",
    "type": "completion"
   },
   {
    "id": "7b8699ffc3414488a9d374ae3a762231",
    "time": "2020-11-13T17:39:19.247Z",
    "type": "completion"
   },
   {
    "id": "6a1a859678394a819af601759e1b4c0d",
    "time": "2020-11-13T17:39:19.371Z",
    "type": "completion"
   },
   {
    "id": "45afd18c3a604fd8825017255e72891e",
    "time": "2020-11-13T17:39:19.383Z",
    "type": "completion"
   },
   {
    "id": "30f5741e6f4742119d46340efe2e6a52",
    "time": "2020-11-13T17:39:19.485Z",
    "type": "completion"
   },
   {
    "id": "23064baca6924c4c9f2d7f478494c007",
    "time": "2020-11-13T17:39:19.536Z",
    "type": "completion"
   },
   {
    "id": "3475b02fb61a47839320a7c9edd5d518",
    "time": "2020-11-13T17:39:19.588Z",
    "type": "completion"
   },
   {
    "id": "feef0e913db14b6b8101c4489462b487",
    "time": "2020-11-13T17:39:19.642Z",
    "type": "completion"
   },
   {
    "id": "8dde97c384214925a9c7f42f58f87aaf",
    "time": "2020-11-13T17:39:19.709Z",
    "type": "completion"
   },
   {
    "id": "933ef39465ec409e96b3a53f6203baab",
    "time": "2020-11-13T17:39:19.769Z",
    "type": "completion"
   },
   {
    "id": "2499a1d760f1441299b055adc8736e68",
    "time": "2020-11-13T17:39:19.867Z",
    "type": "completion"
   },
   {
    "id": "2de51ed2ec9f4e11be1000fb204774a3",
    "time": "2020-11-13T17:39:20.000Z",
    "type": "completion"
   },
   {
    "id": "ff5d5782535a42019b7eb5a8ec2753dc",
    "time": "2020-11-13T17:39:20.086Z",
    "type": "completion"
   },
   {
    "id": "f0850a5e5e024d2d9f9bcafe925e1901",
    "time": "2020-11-13T17:39:20.167Z",
    "type": "completion"
   },
   {
    "id": "aa340a7e7443411fb115580a71b83b27",
    "time": "2020-11-13T17:39:20.390Z",
    "type": "completion"
   },
   {
    "id": "2be7e72466a649f1822d8f8458cf3921",
    "time": "2020-11-13T17:39:20.396Z",
    "type": "completion"
   },
   {
    "id": "70a7e749219e434092993513497dc589",
    "time": "2020-11-13T17:39:20.469Z",
    "type": "completion"
   },
   {
    "id": "c555cae2efe24a11960d966fee18793b",
    "time": "2020-11-13T17:39:20.553Z",
    "type": "completion"
   },
   {
    "id": "84339b96007044c18bb3370123e713d5",
    "time": "2020-11-13T17:39:20.650Z",
    "type": "completion"
   },
   {
    "id": "e9752dbea367428782b9be92a30dfd54",
    "time": "2020-11-13T17:39:20.717Z",
    "type": "completion"
   },
   {
    "id": "b7177c97cf0a4893a65e2229d24bddde",
    "time": "2020-11-13T17:39:20.772Z",
    "type": "completion"
   },
   {
    "id": "8c0c0ab98ec64e0f843fdaaa8287e1b3",
    "time": "2020-11-13T17:39:21.057Z",
    "type": "completion"
   },
   {
    "id": "8059141c245f48d1843bcdba92a55cd9",
    "time": "2020-11-13T17:39:22.358Z",
    "type": "completion"
   },
   {
    "id": "b3b715b7bbe440a29afc031436448f68",
    "time": "2020-11-13T17:39:22.422Z",
    "type": "completion"
   },
   {
    "id": "4b8c3b3000f8467d8e92f63713c5a948",
    "time": "2020-11-13T17:39:22.456Z",
    "type": "completion"
   },
   {
    "id": "e49cb9eca4884f10bd54709c678f11c4",
    "time": "2020-11-13T17:39:22.531Z",
    "type": "completion"
   },
   {
    "id": "558f42cfe8c64125afce510c3b7d9647",
    "time": "2020-11-13T17:39:22.633Z",
    "type": "completion"
   },
   {
    "id": "951a8f66c9384b52b03fd07762ba6645",
    "time": "2020-11-13T17:39:22.769Z",
    "type": "completion"
   },
   {
    "code": "sns.distplot(tmp[tmp['spam']==0].length)",
    "id": "7d23973917c7446e89e5254e568f0870",
    "idx": 37,
    "time": "2020-11-13T17:47:19.110Z",
    "type": "execution"
   },
   {
    "id": "7d23973917c7446e89e5254e568f0870",
    "time": "2020-11-13T17:47:19.599Z",
    "type": "completion"
   },
   {
    "code": "sns.distplot(tmp[tmp['spam']==1].length)",
    "id": "3fa95f246e09494289e5530c5b1afc30",
    "idx": 37,
    "time": "2020-11-13T17:47:27.053Z",
    "type": "execution"
   },
   {
    "id": "3fa95f246e09494289e5530c5b1afc30",
    "time": "2020-11-13T17:47:27.538Z",
    "type": "completion"
   },
   {
    "code": "sns.distplot(tmp[tmp['spam']==1].length)\nplt.xlim(0, 50000)",
    "id": "3fa95f246e09494289e5530c5b1afc30",
    "idx": 37,
    "time": "2020-11-13T17:47:41.149Z",
    "type": "execution"
   },
   {
    "id": "3fa95f246e09494289e5530c5b1afc30",
    "time": "2020-11-13T17:47:41.623Z",
    "type": "completion"
   },
   {
    "code": "sns.distplot(tmp[tmp['spam']==0].length)\nplt.xlim(0, 50000)",
    "id": "7d23973917c7446e89e5254e568f0870",
    "idx": 38,
    "time": "2020-11-13T17:47:45.930Z",
    "type": "execution"
   },
   {
    "id": "7d23973917c7446e89e5254e568f0870",
    "time": "2020-11-13T17:47:46.515Z",
    "type": "completion"
   },
   {
    "code": "# BEGIN SOLUTION\ntmp = train.copy()\ntmp['length'] = tmp['email'].str.len()\nplt.figure(figsize=(10, 6))\nsns.distplot(tmp.loc[tmp['spam'] == 0, 'length'],hist=False, label='Ham')\nsns.distplot(tmp.loc[tmp['spam'] == 1, 'length'],hist=False, label='Spam')\nplt.title('Distribution of Email Body Length')\nplt.xlabel('Length of email body')\nplt.ylabel('Distribution')\nplt.xlim((0,50000))\nplt.tight_layout()\nplt.legend();\n# END SOLUTION\nplt.savefig('training_conditional_densities.png')",
    "id": "ccae3bbd17a7472584923d1fd81f0c4b",
    "idx": 36,
    "time": "2020-11-13T17:48:23.568Z",
    "type": "execution"
   },
   {
    "id": "ccae3bbd17a7472584923d1fd81f0c4b",
    "time": "2020-11-13T17:48:24.403Z",
    "type": "completion"
   },
   {
    "code": "# Run this cell to suppress all FutureWarnings\nimport warnings\nwarnings.filterwarnings(\"ignore\", category=FutureWarning)",
    "id": "bf4059a762a047a6a8e4179dc2c11815",
    "idx": 5,
    "time": "2020-11-13T17:50:40.136Z",
    "type": "execution"
   },
   {
    "id": "bf4059a762a047a6a8e4179dc2c11815",
    "time": "2020-11-13T17:50:40.313Z",
    "type": "completion"
   },
   {
    "code": "import numpy as np\nimport pandas as pd\n\nimport matplotlib.pyplot as plt\n%matplotlib inline\n\nimport seaborn as sns\nsns.set(style = \"whitegrid\", \n        color_codes = True,\n        font_scale = 1.5)",
    "id": "679de399389b410fbd1bd229389869ba",
    "idx": 8,
    "time": "2020-11-13T17:50:40.821Z",
    "type": "execution"
   },
   {
    "id": "679de399389b410fbd1bd229389869ba",
    "time": "2020-11-13T17:50:40.897Z",
    "type": "completion"
   },
   {
    "code": "from utils import fetch_and_cache_gdrive\nfetch_and_cache_gdrive('1SCASpLZFKCp2zek-toR3xeKX3DZnBSyp', 'train.csv')\nfetch_and_cache_gdrive('1ZDFo9OTF96B5GP2Nzn8P8-AL7CTQXmC0', 'test.csv')\n\noriginal_training_data = pd.read_csv('data/train.csv')\ntest = pd.read_csv('data/test.csv')\n\n# Convert the emails to lower case as a first step to processing the text\noriginal_training_data['email'] = original_training_data['email'].str.lower()\ntest['email'] = test['email'].str.lower()\n\noriginal_training_data.head()",
    "id": "668f75f782c041508f9e0c8f82311ad1",
    "idx": 10,
    "time": "2020-11-13T17:50:41.062Z",
    "type": "execution"
   },
   {
    "code": "# BEGIN SOLUTION\nprint('Before imputation:')\nprint(original_training_data.isnull().sum())\noriginal_training_data = original_training_data.fillna('')\nprint('------------')\nprint('After imputation:')\nprint(original_training_data.isnull().sum())\n# END SOLUTION",
    "id": "68e38b511a2c4f5480d4eda2b0082a11",
    "idx": 12,
    "time": "2020-11-13T17:50:41.287Z",
    "type": "execution"
   },
   {
    "code": "# TEST\noriginal_training_data.isnull().sum().sum() == 0",
    "id": "7f4b00c62776443e817cd5a255aa14b9",
    "idx": 13,
    "time": "2020-11-13T17:50:41.411Z",
    "type": "execution"
   },
   {
    "id": "668f75f782c041508f9e0c8f82311ad1",
    "time": "2020-11-13T17:50:41.553Z",
    "type": "completion"
   },
   {
    "id": "68e38b511a2c4f5480d4eda2b0082a11",
    "time": "2020-11-13T17:50:41.562Z",
    "type": "completion"
   },
   {
    "id": "7f4b00c62776443e817cd5a255aa14b9",
    "time": "2020-11-13T17:50:41.606Z",
    "type": "completion"
   },
   {
    "code": "first_ham = original_training_data.loc[original_training_data['spam'] == 0, 'email'].iloc[0] # SOLUTION\nfirst_spam = original_training_data.loc[original_training_data['spam'] == 1, 'email'].iloc[0] # SOLUTION\nprint(first_ham)\nprint(first_spam)",
    "id": "bfb55fdfdfb1456785bb78790aad426b",
    "idx": 15,
    "time": "2020-11-13T17:50:42.451Z",
    "type": "execution"
   },
   {
    "id": "bfb55fdfdfb1456785bb78790aad426b",
    "time": "2020-11-13T17:50:42.530Z",
    "type": "completion"
   },
   {
    "code": "# TEST\nlen(first_ham) > 0 and first_ham[:0] == ''",
    "id": "6345c5019a384a618017acbb080996d9",
    "idx": 16,
    "time": "2020-11-13T17:50:42.586Z",
    "type": "execution"
   },
   {
    "id": "6345c5019a384a618017acbb080996d9",
    "time": "2020-11-13T17:50:42.656Z",
    "type": "completion"
   },
   {
    "code": "# TEST\nlen(first_spam) > 0 and first_spam[:0] == ''",
    "id": "ee844f20ed0a41c4b81ff495fe482bdf",
    "idx": 17,
    "time": "2020-11-13T17:50:42.774Z",
    "type": "execution"
   },
   {
    "id": "ee844f20ed0a41c4b81ff495fe482bdf",
    "time": "2020-11-13T17:50:42.839Z",
    "type": "completion"
   },
   {
    "code": "# HIDDEN TEST\noriginal_training_data.loc[original_training_data['spam'] == 0, 'email'].iloc[0] in first_ham",
    "id": "13a350f12fac4931be17235a1daf0a93",
    "idx": 18,
    "time": "2020-11-13T17:50:42.995Z",
    "type": "execution"
   },
   {
    "id": "13a350f12fac4931be17235a1daf0a93",
    "time": "2020-11-13T17:50:43.069Z",
    "type": "completion"
   },
   {
    "code": "# HIDDEN TEST\noriginal_training_data.loc[original_training_data['spam'] == 1, 'email'].iloc[0] in first_spam",
    "id": "a90683e4a73346878a06d732d7101c87",
    "idx": 19,
    "time": "2020-11-13T17:50:43.103Z",
    "type": "execution"
   },
   {
    "id": "a90683e4a73346878a06d732d7101c87",
    "time": "2020-11-13T17:50:43.180Z",
    "type": "completion"
   },
   {
    "code": "# This creates a 90/10 train-validation split on our labeled data\n\nfrom sklearn.model_selection import train_test_split\n\ntrain, val = train_test_split(original_training_data, test_size=0.1, random_state=42)",
    "id": "7523257e508447369ca710ce27eba7b1",
    "idx": 23,
    "time": "2020-11-13T17:50:43.719Z",
    "type": "execution"
   },
   {
    "id": "7523257e508447369ca710ce27eba7b1",
    "time": "2020-11-13T17:50:43.793Z",
    "type": "completion"
   },
   {
    "code": "def words_in_texts(words, texts):\n    '''\n    Args:\n        words (list): words to find\n        texts (Series): strings to search in\n    \n    Returns:\n        NumPy array of 0s and 1s with shape (n, p) where n is the\n        number of texts and p is the number of words.\n    '''\n    indicator_array = 1 * np.array([texts.str.contains(word) for word in words]).T # SOLUTION\n    return indicator_array",
    "id": "81aa3a295d054268acb33351ad567192",
    "idx": 26,
    "time": "2020-11-13T17:50:44.197Z",
    "type": "execution"
   },
   {
    "id": "81aa3a295d054268acb33351ad567192",
    "time": "2020-11-13T17:50:44.266Z",
    "type": "completion"
   },
   {
    "code": "# TEST\nnp.allclose(words_in_texts(['hello', 'bye', 'world'], \n                           pd.Series(['hello', 'hello worldhello'])),\n            np.array([[1, 0, 0], \n                      [1, 0, 1]]))",
    "id": "690ffc0aa5e446949b45a8b4ecd76f85",
    "idx": 27,
    "time": "2020-11-13T17:50:44.320Z",
    "type": "execution"
   },
   {
    "id": "690ffc0aa5e446949b45a8b4ecd76f85",
    "time": "2020-11-13T17:50:44.392Z",
    "type": "completion"
   },
   {
    "code": "# TEST\nnp.allclose(words_in_texts(['a', 'b', 'c', 'd', 'e', 'f', 'g'], \n                           pd.Series(['a b c d ef g', 'a', 'b', 'c', 'd e f g', 'h', 'a h'])),\n            np.array([[1,1,1,1,1,1,1], \n                      [1,0,0,0,0,0,0],\n                      [0,1,0,0,0,0,0],\n                      [0,0,1,0,0,0,0],\n                      [0,0,0,1,1,1,1],\n                      [0,0,0,0,0,0,0],\n                      [1,0,0,0,0,0,0]]))",
    "id": "c3fba6032da048efaf5bf9b349cfb4f8",
    "idx": 28,
    "time": "2020-11-13T17:50:44.456Z",
    "type": "execution"
   },
   {
    "id": "c3fba6032da048efaf5bf9b349cfb4f8",
    "time": "2020-11-13T17:50:44.532Z",
    "type": "completion"
   },
   {
    "code": "from IPython.display import display, Markdown\ndf = pd.DataFrame({\n    'word_1': [1, 0, 1, 0],\n    'word_2': [0, 1, 0, 1],\n    'type': ['spam', 'ham', 'ham', 'ham']\n})\ndisplay(Markdown(\"> Our Original DataFrame has a `type` column and some columns corresponding to words. You can think of each row as a sentence, and the value of 1 or 0 indicates the number of occurences of the word in this sentence.\"))\ndisplay(df);\ndisplay(Markdown(\"> `melt` will turn columns into entries in a variable column. Notice how `word_1` and `word_2` become entries in `variable`; their values are stored in the value column.\"))\ndisplay(df.melt(\"type\"))",
    "id": "c248bceea6bd440c870eb7f942fcf77e",
    "idx": 31,
    "time": "2020-11-13T17:50:44.843Z",
    "type": "execution"
   },
   {
    "id": "c248bceea6bd440c870eb7f942fcf77e",
    "time": "2020-11-13T17:50:44.938Z",
    "type": "completion"
   },
   {
    "code": "train=train.reset_index(drop=True) # We must do this in order to preserve the ordering of emails to labels for words_in_texts\n\n# BEGIN SOLUTION\nsome_words = ['opportunity', 'bank', 'receive', 'dear', 'best', 'deal']\nPhi_train = words_in_texts(some_words, train['email'])\n\ndf = pd.DataFrame(data = Phi_train, columns = some_words)\ndf['label'] = train['spam']\n\nplt.figure(figsize=(12,8))\nsns.barplot(x = \"variable\", \n            y = \"value\", \n            hue = \"label\", \n            data = (df\n                    .replace({'label': \n                                {0 : 'Ham', \n                                 1 : 'Spam'}})\n                    .melt('label')\n                    .groupby(['label', 'variable'])\n                    .mean()\n                    .reset_index()))\n\nplt.xlabel('Words')\nplt.ylabel('Proportion of Emails')\nplt.legend(title = \"\")\nplt.title(\"Frequency of Words in Spam/Ham Emails\")\nplt.tight_layout()\nplt.show()\n# END SOLUTION",
    "id": "3da1bb8528f1420d8e4b01106abb0d1c",
    "idx": 33,
    "time": "2020-11-13T17:50:45.085Z",
    "type": "execution"
   },
   {
    "code": "# BEGIN SOLUTION\ntmp = train.copy()\ntmp['length'] = tmp['email'].str.len()\nplt.figure(figsize=(10, 6))\nsns.distplot(tmp.loc[tmp['spam'] == 0, 'length'],hist=False, label='Ham')\nsns.distplot(tmp.loc[tmp['spam'] == 1, 'length'],hist=False, label='Spam')\nplt.title('Distribution of Email Body Length')\nplt.xlabel('Length of email body')\nplt.ylabel('Distribution')\nplt.xlim((0,50000))\nplt.tight_layout()\nplt.legend();\n# END SOLUTION\nplt.savefig('training_conditional_densities.png')",
    "id": "ccae3bbd17a7472584923d1fd81f0c4b",
    "idx": 36,
    "time": "2020-11-13T17:50:45.529Z",
    "type": "execution"
   },
   {
    "id": "3da1bb8528f1420d8e4b01106abb0d1c",
    "time": "2020-11-13T17:50:45.785Z",
    "type": "completion"
   },
   {
    "id": "ccae3bbd17a7472584923d1fd81f0c4b",
    "time": "2020-11-13T17:50:46.397Z",
    "type": "completion"
   },
   {
    "code": "# Run this cell to suppress all FutureWarnings\nimport warnings\nwarnings.filterwarnings(\"ignore\", category=FutureWarning)",
    "id": "5717cb1fad9e4423882ebb7402a960d0",
    "idx": 5,
    "time": "2020-11-13T17:52:54.134Z",
    "type": "execution"
   },
   {
    "id": "5717cb1fad9e4423882ebb7402a960d0",
    "time": "2020-11-13T17:52:54.207Z",
    "type": "completion"
   },
   {
    "code": "import numpy as np\nimport pandas as pd\n\nimport matplotlib.pyplot as plt\n%matplotlib inline\n\nimport seaborn as sns\nsns.set(style = \"whitegrid\", \n        color_codes = True,\n        font_scale = 1.5)",
    "id": "922a4e60525f4eafb7a67d51618380a8",
    "idx": 8,
    "time": "2020-11-13T17:52:54.451Z",
    "type": "execution"
   },
   {
    "id": "922a4e60525f4eafb7a67d51618380a8",
    "time": "2020-11-13T17:52:54.611Z",
    "type": "completion"
   },
   {
    "code": "from utils import fetch_and_cache_gdrive\nfetch_and_cache_gdrive('1SCASpLZFKCp2zek-toR3xeKX3DZnBSyp', 'train.csv')\nfetch_and_cache_gdrive('1ZDFo9OTF96B5GP2Nzn8P8-AL7CTQXmC0', 'test.csv')\n\noriginal_training_data = pd.read_csv('data/train.csv')\ntest = pd.read_csv('data/test.csv')\n\n# Convert the emails to lower case as a first step to processing the text\noriginal_training_data['email'] = original_training_data['email'].str.lower()\ntest['email'] = test['email'].str.lower()\n\noriginal_training_data.head()",
    "id": "5b789cd4cf994c438c36c83a11f0883e",
    "idx": 10,
    "time": "2020-11-13T17:52:54.797Z",
    "type": "execution"
   },
   {
    "code": "# BEGIN SOLUTION\nprint('Before imputation:')\nprint(original_training_data.isnull().sum())\noriginal_training_data = original_training_data.fillna('')\nprint('------------')\nprint('After imputation:')\nprint(original_training_data.isnull().sum())\n# END SOLUTION",
    "id": "8cc51a7378104317923b12eb8010193c",
    "idx": 12,
    "time": "2020-11-13T17:52:55.069Z",
    "type": "execution"
   },
   {
    "code": "# TEST\noriginal_training_data.isnull().sum().sum() == 0",
    "id": "fd0fc36dcb3e465fa5de88357798251b",
    "idx": 13,
    "time": "2020-11-13T17:52:55.204Z",
    "type": "execution"
   },
   {
    "id": "5b789cd4cf994c438c36c83a11f0883e",
    "time": "2020-11-13T17:52:55.275Z",
    "type": "completion"
   },
   {
    "id": "8cc51a7378104317923b12eb8010193c",
    "time": "2020-11-13T17:52:55.285Z",
    "type": "completion"
   },
   {
    "id": "fd0fc36dcb3e465fa5de88357798251b",
    "time": "2020-11-13T17:52:55.362Z",
    "type": "completion"
   },
   {
    "code": "first_ham = original_training_data.loc[original_training_data['spam'] == 0, 'email'].iloc[0] # SOLUTION\nfirst_spam = original_training_data.loc[original_training_data['spam'] == 1, 'email'].iloc[0] # SOLUTION\nprint(first_ham)\nprint(first_spam)",
    "id": "ec38cd1676674d79a1f78850b2bdeade",
    "idx": 15,
    "time": "2020-11-13T17:52:55.469Z",
    "type": "execution"
   },
   {
    "id": "ec38cd1676674d79a1f78850b2bdeade",
    "time": "2020-11-13T17:52:55.543Z",
    "type": "completion"
   },
   {
    "code": "# TEST\nlen(first_ham) > 0 and first_ham[:0] == ''",
    "id": "91fb9a6b7c524dd1b4ebaf00adfee1e0",
    "idx": 16,
    "time": "2020-11-13T17:52:55.714Z",
    "type": "execution"
   },
   {
    "id": "91fb9a6b7c524dd1b4ebaf00adfee1e0",
    "time": "2020-11-13T17:52:55.787Z",
    "type": "completion"
   },
   {
    "code": "# TEST\nlen(first_spam) > 0 and first_spam[:0] == ''",
    "id": "bc8e6529a6634c3abc2fbbdeb59cf56a",
    "idx": 17,
    "time": "2020-11-13T17:52:55.830Z",
    "type": "execution"
   },
   {
    "id": "bc8e6529a6634c3abc2fbbdeb59cf56a",
    "time": "2020-11-13T17:52:55.908Z",
    "type": "completion"
   },
   {
    "code": "# HIDDEN TEST\noriginal_training_data.loc[original_training_data['spam'] == 0, 'email'].iloc[0] in first_ham",
    "id": "72db8567d04348308e6661ab83085607",
    "idx": 18,
    "time": "2020-11-13T17:52:55.952Z",
    "type": "execution"
   },
   {
    "id": "72db8567d04348308e6661ab83085607",
    "time": "2020-11-13T17:52:56.024Z",
    "type": "completion"
   },
   {
    "code": "# HIDDEN TEST\noriginal_training_data.loc[original_training_data['spam'] == 1, 'email'].iloc[0] in first_spam",
    "id": "3618a1ff098948808c2c917f942d36aa",
    "idx": 19,
    "time": "2020-11-13T17:52:56.076Z",
    "type": "execution"
   },
   {
    "id": "3618a1ff098948808c2c917f942d36aa",
    "time": "2020-11-13T17:52:56.147Z",
    "type": "completion"
   },
   {
    "code": "# This creates a 90/10 train-validation split on our labeled data\n\nfrom sklearn.model_selection import train_test_split\n\ntrain, val = train_test_split(original_training_data, test_size=0.1, random_state=42)",
    "id": "96c9ac16984747308f833d4c03e9ed53",
    "idx": 23,
    "time": "2020-11-13T17:52:56.678Z",
    "type": "execution"
   },
   {
    "id": "96c9ac16984747308f833d4c03e9ed53",
    "time": "2020-11-13T17:52:56.755Z",
    "type": "completion"
   },
   {
    "code": "def words_in_texts(words, texts):\n    '''\n    Args:\n        words (list): words to find\n        texts (Series): strings to search in\n    \n    Returns:\n        NumPy array of 0s and 1s with shape (n, p) where n is the\n        number of texts and p is the number of words.\n    '''\n    indicator_array = 1 * np.array([texts.str.contains(word) for word in words]).T # SOLUTION\n    return indicator_array",
    "id": "06639f97d5a240988a6d7dd1e0b48d8b",
    "idx": 26,
    "time": "2020-11-13T17:52:57.072Z",
    "type": "execution"
   },
   {
    "id": "06639f97d5a240988a6d7dd1e0b48d8b",
    "time": "2020-11-13T17:52:57.145Z",
    "type": "completion"
   },
   {
    "code": "# TEST\nnp.allclose(words_in_texts(['hello', 'bye', 'world'], \n                           pd.Series(['hello', 'hello worldhello'])),\n            np.array([[1, 0, 0], \n                      [1, 0, 1]]))",
    "id": "ffde5bde95224ba58486ad532fb5c28c",
    "idx": 27,
    "time": "2020-11-13T17:52:57.170Z",
    "type": "execution"
   },
   {
    "id": "ffde5bde95224ba58486ad532fb5c28c",
    "time": "2020-11-13T17:52:57.245Z",
    "type": "completion"
   },
   {
    "code": "# TEST\nnp.allclose(words_in_texts(['a', 'b', 'c', 'd', 'e', 'f', 'g'], \n                           pd.Series(['a b c d ef g', 'a', 'b', 'c', 'd e f g', 'h', 'a h'])),\n            np.array([[1,1,1,1,1,1,1], \n                      [1,0,0,0,0,0,0],\n                      [0,1,0,0,0,0,0],\n                      [0,0,1,0,0,0,0],\n                      [0,0,0,1,1,1,1],\n                      [0,0,0,0,0,0,0],\n                      [1,0,0,0,0,0,0]]))",
    "id": "e3e6cf9be8e743fba0049d314831aebf",
    "idx": 28,
    "time": "2020-11-13T17:52:57.405Z",
    "type": "execution"
   },
   {
    "id": "e3e6cf9be8e743fba0049d314831aebf",
    "time": "2020-11-13T17:52:57.482Z",
    "type": "completion"
   },
   {
    "code": "from IPython.display import display, Markdown\ndf = pd.DataFrame({\n    'word_1': [1, 0, 1, 0],\n    'word_2': [0, 1, 0, 1],\n    'type': ['spam', 'ham', 'ham', 'ham']\n})\ndisplay(Markdown(\"> Our Original DataFrame has a `type` column and some columns corresponding to words. You can think of each row as a sentence, and the value of 1 or 0 indicates the number of occurences of the word in this sentence.\"))\ndisplay(df);\ndisplay(Markdown(\"> `melt` will turn columns into entries in a variable column. Notice how `word_1` and `word_2` become entries in `variable`; their values are stored in the value column.\"))\ndisplay(df.melt(\"type\"))",
    "id": "6dd5159205814d56b783b665571c9441",
    "idx": 31,
    "time": "2020-11-13T17:52:57.979Z",
    "type": "execution"
   },
   {
    "id": "6dd5159205814d56b783b665571c9441",
    "time": "2020-11-13T17:52:58.072Z",
    "type": "completion"
   },
   {
    "code": "train=train.reset_index(drop=True) # We must do this in order to preserve the ordering of emails to labels for words_in_texts\n\n# BEGIN SOLUTION\nsome_words = ['opportunity', 'bank', 'receive', 'dear', 'best', 'deal']\nPhi_train = words_in_texts(some_words, train['email'])\n\ndf = pd.DataFrame(data = Phi_train, columns = some_words)\ndf['label'] = train['spam']\n\nplt.figure(figsize=(12,8))\nsns.barplot(x = \"variable\", \n            y = \"value\", \n            hue = \"label\", \n            data = (df\n                    .replace({'label': \n                                {0 : 'Ham', \n                                 1 : 'Spam'}})\n                    .melt('label')\n                    .groupby(['label', 'variable'])\n                    .mean()\n                    .reset_index()))\n\nplt.xlabel('Words')\nplt.ylabel('Proportion of Emails')\nplt.legend(title = \"\")\nplt.title(\"Frequency of Words in Spam/Ham Emails\")\nplt.tight_layout()\nplt.show()\n# END SOLUTION",
    "id": "cc68f68e069e48788281a1bc9531d83d",
    "idx": 33,
    "time": "2020-11-13T17:52:58.316Z",
    "type": "execution"
   },
   {
    "code": "# BEGIN SOLUTION\ntmp = train.copy()\ntmp['length'] = tmp['email'].str.len()\nplt.figure(figsize=(10, 6))\nsns.distplot(tmp.loc[tmp['spam'] == 0, 'length'],hist=False, label='Ham')\nsns.distplot(tmp.loc[tmp['spam'] == 1, 'length'],hist=False, label='Spam')\nplt.title('Distribution of Email Body Length')\nplt.xlabel('Length of email body')\nplt.ylabel('Distribution')\nplt.xlim((0,50000))\nplt.tight_layout()\nplt.legend();\n# END SOLUTION\nplt.savefig('training_conditional_densities.png')",
    "id": "26273859df904aecb41ec51ef7d9885e",
    "idx": 36,
    "time": "2020-11-13T17:52:58.861Z",
    "type": "execution"
   },
   {
    "id": "cc68f68e069e48788281a1bc9531d83d",
    "time": "2020-11-13T17:52:59.050Z",
    "type": "completion"
   },
   {
    "id": "26273859df904aecb41ec51ef7d9885e",
    "time": "2020-11-13T17:52:59.571Z",
    "type": "completion"
   },
   {
    "code": "some_words = ['drug', 'bank', 'prescription', 'memo', 'private']\n\nX_train = words_in_texts(some_words, train['email']) # SOLUTION\nY_train = np.array(train['spam']) # SOLUTION\n\nX_train[:5], Y_train[:5]",
    "id": "62fb90ac758448c48db77978df497ae6",
    "idx": 39,
    "time": "2020-11-13T17:53:00.275Z",
    "type": "execution"
   },
   {
    "code": "# TEST\nX_train.shape == (7513, 5)",
    "id": "b365b5d2dcef401a8defa85c6f598d02",
    "idx": 40,
    "time": "2020-11-13T17:53:00.406Z",
    "type": "execution"
   },
   {
    "id": "62fb90ac758448c48db77978df497ae6",
    "time": "2020-11-13T17:53:00.493Z",
    "type": "completion"
   },
   {
    "id": "b365b5d2dcef401a8defa85c6f598d02",
    "time": "2020-11-13T17:53:00.498Z",
    "type": "completion"
   },
   {
    "code": "# TEST\nnp.array_equal(np.unique(X_train), np.array([0, 1])) # X matrix should consist of only 0 or 1",
    "id": "47d34afb59514919ba683fa0c888bde4",
    "idx": 41,
    "time": "2020-11-13T17:53:00.534Z",
    "type": "execution"
   },
   {
    "id": "47d34afb59514919ba683fa0c888bde4",
    "time": "2020-11-13T17:53:00.605Z",
    "type": "completion"
   },
   {
    "code": "# TEST\nnp.array_equal(np.unique(Y_train), np.array([0, 1])) # y vector should consist of only 0 or 1",
    "id": "e8cd7ec14d974ad9b019227069f6145d",
    "idx": 42,
    "time": "2020-11-13T17:53:00.660Z",
    "type": "execution"
   },
   {
    "id": "e8cd7ec14d974ad9b019227069f6145d",
    "time": "2020-11-13T17:53:00.733Z",
    "type": "completion"
   },
   {
    "code": "from sklearn.linear_model import LogisticRegression\n\nmodel = LogisticRegression(solver = 'lbfgs') # SOLUTION\nmodel.fit(X_train, Y_train) # SOLUTION\n\ntraining_accuracy = model.score(X_train, Y_train) # SOLUTION\nprint(\"Training Accuracy: \", training_accuracy)",
    "id": "d499255244534699864b5465ce019b5d",
    "idx": 44,
    "time": "2020-11-13T17:53:00.942Z",
    "type": "execution"
   },
   {
    "id": "d499255244534699864b5465ce019b5d",
    "time": "2020-11-13T17:53:01.061Z",
    "type": "completion"
   },
   {
    "code": "# TEST\ntraining_accuracy > 0.72",
    "id": "fef1c6cf1e4a4d3c88f2b4953c55e80d",
    "idx": 45,
    "time": "2020-11-13T17:53:01.501Z",
    "type": "execution"
   },
   {
    "id": "fef1c6cf1e4a4d3c88f2b4953c55e80d",
    "time": "2020-11-13T17:53:01.569Z",
    "type": "completion"
   },
   {
    "code": "zero_predictor_fp = 0 # SOLUTION\nzero_predictor_fn = sum(Y_train == 1) # SOLUTION\nzero_predictor_fp, zero_predictor_fn",
    "id": "0cffaab89bf348f189d092a3bfa1ea4d",
    "idx": 49,
    "time": "2020-11-13T17:53:02.485Z",
    "type": "execution"
   },
   {
    "id": "0cffaab89bf348f189d092a3bfa1ea4d",
    "time": "2020-11-13T17:53:02.576Z",
    "type": "completion"
   },
   {
    "code": "# TEST\nzero_predictor_fp >= 0",
    "id": "564c1eaebae947b69e6800e2ae98ba16",
    "idx": 50,
    "time": "2020-11-13T17:53:02.634Z",
    "type": "execution"
   },
   {
    "id": "564c1eaebae947b69e6800e2ae98ba16",
    "time": "2020-11-13T17:53:02.712Z",
    "type": "completion"
   },
   {
    "code": "# TEST\nzero_predictor_fn >= 0",
    "id": "8a79d709c33749518cf44392623bb119",
    "idx": 51,
    "time": "2020-11-13T17:53:02.760Z",
    "type": "execution"
   },
   {
    "id": "8a79d709c33749518cf44392623bb119",
    "time": "2020-11-13T17:53:02.832Z",
    "type": "completion"
   },
   {
    "code": "# HIDDEN TEST\nnp.isclose(zero_predictor_fp, 0)",
    "id": "d6ef40aabfde4fd9afc5e0ae8a2f9a56",
    "idx": 52,
    "time": "2020-11-13T17:53:02.881Z",
    "type": "execution"
   },
   {
    "id": "d6ef40aabfde4fd9afc5e0ae8a2f9a56",
    "time": "2020-11-13T17:53:02.953Z",
    "type": "completion"
   },
   {
    "code": "# HIDDEN TEST\nzero_predictor_fn == 1918",
    "id": "dd9b240252164f86b72fb4a1a40682d4",
    "idx": 53,
    "time": "2020-11-13T17:53:03.012Z",
    "type": "execution"
   },
   {
    "id": "dd9b240252164f86b72fb4a1a40682d4",
    "time": "2020-11-13T17:53:03.092Z",
    "type": "completion"
   },
   {
    "code": "zero_predictor_acc = np.mean(Y_train == 0) # SOLUTION\nzero_predictor_recall = 0 # SOLUTION\nzero_predictor_acc, zero_predictor_recall",
    "id": "84771e6a5b2d4591884e110cd14df188",
    "idx": 55,
    "time": "2020-11-13T17:53:03.505Z",
    "type": "execution"
   },
   {
    "id": "84771e6a5b2d4591884e110cd14df188",
    "time": "2020-11-13T17:53:03.572Z",
    "type": "completion"
   },
   {
    "code": "# TEST\nzero_predictor_acc >= 0",
    "id": "060a99ebe6ce4a5086717f109d2e7dca",
    "idx": 56,
    "time": "2020-11-13T17:53:03.631Z",
    "type": "execution"
   },
   {
    "id": "060a99ebe6ce4a5086717f109d2e7dca",
    "time": "2020-11-13T17:53:03.702Z",
    "type": "completion"
   },
   {
    "code": "# TEST\nzero_predictor_recall >= 0",
    "id": "16d18caac2104e4caf93f13a65241938",
    "idx": 57,
    "time": "2020-11-13T17:53:03.762Z",
    "type": "execution"
   },
   {
    "id": "16d18caac2104e4caf93f13a65241938",
    "time": "2020-11-13T17:53:03.831Z",
    "type": "completion"
   },
   {
    "code": "# HIDDEN TEST\nnp.isclose(zero_predictor_acc, 0.7447091707706642)",
    "id": "be360f140fc546fd8b086891e6614438",
    "idx": 58,
    "time": "2020-11-13T17:53:04.126Z",
    "type": "execution"
   },
   {
    "id": "be360f140fc546fd8b086891e6614438",
    "time": "2020-11-13T17:53:04.196Z",
    "type": "completion"
   },
   {
    "code": "# HIDDEN TEST\nnp.isclose(zero_predictor_recall, 0)",
    "id": "34130958f5e14ea2aa8627842fa37faf",
    "idx": 59,
    "time": "2020-11-13T17:53:04.243Z",
    "type": "execution"
   },
   {
    "id": "34130958f5e14ea2aa8627842fa37faf",
    "time": "2020-11-13T17:53:04.312Z",
    "type": "completion"
   },
   {
    "code": "# BEGIN SOLUTION NO PROMPT\nY_train_hat = model.predict(X_train)\n\nTP = sum((Y_train_hat == Y_train) & (Y_train_hat == 1))\nTN = sum((Y_train_hat == Y_train) & (Y_train_hat == 0))\nFP = sum((Y_train_hat != Y_train) & (Y_train_hat == 1))\nFN = sum((Y_train_hat != Y_train) & (Y_train_hat == 0))\n# END SOLUTION\nlogistic_predictor_precision = TP / (TP + FP) # SOLUTION\nlogistic_predictor_recall = TP / (TP + FN) # SOLUTION\nlogistic_predictor_far = FP / (FP + TN) # SOLUTION",
    "id": "69a4c98c4a1e45449c52800df7da21d9",
    "idx": 63,
    "time": "2020-11-13T17:53:04.794Z",
    "type": "execution"
   },
   {
    "code": "# TEST\nlogistic_predictor_precision >= 0",
    "id": "4fa2f8b900fa476f8ec08629fe9787aa",
    "idx": 64,
    "time": "2020-11-13T17:53:04.910Z",
    "type": "execution"
   },
   {
    "id": "69a4c98c4a1e45449c52800df7da21d9",
    "time": "2020-11-13T17:53:05.010Z",
    "type": "completion"
   },
   {
    "id": "4fa2f8b900fa476f8ec08629fe9787aa",
    "time": "2020-11-13T17:53:05.020Z",
    "type": "completion"
   },
   {
    "code": "# TEST\nlogistic_predictor_recall >= 0",
    "id": "f169fcb087ce4e1d87d7cada8bfc94a6",
    "idx": 65,
    "time": "2020-11-13T17:53:05.035Z",
    "type": "execution"
   },
   {
    "id": "f169fcb087ce4e1d87d7cada8bfc94a6",
    "time": "2020-11-13T17:53:05.111Z",
    "type": "completion"
   },
   {
    "code": "# TEST\nlogistic_predictor_far >= 0",
    "id": "ce0f25f5620849cc9a33d61b84e5caf6",
    "idx": 66,
    "time": "2020-11-13T17:53:05.173Z",
    "type": "execution"
   },
   {
    "id": "ce0f25f5620849cc9a33d61b84e5caf6",
    "time": "2020-11-13T17:53:05.250Z",
    "type": "completion"
   },
   {
    "code": "# HIDDEN TEST\nnp.isclose(logistic_predictor_precision, 0.6422287390029325)",
    "id": "2da6368a3815416ba07c4cbfaf0533d5",
    "idx": 67,
    "time": "2020-11-13T17:53:05.299Z",
    "type": "execution"
   },
   {
    "id": "2da6368a3815416ba07c4cbfaf0533d5",
    "time": "2020-11-13T17:53:05.379Z",
    "type": "completion"
   },
   {
    "code": "# HIDDEN TEST\nnp.isclose(logistic_predictor_recall, 0.11418143899895725)",
    "id": "1f49e01547f844499992699a3f8437d4",
    "idx": 68,
    "time": "2020-11-13T17:53:05.414Z",
    "type": "execution"
   },
   {
    "id": "1f49e01547f844499992699a3f8437d4",
    "time": "2020-11-13T17:53:05.484Z",
    "type": "completion"
   },
   {
    "code": "# HIDDEN TEST\nnp.isclose(logistic_predictor_far, 0.021805183199285077)",
    "id": "a86939b61fe7402b9bd562eda7adcb8a",
    "idx": 69,
    "time": "2020-11-13T17:53:05.535Z",
    "type": "execution"
   },
   {
    "id": "a86939b61fe7402b9bd562eda7adcb8a",
    "time": "2020-11-13T17:53:05.607Z",
    "type": "completion"
   },
   {
    "code": "# Write your description (2-3 sentences) as a comment here:\n# \n#\n#\n\n# Write the code to generate your visualization here:\n# BEGIN SOLUTION\nplt.plot([1, 3, 5]) # This is a dummy plot, not a real example of a solution\n# END SOLUTION",
    "id": "f9dd9c1872054b3aabcc6cde9965ad16",
    "idx": 79,
    "time": "2020-11-13T17:53:06.802Z",
    "type": "execution"
   },
   {
    "code": "from sklearn.metrics import roc_curve\n\n# Note that you'll want to use the .predict_proba(...) method for your classifier\n# instead of .predict(...) so you get probabilities, not classes\n\n# BEGIN SOLUTION\nstaff_words = ['body', 'click', 'please', 'base64', '2002', 'html', 'subscribed',\n               'wrote', 'mortgage', 'align3dcenterfont', 'dear', 'br', 'width10img',\n               'divfont', 'im', 'receive', 'list', 'tags', 'web', 'base64', 'click',\n               'body', 'please', 'money', 'offer', 'receive', 'contact', 'free',\n               'tr', 'removed', 'remove', 'html', 'font', 'form',\n               'credit', 'business', 'div']\n\nX_train_2 = words_in_texts(staff_words, train['email'])\n\nstaff_model = LogisticRegression(solver = 'lbfgs')\nstaff_model.fit(X_train_2, Y_train)\n\nprint('accuracy: ', staff_model.score(X_train_2, Y_train))\n\nY_predict = staff_model.predict_proba(X_train_2)[:, 1]\nfpr, tpr, thresholds = roc_curve(Y_train, Y_predict)\nwith sns.axes_style(\"white\"):\n    plt.plot(fpr, tpr)\nplt.xlabel(\"False Positive Rate\")\nplt.ylabel(\"True Positive Rate\")\nplt.xlim([0, 1])\nplt.ylim([0, 1])\nplt.show()\n# END SOLUTION",
    "id": "73428c5ed83743b199ed18dc26f18be3",
    "idx": 81,
    "time": "2020-11-13T17:53:07.068Z",
    "type": "execution"
   },
   {
    "id": "f9dd9c1872054b3aabcc6cde9965ad16",
    "time": "2020-11-13T17:53:07.170Z",
    "type": "completion"
   },
   {
    "code": "test_predictions = staff_model.predict(words_in_texts(staff_words, test['email'])) # SOLUTION",
    "id": "665d4320ee5a44fd8e5fc2cc55ecd777",
    "idx": 83,
    "time": "2020-11-13T17:53:07.542Z",
    "type": "execution"
   },
   {
    "code": "# TEST\nisinstance(test_predictions, np.ndarray) # must be ndarray of predictions",
    "id": "0dd28fcc619746e4831ad536f8956532",
    "idx": 84,
    "time": "2020-11-13T17:53:07.669Z",
    "type": "execution"
   },
   {
    "code": "# TEST\nnp.array_equal(np.unique(test_predictions), np.array([0, 1])) # must be binary labels (0 or 1) and not probabilities",
    "id": "6ccaddb5360c45609af4d3b6991ca741",
    "idx": 85,
    "time": "2020-11-13T17:53:07.805Z",
    "type": "execution"
   },
   {
    "code": "# TEST\nlen(test_predictions) == 1000 # must be the right number of predictions",
    "id": "e8c8f77a5758407293ae0b201063880f",
    "idx": 86,
    "time": "2020-11-13T17:53:07.949Z",
    "type": "execution"
   },
   {
    "code": "from datetime import datetime\n\n# Assuming that your predictions on the test set are stored in a 1-dimensional array called\n# test_predictions. Feel free to modify this cell as long you create a CSV in the right format.\n\n# Construct and save the submission:\nsubmission_df = pd.DataFrame({\n    \"Id\": test['id'], \n    \"Class\": test_predictions,\n}, columns=['Id', 'Class'])\ntimestamp = datetime.isoformat(datetime.now()).split(\".\")[0]\nsubmission_df.to_csv(\"submission_{}.csv\".format(timestamp), index=False)\n\nprint('Created a CSV file: {}.'.format(\"submission_{}.csv\".format(timestamp)))\nprint('You may now upload this CSV file to Gradescope for scoring.')",
    "id": "aa5bacff8532404a8471d14006215349",
    "idx": 88,
    "time": "2020-11-13T17:53:08.231Z",
    "type": "execution"
   },
   {
    "id": "73428c5ed83743b199ed18dc26f18be3",
    "time": "2020-11-13T17:53:08.462Z",
    "type": "completion"
   },
   {
    "id": "665d4320ee5a44fd8e5fc2cc55ecd777",
    "time": "2020-11-13T17:53:08.523Z",
    "type": "completion"
   },
   {
    "id": "0dd28fcc619746e4831ad536f8956532",
    "time": "2020-11-13T17:53:08.540Z",
    "type": "completion"
   },
   {
    "id": "6ccaddb5360c45609af4d3b6991ca741",
    "time": "2020-11-13T17:53:08.558Z",
    "type": "completion"
   },
   {
    "id": "e8c8f77a5758407293ae0b201063880f",
    "time": "2020-11-13T17:53:08.585Z",
    "type": "completion"
   },
   {
    "id": "aa5bacff8532404a8471d14006215349",
    "time": "2020-11-13T17:53:08.632Z",
    "type": "completion"
   },
   {
    "code": "# Initialize Otter\nimport otter\ngrader = otter.Notebook()",
    "id": "0be23c9a984547588f5a55bd22da616c",
    "idx": 0,
    "time": "2020-11-15T08:17:44.463Z",
    "type": "execution"
   },
   {
    "id": "0be23c9a984547588f5a55bd22da616c",
    "time": "2020-11-15T08:17:45.146Z",
    "type": "completion"
   },
   {
    "code": "# Run this cell to suppress all FutureWarnings\nimport warnings\nwarnings.filterwarnings(\"ignore\", category=FutureWarning)",
    "id": "a4fa663fe8a04f688c87b4c797c16f00",
    "idx": 5,
    "time": "2020-11-15T08:20:03.325Z",
    "type": "execution"
   },
   {
    "id": "a4fa663fe8a04f688c87b4c797c16f00",
    "time": "2020-11-15T08:20:03.580Z",
    "type": "completion"
   },
   {
    "code": "import numpy as np\nimport pandas as pd\n\nimport matplotlib.pyplot as plt\n%matplotlib inline\n\nimport seaborn as sns\nsns.set(style = \"whitegrid\", \n        color_codes = True,\n        font_scale = 1.5)",
    "id": "3a36525c047b433e87fcd768dfc34ee0",
    "idx": 8,
    "time": "2020-11-15T08:20:16.525Z",
    "type": "execution"
   },
   {
    "id": "3a36525c047b433e87fcd768dfc34ee0",
    "time": "2020-11-15T08:20:17.723Z",
    "type": "completion"
   },
   {
    "code": "from utils import fetch_and_cache_gdrive\nfetch_and_cache_gdrive('1SCASpLZFKCp2zek-toR3xeKX3DZnBSyp', 'train.csv')\nfetch_and_cache_gdrive('1ZDFo9OTF96B5GP2Nzn8P8-AL7CTQXmC0', 'test.csv')\n\noriginal_training_data = pd.read_csv('data/train.csv')\ntest = pd.read_csv('data/test.csv')\n\n# Convert the emails to lower case as a first step to processing the text\noriginal_training_data['email'] = original_training_data['email'].str.lower()\ntest['email'] = test['email'].str.lower()\n\noriginal_training_data.head()",
    "id": "8bbe105c02fc4b7f81cc442d6397f62f",
    "idx": 10,
    "time": "2020-11-15T08:25:03.242Z",
    "type": "execution"
   },
   {
    "id": "8bbe105c02fc4b7f81cc442d6397f62f",
    "time": "2020-11-15T08:25:07.392Z",
    "type": "completion"
   },
   {
    "code": "print(original_training_data[\"subject\"].isnull().sum())\nprint(original_training_data[\"email\"].isnull().sum())\nprint(original_training_data[\"id\"].isnull().sum())\nprint(original_training_data[\"spam\"].isnull().sum())",
    "id": "7b000ef2e0e84e3792187c4d16869bdc",
    "idx": 12,
    "time": "2020-11-15T08:44:52.224Z",
    "type": "execution"
   },
   {
    "id": "7b000ef2e0e84e3792187c4d16869bdc",
    "time": "2020-11-15T08:44:52.523Z",
    "type": "completion"
   },
   {
    "code": "print(original_training_data[\"subject\"].isnull().sum())\nprint(original_training_data[\"email\"].isnull().sum())\nprint(original_training_data[\"id\"].isnull().sum())\nprint(original_training_data[\"spam\"].isnull().sum())\nvalues ={'id': ' ', 'subject': ' ', 'email': ' ', 'spam': ' '} \noriginal_training_data.replace(value = values)",
    "id": "7b000ef2e0e84e3792187c4d16869bdc",
    "idx": 12,
    "time": "2020-11-15T08:56:11.213Z",
    "type": "execution"
   },
   {
    "id": "7b000ef2e0e84e3792187c4d16869bdc",
    "time": "2020-11-15T08:56:11.616Z",
    "type": "completion"
   },
   {
    "code": "print(original_training_data[\"subject\"].isnull().sum())\nprint(original_training_data[\"email\"].isnull().sum())\nprint(original_training_data[\"id\"].isnull().sum())\nprint(original_training_data[\"spam\"].isnull().sum())\nvalues ={'id': ' ', 'subject': ' ', 'email': ' ', 'spam': ' '} \noriginal_training_data.fillna(value = values)",
    "id": "7b000ef2e0e84e3792187c4d16869bdc",
    "idx": 12,
    "time": "2020-11-15T08:56:28.834Z",
    "type": "execution"
   },
   {
    "id": "7b000ef2e0e84e3792187c4d16869bdc",
    "time": "2020-11-15T08:56:29.193Z",
    "type": "completion"
   },
   {
    "code": "grader.check(\"q1a\")",
    "id": "89af686909354b7b86f6c8421112de3e",
    "idx": 13,
    "time": "2020-11-15T08:56:34.819Z",
    "type": "execution"
   },
   {
    "id": "89af686909354b7b86f6c8421112de3e",
    "time": "2020-11-15T08:56:35.187Z",
    "type": "completion"
   },
   {
    "code": "original_training_data.isnull().sum().sum()\n",
    "id": "c5d6afa4ff5f4b919f5848dd8bef9e59",
    "idx": 13,
    "time": "2020-11-15T08:57:11.303Z",
    "type": "execution"
   },
   {
    "code": "# Initialize Otter\nimport otter\ngrader = otter.Notebook()",
    "id": "cd0019612b864d3283cbd3b8789886e7",
    "idx": 0,
    "time": "2020-11-15T09:03:30.586Z",
    "type": "execution"
   },
   {
    "id": "cd0019612b864d3283cbd3b8789886e7",
    "time": "2020-11-15T09:03:30.959Z",
    "type": "completion"
   },
   {
    "code": "# Run this cell to suppress all FutureWarnings\nimport warnings\nwarnings.filterwarnings(\"ignore\", category=FutureWarning)",
    "id": "dba1470ae100474093dd9a4b48db57a3",
    "idx": 5,
    "time": "2020-11-15T09:03:33.109Z",
    "type": "execution"
   },
   {
    "id": "dba1470ae100474093dd9a4b48db57a3",
    "time": "2020-11-15T09:03:33.414Z",
    "type": "completion"
   },
   {
    "code": "import numpy as np\nimport pandas as pd\n\nimport matplotlib.pyplot as plt\n%matplotlib inline\n\nimport seaborn as sns\nsns.set(style = \"whitegrid\", \n        color_codes = True,\n        font_scale = 1.5)",
    "id": "6c9641b80287434a87fe7c20f5fc2c06",
    "idx": 8,
    "time": "2020-11-15T09:03:35.139Z",
    "type": "execution"
   },
   {
    "id": "6c9641b80287434a87fe7c20f5fc2c06",
    "time": "2020-11-15T09:03:35.328Z",
    "type": "completion"
   },
   {
    "code": "from utils import fetch_and_cache_gdrive\nfetch_and_cache_gdrive('1SCASpLZFKCp2zek-toR3xeKX3DZnBSyp', 'train.csv')\nfetch_and_cache_gdrive('1ZDFo9OTF96B5GP2Nzn8P8-AL7CTQXmC0', 'test.csv')\n\noriginal_training_data = pd.read_csv('data/train.csv')\ntest = pd.read_csv('data/test.csv')\n\n# Convert the emails to lower case as a first step to processing the text\noriginal_training_data['email'] = original_training_data['email'].str.lower()\ntest['email'] = test['email'].str.lower()\n\noriginal_training_data.head()",
    "id": "78fd57f3e846479b84b456e0d4433b08",
    "idx": 10,
    "time": "2020-11-15T09:03:39.127Z",
    "type": "execution"
   },
   {
    "id": "78fd57f3e846479b84b456e0d4433b08",
    "time": "2020-11-15T09:03:40.146Z",
    "type": "completion"
   },
   {
    "code": "print(original_training_data[\"subject\"].isnull().sum())\nprint(original_training_data[\"email\"].isnull().sum())\nprint(original_training_data[\"id\"].isnull().sum())\nprint(original_training_data[\"spam\"].isnull().sum())\nvalues ={'id': 'a', 'subject': 'b', 'email': 'c', 'spam': 'd'} \noriginal_training_data.fillna(value = values)",
    "id": "f358d58929694b64b3eb570f91068aad",
    "idx": 12,
    "time": "2020-11-15T09:04:10.278Z",
    "type": "execution"
   },
   {
    "id": "f358d58929694b64b3eb570f91068aad",
    "time": "2020-11-15T09:04:10.670Z",
    "type": "completion"
   },
   {
    "code": "original_training_data.isnull().sum().sum()\n",
    "id": "65e119a8244946468635602911408b27",
    "idx": 13,
    "time": "2020-11-15T09:04:13.167Z",
    "type": "execution"
   },
   {
    "id": "65e119a8244946468635602911408b27",
    "time": "2020-11-15T09:04:13.334Z",
    "type": "completion"
   },
   {
    "code": "print(original_training_data[\"subject\"].isnull().sum())\nprint(original_training_data[\"email\"].isnull().sum())\nprint(original_training_data[\"id\"].isnull().sum())\nprint(original_training_data[\"spam\"].isnull().sum())\nvalues ={'id': '', 'subject': '', 'email': '', 'spam': ''} \noriginal_training_data.fillna(value = values)",
    "id": "f358d58929694b64b3eb570f91068aad",
    "idx": 12,
    "time": "2020-11-15T09:06:13.867Z",
    "type": "execution"
   },
   {
    "id": "f358d58929694b64b3eb570f91068aad",
    "time": "2020-11-15T09:06:14.112Z",
    "type": "completion"
   },
   {
    "code": "original_training_data.isnull().sum().sum()\n",
    "id": "65e119a8244946468635602911408b27",
    "idx": 13,
    "time": "2020-11-15T09:06:19.648Z",
    "type": "execution"
   },
   {
    "id": "65e119a8244946468635602911408b27",
    "time": "2020-11-15T09:06:20.962Z",
    "type": "completion"
   },
   {
    "code": "print(original_training_data[\"subject\"].isnull().sum())\nprint(original_training_data[\"email\"].isnull().sum())\nprint(original_training_data[\"id\"].isnull().sum())\nprint(original_training_data[\"spam\"].isnull().sum())\nvalues = {'id': '', 'subject': '', 'email': '', 'spam': ''} \noriginal_training_data.replace(np.nan,'', regex = True)\n#fillna(value = values)",
    "id": "f358d58929694b64b3eb570f91068aad",
    "idx": 12,
    "time": "2020-11-15T09:09:40.388Z",
    "type": "execution"
   },
   {
    "id": "f358d58929694b64b3eb570f91068aad",
    "time": "2020-11-15T09:09:40.627Z",
    "type": "completion"
   },
   {
    "code": "original_training_data.isnull().sum().sum()\n",
    "id": "65e119a8244946468635602911408b27",
    "idx": 13,
    "time": "2020-11-15T09:09:44.812Z",
    "type": "execution"
   },
   {
    "id": "65e119a8244946468635602911408b27",
    "time": "2020-11-15T09:09:44.892Z",
    "type": "completion"
   },
   {
    "code": "print(original_training_data[\"subject\"].isnull().sum())\nprint(original_training_data[\"email\"].isnull().sum())\nprint(original_training_data[\"id\"].isnull().sum())\nprint(original_training_data[\"spam\"].isnull().sum())\nvalues = {'id': '', 'subject': '', 'email': '', 'spam': ''} \noriginal_training_data.replace(np.nan,'', regex = True,inplace = True)\n#fillna(value = values)",
    "id": "f358d58929694b64b3eb570f91068aad",
    "idx": 12,
    "time": "2020-11-15T09:10:09.393Z",
    "type": "execution"
   },
   {
    "id": "f358d58929694b64b3eb570f91068aad",
    "time": "2020-11-15T09:10:09.474Z",
    "type": "completion"
   },
   {
    "code": "original_training_data.isnull().sum().sum()\n",
    "id": "65e119a8244946468635602911408b27",
    "idx": 13,
    "time": "2020-11-15T09:10:13.833Z",
    "type": "execution"
   },
   {
    "id": "65e119a8244946468635602911408b27",
    "time": "2020-11-15T09:10:13.907Z",
    "type": "completion"
   },
   {
    "code": "print(original_training_data[\"subject\"].isnull().sum())\nprint(original_training_data[\"email\"].isnull().sum())\nprint(original_training_data[\"id\"].isnull().sum())\nprint(original_training_data[\"spam\"].isnull().sum())\nvalues = {'id': '', 'subject': '', 'email': '', 'spam': ''} \n#original_training_data.replace(np.nan,'', regex = True,inplace = True)\noriginal_training_data.fillna(value = values)",
    "id": "f358d58929694b64b3eb570f91068aad",
    "idx": 12,
    "time": "2020-11-15T09:10:46.872Z",
    "type": "execution"
   },
   {
    "id": "f358d58929694b64b3eb570f91068aad",
    "time": "2020-11-15T09:10:47.078Z",
    "type": "completion"
   },
   {
    "code": "from utils import fetch_and_cache_gdrive\nfetch_and_cache_gdrive('1SCASpLZFKCp2zek-toR3xeKX3DZnBSyp', 'train.csv')\nfetch_and_cache_gdrive('1ZDFo9OTF96B5GP2Nzn8P8-AL7CTQXmC0', 'test.csv')\n\noriginal_training_data = pd.read_csv('data/train.csv')\ntest = pd.read_csv('data/test.csv')\n\n# Convert the emails to lower case as a first step to processing the text\noriginal_training_data['email'] = original_training_data['email'].str.lower()\ntest['email'] = test['email'].str.lower()\n\noriginal_training_data.head()",
    "id": "78fd57f3e846479b84b456e0d4433b08",
    "idx": 10,
    "time": "2020-11-15T09:10:52.931Z",
    "type": "execution"
   },
   {
    "id": "78fd57f3e846479b84b456e0d4433b08",
    "time": "2020-11-15T09:10:53.474Z",
    "type": "completion"
   },
   {
    "code": "print(original_training_data[\"subject\"].isnull().sum())\nprint(original_training_data[\"email\"].isnull().sum())\nprint(original_training_data[\"id\"].isnull().sum())\nprint(original_training_data[\"spam\"].isnull().sum())\nvalues = {'id': '', 'subject': '', 'email': '', 'spam': ''} \n#original_training_data.replace(np.nan,'', regex = True,inplace = True)\noriginal_training_data.fillna(value = values)",
    "id": "f358d58929694b64b3eb570f91068aad",
    "idx": 12,
    "time": "2020-11-15T09:10:59.643Z",
    "type": "execution"
   },
   {
    "id": "f358d58929694b64b3eb570f91068aad",
    "time": "2020-11-15T09:10:59.802Z",
    "type": "completion"
   },
   {
    "code": "print(original_training_data[\"subject\"].isnull().sum())\nprint(original_training_data[\"email\"].isnull().sum())\nprint(original_training_data[\"id\"].isnull().sum())\nprint(original_training_data[\"spam\"].isnull().sum())\nvalues = {'id': '', 'subject': '', 'email': '', 'spam': ''} \n#original_training_data.replace(np.nan,'', regex = True,inplace = True)\noriginal_training_data = original_training_data.fillna(value = values)",
    "id": "f358d58929694b64b3eb570f91068aad",
    "idx": 12,
    "time": "2020-11-15T09:11:09.273Z",
    "type": "execution"
   },
   {
    "id": "f358d58929694b64b3eb570f91068aad",
    "time": "2020-11-15T09:11:09.409Z",
    "type": "completion"
   },
   {
    "code": "original_training_data.isnull().sum().sum()\n",
    "id": "65e119a8244946468635602911408b27",
    "idx": 13,
    "time": "2020-11-15T09:11:11.781Z",
    "type": "execution"
   },
   {
    "id": "65e119a8244946468635602911408b27",
    "time": "2020-11-15T09:11:11.898Z",
    "type": "completion"
   },
   {
    "code": "grader.check(\"q1a\")",
    "id": "b8c091c4b8be42108daf960e83091c6f",
    "idx": 14,
    "time": "2020-11-15T09:12:50.418Z",
    "type": "execution"
   },
   {
    "id": "b8c091c4b8be42108daf960e83091c6f",
    "time": "2020-11-15T09:12:50.533Z",
    "type": "completion"
   },
   {
    "code": "print(original_training_data[\"subject\"].isnull().sum())\nprint(original_training_data[\"email\"].isnull().sum())\nprint(original_training_data[\"id\"].isnull().sum())\nprint(original_training_data[\"spam\"].isnull().sum())\nvalues = {'id': '', 'subject': '', 'email': '', 'spam': ''} \n#original_training_data.replace(np.nan,'', regex = True,inplace = True)\noriginal_training_data = original_training_data.fillna(value = values)",
    "id": "f358d58929694b64b3eb570f91068aad",
    "idx": 12,
    "time": "2020-11-15T09:12:59.126Z",
    "type": "execution"
   },
   {
    "id": "f358d58929694b64b3eb570f91068aad",
    "time": "2020-11-15T09:12:59.211Z",
    "type": "completion"
   },
   {
    "code": "first_ham = original_training_data[original_training_data.loc[\"spam\"==1]]\n#first_spam = ...\n#print(first_ham)\n#print(first_spam)\nfirst_ham",
    "id": "3d49b7d506984e77b954eb3154586edb",
    "idx": 15,
    "time": "2020-11-15T09:16:47.904Z",
    "type": "execution"
   },
   {
    "id": "3d49b7d506984e77b954eb3154586edb",
    "time": "2020-11-15T09:16:48.070Z",
    "type": "completion"
   },
   {
    "code": "first_ham = original_training_data[original_training_data.loc[\"spam\"=='1']]\n#first_spam = ...\n#print(first_ham)\n#print(first_spam)\nfirst_ham",
    "id": "3d49b7d506984e77b954eb3154586edb",
    "idx": 15,
    "time": "2020-11-15T09:16:56.315Z",
    "type": "execution"
   },
   {
    "id": "3d49b7d506984e77b954eb3154586edb",
    "time": "2020-11-15T09:16:56.499Z",
    "type": "completion"
   },
   {
    "code": "first_ham = original_training_data[original_training_data.loc[\"spam\"=='0']]\n#first_spam = ...\n#print(first_ham)\n#print(first_spam)\nfirst_ham",
    "id": "3d49b7d506984e77b954eb3154586edb",
    "idx": 15,
    "time": "2020-11-15T09:17:15.964Z",
    "type": "execution"
   },
   {
    "id": "3d49b7d506984e77b954eb3154586edb",
    "time": "2020-11-15T09:17:16.163Z",
    "type": "completion"
   },
   {
    "code": "first_ham = original_training_data[original_training_data.loc[\"spam\"='0']]\n#first_spam = ...\n#print(first_ham)\n#print(first_spam)\nfirst_ham",
    "id": "3d49b7d506984e77b954eb3154586edb",
    "idx": 15,
    "time": "2020-11-15T09:17:20.484Z",
    "type": "execution"
   },
   {
    "id": "3d49b7d506984e77b954eb3154586edb",
    "time": "2020-11-15T09:17:20.591Z",
    "type": "completion"
   },
   {
    "code": "first_ham = original_training_data.loc[\"spam\"='0']\n#first_spam = ...\n#print(first_ham)\n#print(first_spam)\nfirst_ham",
    "id": "3d49b7d506984e77b954eb3154586edb",
    "idx": 15,
    "time": "2020-11-15T09:17:35.013Z",
    "type": "execution"
   },
   {
    "id": "3d49b7d506984e77b954eb3154586edb",
    "time": "2020-11-15T09:17:35.085Z",
    "type": "completion"
   },
   {
    "code": "first_ham = original_training_data.loc[\"spam\"=='0']\n#first_spam = ...\n#print(first_ham)\n#print(first_spam)\nfirst_ham",
    "id": "3d49b7d506984e77b954eb3154586edb",
    "idx": 15,
    "time": "2020-11-15T09:17:41.844Z",
    "type": "execution"
   },
   {
    "id": "3d49b7d506984e77b954eb3154586edb",
    "time": "2020-11-15T09:17:42.000Z",
    "type": "completion"
   },
   {
    "code": "first_ham = original_training_data.loc[\"spam\"==0]\n#first_spam = ...\n#print(first_ham)\n#print(first_spam)\nfirst_ham",
    "id": "3d49b7d506984e77b954eb3154586edb",
    "idx": 15,
    "time": "2020-11-15T09:17:54.933Z",
    "type": "execution"
   },
   {
    "id": "3d49b7d506984e77b954eb3154586edb",
    "time": "2020-11-15T09:17:55.071Z",
    "type": "completion"
   },
   {
    "code": "first_ham = original_training_data[\"spam\"]==0\n#first_spam = ...\n#print(first_ham)\n#print(first_spam)\nfirst_ham",
    "id": "3d49b7d506984e77b954eb3154586edb",
    "idx": 15,
    "time": "2020-11-15T09:20:47.079Z",
    "type": "execution"
   },
   {
    "id": "3d49b7d506984e77b954eb3154586edb",
    "time": "2020-11-15T09:20:47.202Z",
    "type": "completion"
   },
   {
    "code": "first_ham = original_training_data.groupby([\"spam\"]).agg(first)\n#first_spam = ...\n#print(first_ham)\n#print(first_spam)\nfirst_ham",
    "id": "3d49b7d506984e77b954eb3154586edb",
    "idx": 15,
    "time": "2020-11-15T09:25:50.955Z",
    "type": "execution"
   },
   {
    "id": "3d49b7d506984e77b954eb3154586edb",
    "time": "2020-11-15T09:25:51.047Z",
    "type": "completion"
   },
   {
    "code": "first_ham = original_training_data.groupby([\"spam\"]).agg(\"first\")\n#first_spam = ...\n#print(first_ham)\n#print(first_spam)\nfirst_ham",
    "id": "3d49b7d506984e77b954eb3154586edb",
    "idx": 15,
    "time": "2020-11-15T09:26:04.635Z",
    "type": "execution"
   },
   {
    "id": "3d49b7d506984e77b954eb3154586edb",
    "time": "2020-11-15T09:26:04.740Z",
    "type": "completion"
   },
   {
    "code": "first_ham = original_training_data.groupby([\"spam\"]).agg(\"first\").iloc[0]\n#first_spam = ...\n#print(first_ham)\n#print(first_spam)\nfirst_ham",
    "id": "3d49b7d506984e77b954eb3154586edb",
    "idx": 15,
    "time": "2020-11-15T09:26:34.764Z",
    "type": "execution"
   },
   {
    "id": "3d49b7d506984e77b954eb3154586edb",
    "time": "2020-11-15T09:26:34.852Z",
    "type": "completion"
   },
   {
    "code": "first_ham = original_training_data.groupby([\"spam\"]).agg(\"first\").iloc[0][0]\n#first_spam = ...\n#print(first_ham)\n#print(first_spam)\nfirst_ham",
    "id": "3d49b7d506984e77b954eb3154586edb",
    "idx": 15,
    "time": "2020-11-15T09:26:58.404Z",
    "type": "execution"
   },
   {
    "id": "3d49b7d506984e77b954eb3154586edb",
    "time": "2020-11-15T09:26:58.488Z",
    "type": "completion"
   },
   {
    "code": "first_ham = original_training_data.groupby([\"spam\"]).agg(\"first\").iloc[0]['email']\n#first_spam = ...\n#print(first_ham)\n#print(first_spam)\nfirst_ham",
    "id": "3d49b7d506984e77b954eb3154586edb",
    "idx": 15,
    "time": "2020-11-15T09:27:13.553Z",
    "type": "execution"
   },
   {
    "id": "3d49b7d506984e77b954eb3154586edb",
    "time": "2020-11-15T09:27:13.635Z",
    "type": "completion"
   },
   {
    "code": "first_ham = original_training_data.groupby([\"spam\"]).agg(\"first\").iloc[0]['email']\nfirst_spam = original_training_data.groupby([\"spam\"]).agg(\"first\").iloc[1]['email']\nprint(first_ham)\nprint(first_spam)",
    "id": "3d49b7d506984e77b954eb3154586edb",
    "idx": 15,
    "time": "2020-11-15T09:28:16.354Z",
    "type": "execution"
   },
   {
    "id": "3d49b7d506984e77b954eb3154586edb",
    "time": "2020-11-15T09:28:16.456Z",
    "type": "completion"
   },
   {
    "code": "grader.check(\"q1b\")",
    "id": "89ec8024c2cd41958b2f38838892326d",
    "idx": 16,
    "time": "2020-11-15T09:28:53.404Z",
    "type": "execution"
   },
   {
    "id": "89ec8024c2cd41958b2f38838892326d",
    "time": "2020-11-15T09:28:53.624Z",
    "type": "completion"
   },
   {
    "code": "# This creates a 90/10 train-validation split on our labeled data\n\nfrom sklearn.model_selection import train_test_split\n\ntrain, val = train_test_split(original_training_data, test_size=0.1, random_state=42)",
    "id": "e8d646ec97c64f159fe45aa3a7b8c8a2",
    "idx": 20,
    "time": "2020-11-15T09:34:45.954Z",
    "type": "execution"
   },
   {
    "code": "# Initialize Otter\nimport otter\ngrader = otter.Notebook()",
    "id": "85d5aa7dd9ce4138865bc9042255f8cb",
    "idx": 0,
    "time": "2020-11-15T19:46:06.567Z",
    "type": "execution"
   },
   {
    "id": "85d5aa7dd9ce4138865bc9042255f8cb",
    "time": "2020-11-15T19:46:07.191Z",
    "type": "completion"
   },
   {
    "code": "# Initialize Otter\nimport otter\ngrader = otter.Notebook()",
    "id": "85d5aa7dd9ce4138865bc9042255f8cb",
    "idx": 0,
    "time": "2020-11-15T19:46:26.633Z",
    "type": "execution"
   },
   {
    "code": "# Run this cell to suppress all FutureWarnings\nimport warnings\nwarnings.filterwarnings(\"ignore\", category=FutureWarning)",
    "id": "63c88e506f0e40998a31ea9cf4051ce4",
    "idx": 5,
    "time": "2020-11-15T19:46:26.640Z",
    "type": "execution"
   },
   {
    "code": "import numpy as np\nimport pandas as pd\n\nimport matplotlib.pyplot as plt\n%matplotlib inline\n\nimport seaborn as sns\nsns.set(style = \"whitegrid\", \n        color_codes = True,\n        font_scale = 1.5)",
    "id": "8369aded38b347c989b503cc0a6bfbe5",
    "idx": 8,
    "time": "2020-11-15T19:46:26.644Z",
    "type": "execution"
   },
   {
    "code": "from utils import fetch_and_cache_gdrive\nfetch_and_cache_gdrive('1SCASpLZFKCp2zek-toR3xeKX3DZnBSyp', 'train.csv')\nfetch_and_cache_gdrive('1ZDFo9OTF96B5GP2Nzn8P8-AL7CTQXmC0', 'test.csv')\n\noriginal_training_data = pd.read_csv('data/train.csv')\ntest = pd.read_csv('data/test.csv')\n\n# Convert the emails to lower case as a first step to processing the text\noriginal_training_data['email'] = original_training_data['email'].str.lower()\ntest['email'] = test['email'].str.lower()\n\noriginal_training_data.head()",
    "id": "28339a575b254be5a25ef009b342c041",
    "idx": 10,
    "time": "2020-11-15T19:46:26.649Z",
    "type": "execution"
   },
   {
    "code": "print(original_training_data[\"subject\"].isnull().sum())\nprint(original_training_data[\"email\"].isnull().sum())\nprint(original_training_data[\"id\"].isnull().sum())\nprint(original_training_data[\"spam\"].isnull().sum())\nvalues = {'id': '', 'subject': '', 'email': '', 'spam': ''} \n#original_training_data.replace(np.nan,'', regex = True,inplace = True)\noriginal_training_data = original_training_data.fillna(value = values)",
    "id": "330a5b7147914a9a9b12d98bde114410",
    "idx": 12,
    "time": "2020-11-15T19:46:26.654Z",
    "type": "execution"
   },
   {
    "code": "grader.check(\"q1a\")",
    "id": "beda1011df03419581a2a3962c89baa2",
    "idx": 13,
    "time": "2020-11-15T19:46:26.657Z",
    "type": "execution"
   },
   {
    "code": "first_ham = original_training_data.groupby([\"spam\"]).agg(\"first\").iloc[0]['email']\nfirst_spam = original_training_data.groupby([\"spam\"]).agg(\"first\").iloc[1]['email']\nprint(first_ham)\nprint(first_spam)",
    "id": "fe5391362ed445069ac3002d59d32479",
    "idx": 15,
    "time": "2020-11-15T19:46:26.662Z",
    "type": "execution"
   },
   {
    "code": "grader.check(\"q1b\")",
    "id": "cf89d280cefb4d9381078d909179c224",
    "idx": 16,
    "time": "2020-11-15T19:46:26.665Z",
    "type": "execution"
   },
   {
    "code": "# This creates a 90/10 train-validation split on our labeled data\n\nfrom sklearn.model_selection import train_test_split\n\ntrain, val = train_test_split(original_training_data, test_size=0.1, random_state=42)",
    "id": "6b618d0718764124b736bf70ab50ee9a",
    "idx": 20,
    "time": "2020-11-15T19:46:26.673Z",
    "type": "execution"
   },
   {
    "id": "85d5aa7dd9ce4138865bc9042255f8cb",
    "time": "2020-11-15T19:46:26.760Z",
    "type": "completion"
   },
   {
    "id": "63c88e506f0e40998a31ea9cf4051ce4",
    "time": "2020-11-15T19:46:26.763Z",
    "type": "completion"
   },
   {
    "id": "8369aded38b347c989b503cc0a6bfbe5",
    "time": "2020-11-15T19:46:27.513Z",
    "type": "completion"
   },
   {
    "id": "28339a575b254be5a25ef009b342c041",
    "time": "2020-11-15T19:46:28.068Z",
    "type": "completion"
   },
   {
    "id": "330a5b7147914a9a9b12d98bde114410",
    "time": "2020-11-15T19:46:28.074Z",
    "type": "completion"
   },
   {
    "id": "beda1011df03419581a2a3962c89baa2",
    "time": "2020-11-15T19:46:28.110Z",
    "type": "completion"
   },
   {
    "id": "fe5391362ed445069ac3002d59d32479",
    "time": "2020-11-15T19:46:28.142Z",
    "type": "completion"
   },
   {
    "id": "cf89d280cefb4d9381078d909179c224",
    "time": "2020-11-15T19:46:28.188Z",
    "type": "completion"
   },
   {
    "id": "6b618d0718764124b736bf70ab50ee9a",
    "time": "2020-11-15T19:46:28.242Z",
    "type": "completion"
   },
   {
    "code": "def words_in_texts(words, texts):\n    '''\n    Args:\n        words (list): words to find\n        texts (Series): strings to search in\n    \n    Returns:\n        NumPy array of 0s and 1s with shape (n, p) where n is the\n        number of texts and p is the number of words.\n    '''\n    indicator_array = [texts.str.contains(i) for i in words]\n    return indicator_array",
    "id": "b8baa8f35d3f401f8b8bd2bb7fc21289",
    "idx": 23,
    "time": "2020-11-15T19:58:51.088Z",
    "type": "execution"
   },
   {
    "id": "b8baa8f35d3f401f8b8bd2bb7fc21289",
    "time": "2020-11-15T19:58:51.156Z",
    "type": "completion"
   },
   {
    "code": "grader.check(\"q2\")",
    "id": "9c70ea5aa1b143a08b1fae8c5db810ea",
    "idx": 24,
    "time": "2020-11-15T19:58:57.974Z",
    "type": "execution"
   },
   {
    "id": "9c70ea5aa1b143a08b1fae8c5db810ea",
    "time": "2020-11-15T19:58:58.166Z",
    "type": "completion"
   },
   {
    "code": "words_in_texts(['hello', 'bye', 'world'],pd.Series(['hello', 'hello worldhello'])",
    "id": "461ba653ad2b41f49f5c08af541c1cbb",
    "idx": 24,
    "time": "2020-11-15T19:59:40.283Z",
    "type": "execution"
   },
   {
    "id": "461ba653ad2b41f49f5c08af541c1cbb",
    "time": "2020-11-15T19:59:40.361Z",
    "type": "completion"
   },
   {
    "code": "words_in_texts(['hello', 'bye', 'world'],pd.Series(['hello', 'hello worldhello']))",
    "id": "461ba653ad2b41f49f5c08af541c1cbb",
    "idx": 24,
    "time": "2020-11-15T19:59:48.865Z",
    "type": "execution"
   },
   {
    "id": "461ba653ad2b41f49f5c08af541c1cbb",
    "time": "2020-11-15T19:59:48.973Z",
    "type": "completion"
   },
   {
    "code": "def words_in_texts(words, texts):\n    '''\n    Args:\n        words (list): words to find\n        texts (Series): strings to search in\n    \n    Returns:\n        NumPy array of 0s and 1s with shape (n, p) where n is the\n        number of texts and p is the number of words.\n    '''\n    indicator_array = [1 if texts.str.contains(i) == True else 0 for i in words]\n    return indicator_array",
    "id": "b8baa8f35d3f401f8b8bd2bb7fc21289",
    "idx": 23,
    "time": "2020-11-15T20:04:55.539Z",
    "type": "execution"
   },
   {
    "id": "b8baa8f35d3f401f8b8bd2bb7fc21289",
    "time": "2020-11-15T20:04:55.608Z",
    "type": "completion"
   },
   {
    "code": "words_in_texts(['hello', 'bye', 'world'],pd.Series(['hello', 'hello worldhello']))",
    "id": "461ba653ad2b41f49f5c08af541c1cbb",
    "idx": 24,
    "time": "2020-11-15T20:04:58.657Z",
    "type": "execution"
   },
   {
    "id": "461ba653ad2b41f49f5c08af541c1cbb",
    "time": "2020-11-15T20:04:58.924Z",
    "type": "completion"
   },
   {
    "code": "def words_in_texts(words, texts):\n    '''\n    Args:\n        words (list): words to find\n        texts (Series): strings to search in\n    \n    Returns:\n        NumPy array of 0s and 1s with shape (n, p) where n is the\n        number of texts and p is the number of words.\n    '''\n    indicator_array = [1 if texts.str.contains(i) == True else 0 for words[i]in words]\n    return indicator_array",
    "id": "b8baa8f35d3f401f8b8bd2bb7fc21289",
    "idx": 23,
    "time": "2020-11-15T20:10:23.022Z",
    "type": "execution"
   },
   {
    "id": "b8baa8f35d3f401f8b8bd2bb7fc21289",
    "time": "2020-11-15T20:10:23.110Z",
    "type": "completion"
   },
   {
    "code": "words_in_texts(['hello', 'bye', 'world'],pd.Series(['hello', 'hello worldhello']))",
    "id": "461ba653ad2b41f49f5c08af541c1cbb",
    "idx": 24,
    "time": "2020-11-15T20:10:24.962Z",
    "type": "execution"
   },
   {
    "id": "461ba653ad2b41f49f5c08af541c1cbb",
    "time": "2020-11-15T20:10:25.088Z",
    "type": "completion"
   },
   {
    "code": "def words_in_texts(words, texts):\n    '''\n    Args:\n        words (list): words to find\n        texts (Series): strings to search in\n    \n    Returns:\n        NumPy array of 0s and 1s with shape (n, p) where n is the\n        number of texts and p is the number of words.\n    '''\n    indicator_array = [1 if texts.str.contains(words[i]) == True else 0 for i in words]\n    return indicator_array",
    "id": "b8baa8f35d3f401f8b8bd2bb7fc21289",
    "idx": 23,
    "time": "2020-11-15T20:10:50.111Z",
    "type": "execution"
   },
   {
    "id": "b8baa8f35d3f401f8b8bd2bb7fc21289",
    "time": "2020-11-15T20:10:50.178Z",
    "type": "completion"
   },
   {
    "code": "words_in_texts(['hello', 'bye', 'world'],pd.Series(['hello', 'hello worldhello']))",
    "id": "461ba653ad2b41f49f5c08af541c1cbb",
    "idx": 24,
    "time": "2020-11-15T20:10:52.463Z",
    "type": "execution"
   },
   {
    "id": "461ba653ad2b41f49f5c08af541c1cbb",
    "time": "2020-11-15T20:10:52.588Z",
    "type": "completion"
   },
   {
    "code": "def words_in_texts(words, texts):\n    '''\n    Args:\n        words (list): words to find\n        texts (Series): strings to search in\n    \n    Returns:\n        NumPy array of 0s and 1s with shape (n, p) where n is the\n        number of texts and p is the number of words.\n    '''\n    indicator_array = [1 if texts.str.contains(i) == True else 0 for i in words]\n    return indicator_array",
    "id": "b8baa8f35d3f401f8b8bd2bb7fc21289",
    "idx": 23,
    "time": "2020-11-15T20:18:36.486Z",
    "type": "execution"
   },
   {
    "id": "b8baa8f35d3f401f8b8bd2bb7fc21289",
    "time": "2020-11-15T20:18:36.567Z",
    "type": "completion"
   },
   {
    "code": "words_in_texts(['hello', 'bye', 'world'],pd.Series(['hello', 'hello worldhello']))",
    "id": "461ba653ad2b41f49f5c08af541c1cbb",
    "idx": 24,
    "time": "2020-11-15T20:18:38.026Z",
    "type": "execution"
   },
   {
    "id": "461ba653ad2b41f49f5c08af541c1cbb",
    "time": "2020-11-15T20:18:38.168Z",
    "type": "completion"
   },
   {
    "code": "def words_in_texts(words, texts):\n    '''\n    Args:\n        words (list): words to find\n        texts (Series): strings to search in\n    \n    Returns:\n        NumPy array of 0s and 1s with shape (n, p) where n is the\n        number of texts and p is the number of words.\n    '''\n    indicator_array = [texts.str.contains(i) for i in words]\n    #[1 if texts.str.contains(i) == True else 0 for i in words]\n    return indicator_array",
    "id": "b8baa8f35d3f401f8b8bd2bb7fc21289",
    "idx": 23,
    "time": "2020-11-15T20:23:06.934Z",
    "type": "execution"
   },
   {
    "id": "b8baa8f35d3f401f8b8bd2bb7fc21289",
    "time": "2020-11-15T20:23:07.001Z",
    "type": "completion"
   },
   {
    "code": "def words_in_texts(words, texts):\n    '''\n    Args:\n        words (list): words to find\n        texts (Series): strings to search in\n    \n    Returns:\n        NumPy array of 0s and 1s with shape (n, p) where n is the\n        number of texts and p is the number of words.\n    '''\n    indicator_array = [texts.str.contains(i) for i in words]\n    #[1 if texts.str.contains(i) == True else 0 for i in words]\n    indicator_array = np.array(indicator_array)\n    return indicator_array",
    "id": "b8baa8f35d3f401f8b8bd2bb7fc21289",
    "idx": 23,
    "time": "2020-11-15T20:23:53.534Z",
    "type": "execution"
   },
   {
    "id": "b8baa8f35d3f401f8b8bd2bb7fc21289",
    "time": "2020-11-15T20:23:53.635Z",
    "type": "completion"
   },
   {
    "code": "words_in_texts(['hello', 'bye', 'world'],pd.Series(['hello', 'hello worldhello']))",
    "id": "461ba653ad2b41f49f5c08af541c1cbb",
    "idx": 24,
    "time": "2020-11-15T20:23:54.886Z",
    "type": "execution"
   },
   {
    "id": "461ba653ad2b41f49f5c08af541c1cbb",
    "time": "2020-11-15T20:23:54.982Z",
    "type": "completion"
   },
   {
    "code": "def words_in_texts(words, texts):\n    '''\n    Args:\n        words (list): words to find\n        texts (Series): strings to search in\n    \n    Returns:\n        NumPy array of 0s and 1s with shape (n, p) where n is the\n        number of texts and p is the number of words.\n    '''\n    indicator_array = [texts.str.contains(i) for i in words]\n    #[1 if texts.str.contains(i) == True else 0 for i in words]\n    indicator_array = np.array(indicator_array).T*1\n    return indicator_array",
    "id": "b8baa8f35d3f401f8b8bd2bb7fc21289",
    "idx": 23,
    "time": "2020-11-15T20:24:26.838Z",
    "type": "execution"
   },
   {
    "id": "b8baa8f35d3f401f8b8bd2bb7fc21289",
    "time": "2020-11-15T20:24:26.923Z",
    "type": "completion"
   },
   {
    "code": "words_in_texts(['hello', 'bye', 'world'],pd.Series(['hello', 'hello worldhello']))",
    "id": "461ba653ad2b41f49f5c08af541c1cbb",
    "idx": 24,
    "time": "2020-11-15T20:24:29.742Z",
    "type": "execution"
   },
   {
    "id": "461ba653ad2b41f49f5c08af541c1cbb",
    "time": "2020-11-15T20:24:29.821Z",
    "type": "completion"
   },
   {
    "code": "grader.check(\"q2\")",
    "id": "9c70ea5aa1b143a08b1fae8c5db810ea",
    "idx": 25,
    "time": "2020-11-15T20:24:31.525Z",
    "type": "execution"
   },
   {
    "id": "9c70ea5aa1b143a08b1fae8c5db810ea",
    "time": "2020-11-15T20:24:31.642Z",
    "type": "completion"
   },
   {
    "code": "def words_in_texts(words, texts):\n    '''\n    Args:\n        words (list): words to find\n        texts (Series): strings to search in\n    \n    Returns:\n        NumPy array of 0s and 1s with shape (n, p) where n is the\n        number of texts and p is the number of words.\n    '''\n    indicator_array = [texts.str.contains(i) for i in words]\n    #[1 if texts.str.contains(i) == True else 0 for i in words]\n    indicator_array = np.transpose(np.array(indicator_array))*1\n    return indicator_array",
    "id": "b8baa8f35d3f401f8b8bd2bb7fc21289",
    "idx": 23,
    "time": "2020-11-15T20:25:37.512Z",
    "type": "execution"
   },
   {
    "id": "b8baa8f35d3f401f8b8bd2bb7fc21289",
    "time": "2020-11-15T20:25:37.596Z",
    "type": "completion"
   },
   {
    "code": "words_in_texts(['hello', 'bye', 'world'],pd.Series(['hello', 'hello worldhello']))",
    "id": "461ba653ad2b41f49f5c08af541c1cbb",
    "idx": 24,
    "time": "2020-11-15T20:25:39.262Z",
    "type": "execution"
   },
   {
    "id": "461ba653ad2b41f49f5c08af541c1cbb",
    "time": "2020-11-15T20:25:39.362Z",
    "type": "completion"
   },
   {
    "code": "grader.check(\"q2\")",
    "id": "9c70ea5aa1b143a08b1fae8c5db810ea",
    "idx": 25,
    "time": "2020-11-15T20:25:41.032Z",
    "type": "execution"
   },
   {
    "id": "9c70ea5aa1b143a08b1fae8c5db810ea",
    "time": "2020-11-15T20:25:41.135Z",
    "type": "completion"
   },
   {
    "code": "from IPython.display import display, Markdown\ndf = pd.DataFrame({\n    'word_1': [1, 0, 1, 0],\n    'word_2': [0, 1, 0, 1],\n    'type': ['spam', 'ham', 'ham', 'ham']\n})\ndisplay(Markdown(\"> Our Original DataFrame has a `type` column and some columns corresponding to words. You can think of each row as a sentence, and the value of 1 or 0 indicates the number of occurences of the word in this sentence.\"))\ndisplay(df);\ndisplay(Markdown(\"> `melt` will turn columns into entries in a variable column. Notice how `word_1` and `word_2` become entries in `variable`; their values are stored in the value column.\"))\ndisplay(df.melt(\"type\"))",
    "id": "d3ea1a3d152d4cf2aa0a80163cf80488",
    "idx": 28,
    "time": "2020-11-15T20:38:59.232Z",
    "type": "execution"
   },
   {
    "id": "d3ea1a3d152d4cf2aa0a80163cf80488",
    "time": "2020-11-15T20:38:59.358Z",
    "type": "completion"
   }
  ],
  "kernelspec": {
   "display_name": "Python 3",
   "language": "python",
   "name": "python3"
  },
  "language_info": {
   "codemirror_mode": {
    "name": "ipython",
    "version": 3
   },
   "file_extension": ".py",
   "mimetype": "text/x-python",
   "name": "python",
   "nbconvert_exporter": "python",
   "pygments_lexer": "ipython3",
   "version": "3.8.6"
  }
 },
 "nbformat": 4,
 "nbformat_minor": 2
}
